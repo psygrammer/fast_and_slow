{
  "nbformat": 4,
  "nbformat_minor": 0,
  "metadata": {
    "colab": {
      "name": "ch09_Deep_Q_Network_and_Its_Variants.ipynb",
      "provenance": [],
      "authorship_tag": "ABX9TyP4xcMnxznZryl4Qvdwzk1d",
      "include_colab_link": true
    },
    "kernelspec": {
      "name": "python3",
      "display_name": "Python 3"
    },
    "accelerator": "GPU"
  },
  "cells": [
    {
      "cell_type": "markdown",
      "metadata": {
        "id": "view-in-github",
        "colab_type": "text"
      },
      "source": [
        "<a href=\"https://colab.research.google.com/github/psygrammer/fast_and_slow/blob/master/drl/notebooks/dqn/tf_ch09_Deep_Q_Network_and_Its_Variants.ipynb\" target=\"_parent\"><img src=\"https://colab.research.google.com/assets/colab-badge.svg\" alt=\"Open In Colab\"/></a>"
      ]
    },
    {
      "cell_type": "markdown",
      "metadata": {
        "id": "0xX90H-jxnBW"
      },
      "source": [
        "# 9. Deep Q Network and Its Variants"
      ]
    },
    {
      "cell_type": "markdown",
      "metadata": {
        "id": "xeRH8DQY4ZkH"
      },
      "source": [
        "* Fast And Slow / Deep RL - tf2 [1]\n",
        "* 김무성"
      ]
    },
    {
      "cell_type": "markdown",
      "metadata": {
        "id": "vUtPV6FH4lac"
      },
      "source": [
        "#### 실습 repo"
      ]
    },
    {
      "cell_type": "code",
      "metadata": {
        "id": "suZEO7Cm4ifc",
        "outputId": "fac2ef0c-b203-4bce-c252-cd376a827d3e",
        "colab": {
          "base_uri": "https://localhost:8080/"
        }
      },
      "source": [
        "!git clone https://github.com/psygrammer/fast_and_slow"
      ],
      "execution_count": 4,
      "outputs": [
        {
          "output_type": "stream",
          "text": [
            "Cloning into 'fast_and_slow'...\n",
            "remote: Enumerating objects: 59, done.\u001b[K\n",
            "remote: Counting objects: 100% (59/59), done.\u001b[K\n",
            "remote: Compressing objects: 100% (34/34), done.\u001b[K\n",
            "remote: Total 59 (delta 13), reused 43 (delta 10), pack-reused 0\u001b[K\n",
            "Unpacking objects: 100% (59/59), done.\n"
          ],
          "name": "stdout"
        }
      ]
    },
    {
      "cell_type": "code",
      "metadata": {
        "id": "v3iJQ5iv42c0",
        "outputId": "b98d1b86-0f57-4554-bb59-11a158a605d5",
        "colab": {
          "base_uri": "https://localhost:8080/"
        }
      },
      "source": [
        "ls"
      ],
      "execution_count": 5,
      "outputs": [
        {
          "output_type": "stream",
          "text": [
            "\u001b[0m\u001b[01;34mfast_and_slow\u001b[0m/  \u001b[01;34msample_data\u001b[0m/\n"
          ],
          "name": "stdout"
        }
      ]
    },
    {
      "cell_type": "code",
      "metadata": {
        "id": "1q7Po6ms43gR",
        "outputId": "bd120e7c-2877-4a7b-ee6a-172d11753fdf",
        "colab": {
          "base_uri": "https://localhost:8080/"
        }
      },
      "source": [
        "cd /content/fast_and_slow/drl/notebooks/dqn"
      ],
      "execution_count": 13,
      "outputs": [
        {
          "output_type": "stream",
          "text": [
            "/content/fast_and_slow/drl/notebooks/dqn\n"
          ],
          "name": "stdout"
        }
      ]
    },
    {
      "cell_type": "code",
      "metadata": {
        "id": "aqq5QUnP45LZ",
        "outputId": "29648e12-e0f9-4b2d-eda1-3bfc637dab4a",
        "colab": {
          "base_uri": "https://localhost:8080/"
        }
      },
      "source": [
        "ls"
      ],
      "execution_count": 14,
      "outputs": [
        {
          "output_type": "stream",
          "text": [
            "tf_ch09_Deep_Q_Network_and_Its_Variants.ipynb\n"
          ],
          "name": "stdout"
        }
      ]
    },
    {
      "cell_type": "markdown",
      "metadata": {
        "id": "Nto5nZDK5F3T"
      },
      "source": [
        "#### Install dependancies"
      ]
    },
    {
      "cell_type": "code",
      "metadata": {
        "id": "75bV0Qza5DE-"
      },
      "source": [
        "#remove \" > /dev/null 2>&1\" to see what is going on under the hood\n",
        "!pip install gym pyvirtualdisplay > /dev/null 2>&1\n",
        "!pip install pyglet==1.3.2 > /dev/null 2>&1\n",
        "!apt-get install -y xvfb x11-utils python-opengl ffmpeg > /dev/null 2>&1"
      ],
      "execution_count": 15,
      "outputs": []
    },
    {
      "cell_type": "markdown",
      "metadata": {
        "id": "mrEgk8315m2m"
      },
      "source": [
        "#### Imports and Helper functions"
      ]
    },
    {
      "cell_type": "code",
      "metadata": {
        "id": "UHa4_Xkw6xah"
      },
      "source": [
        "import gym\n",
        "from gym import logger as gymlogger\n",
        "from gym.wrappers import Monitor\n",
        "gymlogger.set_level(40) #error only"
      ],
      "execution_count": 22,
      "outputs": []
    },
    {
      "cell_type": "code",
      "metadata": {
        "id": "dvp5FfH05xFL",
        "outputId": "5f0597c5-f6c3-4f74-e222-535520b6416a",
        "colab": {
          "base_uri": "https://localhost:8080/"
        }
      },
      "source": [
        "from pyvirtualdisplay import Display\n",
        "display = Display(visible=0, size=(1400, 900))\n",
        "display.start()"
      ],
      "execution_count": 16,
      "outputs": [
        {
          "output_type": "execute_result",
          "data": {
            "text/plain": [
              "<pyvirtualdisplay.display.Display at 0x7f93cfdaded0>"
            ]
          },
          "metadata": {
            "tags": []
          },
          "execution_count": 16
        }
      ]
    },
    {
      "cell_type": "code",
      "metadata": {
        "id": "-0Eg1IX55xr7"
      },
      "source": [
        "\"\"\"\n",
        "Utility functions to enable video recording of gym environment and displaying it\n",
        "To enable video, just do \"env = wrap_env(env)\"\"\n",
        "\"\"\"\n",
        "\n",
        "def show_video():\n",
        "  mp4list = glob.glob('video/*.mp4')\n",
        "  if len(mp4list) > 0:\n",
        "    mp4 = mp4list[0]\n",
        "    video = io.open(mp4, 'r+b').read()\n",
        "    encoded = base64.b64encode(video)\n",
        "    ipythondisplay.display(HTML(data='''<video alt=\"test\" autoplay \n",
        "                loop controls style=\"height: 400px;\">\n",
        "                <source src=\"data:video/mp4;base64,{0}\" type=\"video/mp4\" />\n",
        "             </video>'''.format(encoded.decode('ascii'))))\n",
        "  else: \n",
        "    print(\"Could not find video\")\n",
        "    \n",
        "\n",
        "def wrap_env(env):\n",
        "  env = Monitor(env, './video', force=True)\n",
        "  return env"
      ],
      "execution_count": 17,
      "outputs": []
    },
    {
      "cell_type": "markdown",
      "metadata": {
        "id": "NAMblZ-i6F6J"
      },
      "source": [
        "-------------------"
      ]
    },
    {
      "cell_type": "markdown",
      "metadata": {
        "id": "GRfOJd2o6KUd"
      },
      "source": [
        "# Playing Atari games using DQN\n",
        "\n"
      ]
    },
    {
      "cell_type": "code",
      "metadata": {
        "id": "rWOJKiQIxd60",
        "outputId": "87420c46-0533-4656-f21f-0abfdc2bb42f",
        "colab": {
          "base_uri": "https://localhost:8080/"
        }
      },
      "source": [
        "import tensorflow as tf\n",
        "print(tf.__version__)"
      ],
      "execution_count": 18,
      "outputs": [
        {
          "output_type": "stream",
          "text": [
            "2.4.1\n"
          ],
          "name": "stdout"
        }
      ]
    },
    {
      "cell_type": "code",
      "metadata": {
        "id": "k-y6lzFU17PX"
      },
      "source": [
        "# Let's implement the DQN to play the Ms Pacman game. \n",
        "# First, let's import the necessary libraries:\n",
        "import random\n",
        "import gym\n",
        "import numpy as np\n",
        "from collections import deque\n",
        "from tensorflow.keras.models import Sequential\n",
        "from tensorflow.keras.layers import Dense, Activation, Flatten, Conv2D, MaxPooling2D\n",
        "from tensorflow.keras.optimizers import Adam"
      ],
      "execution_count": 19,
      "outputs": []
    },
    {
      "cell_type": "code",
      "metadata": {
        "id": "mQehiT0A511m"
      },
      "source": [
        "# Now, let's create the Ms Pacman game environment using Gym:\n",
        "env = gym.make(\"MsPacman-v0\")"
      ],
      "execution_count": 20,
      "outputs": []
    },
    {
      "cell_type": "code",
      "metadata": {
        "id": "bQ8guDkS6c7F"
      },
      "source": [
        "env = wrap_env(env) # monitoring"
      ],
      "execution_count": 23,
      "outputs": []
    },
    {
      "cell_type": "code",
      "metadata": {
        "id": "5NwUSlI265LQ",
        "outputId": "b2b97c9b-c792-4584-f10d-fb863c439010",
        "colab": {
          "base_uri": "https://localhost:8080/"
        }
      },
      "source": [
        "env.observation_space"
      ],
      "execution_count": 27,
      "outputs": [
        {
          "output_type": "execute_result",
          "data": {
            "text/plain": [
              "Box(0, 255, (210, 160, 3), uint8)"
            ]
          },
          "metadata": {
            "tags": []
          },
          "execution_count": 27
        }
      ]
    },
    {
      "cell_type": "code",
      "metadata": {
        "id": "ygdSJHpy6mLx"
      },
      "source": [
        "# Set the state size:\n",
        "state_size = (88, 80, 1)"
      ],
      "execution_count": 24,
      "outputs": []
    },
    {
      "cell_type": "code",
      "metadata": {
        "id": "dPTc97r662cx"
      },
      "source": [
        "# Get the number of actions:\n",
        "action_size = env.action_space.n"
      ],
      "execution_count": 25,
      "outputs": []
    },
    {
      "cell_type": "markdown",
      "metadata": {
        "id": "sGVoUKg67XZo"
      },
      "source": [
        "#### Preprocess the game screen"
      ]
    },
    {
      "cell_type": "markdown",
      "metadata": {
        "id": "1DSZAzbd72y2"
      },
      "source": [
        "Now, let's define a function called preprocess_state which takes the game state (image of the game screen) as an input and returns the preprocessed game state (image of the game screen):"
      ]
    },
    {
      "cell_type": "code",
      "metadata": {
        "id": "kr6uAbeF636R",
        "outputId": "45a6d5e6-cc96-4e52-8be7-49080f269748",
        "colab": {
          "base_uri": "https://localhost:8080/"
        }
      },
      "source": [
        "color = np.array([210, 164, 74]).mean()\n",
        "color"
      ],
      "execution_count": 28,
      "outputs": [
        {
          "output_type": "execute_result",
          "data": {
            "text/plain": [
              "149.33333333333334"
            ]
          },
          "metadata": {
            "tags": []
          },
          "execution_count": 28
        }
      ]
    },
    {
      "cell_type": "code",
      "metadata": {
        "id": "CvzWPB507rxF"
      },
      "source": [
        "def preprocess_state(state):\n",
        "\n",
        "    #crop and resize the image\n",
        "    image = state[1:176:2, ::2]\n",
        "\n",
        "    #convert the image to greyscale\n",
        "    image = image.mean(axis=2)\n",
        "\n",
        "    #improve image contrast\n",
        "    image[image==color] = 0\n",
        "\n",
        "    #normalize the image\n",
        "    image = (image - 128) / 128 - 1\n",
        "    \n",
        "    #reshape the image\n",
        "    image = np.expand_dims(image.reshape(88, 80, 1), axis=0)\n",
        "\n",
        "    return image\n"
      ],
      "execution_count": 29,
      "outputs": []
    },
    {
      "cell_type": "code",
      "metadata": {
        "id": "U8AX2mwx74_u"
      },
      "source": [
        ""
      ],
      "execution_count": null,
      "outputs": []
    }
  ]
}