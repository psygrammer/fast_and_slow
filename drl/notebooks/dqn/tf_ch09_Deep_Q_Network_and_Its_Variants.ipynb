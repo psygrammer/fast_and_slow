{
  "nbformat": 4,
  "nbformat_minor": 0,
  "metadata": {
    "colab": {
      "name": "ch09_Deep_Q_Network_and_Its_Variants.ipynb",
      "provenance": [],
      "authorship_tag": "ABX9TyNuQiqWAUqGgKuVHOniXo86",
      "include_colab_link": true
    },
    "kernelspec": {
      "name": "python3",
      "display_name": "Python 3"
    }
  },
  "cells": [
    {
      "cell_type": "markdown",
      "metadata": {
        "id": "view-in-github",
        "colab_type": "text"
      },
      "source": [
        "<a href=\"https://colab.research.google.com/github/psygrammer/fast_and_slow/blob/master/drl/notebooks/dqn/tf_ch09_Deep_Q_Network_and_Its_Variants.ipynb\" target=\"_parent\"><img src=\"https://colab.research.google.com/assets/colab-badge.svg\" alt=\"Open In Colab\"/></a>"
      ]
    },
    {
      "cell_type": "markdown",
      "metadata": {
        "id": "0xX90H-jxnBW"
      },
      "source": [
        "# 9. Deep Q Network and Its Variants"
      ]
    },
    {
      "cell_type": "code",
      "metadata": {
        "id": "rWOJKiQIxd60"
      },
      "source": [
        ""
      ],
      "execution_count": null,
      "outputs": []
    }
  ]
}