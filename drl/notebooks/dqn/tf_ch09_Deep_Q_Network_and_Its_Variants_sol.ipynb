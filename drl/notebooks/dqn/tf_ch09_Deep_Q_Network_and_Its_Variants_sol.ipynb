{
  "nbformat": 4,
  "nbformat_minor": 0,
  "metadata": {
    "colab": {
      "name": "ch09_Deep_Q_Network_and_Its_Variants.ipynb",
      "provenance": [],
      "toc_visible": true,
      "authorship_tag": "ABX9TyOmx7WoaJn9c7a91M/liau9",
      "include_colab_link": true
    },
    "kernelspec": {
      "name": "python3",
      "display_name": "Python 3"
    },
    "accelerator": "GPU"
  },
  "cells": [
    {
      "cell_type": "markdown",
      "metadata": {
        "id": "view-in-github",
        "colab_type": "text"
      },
      "source": [
        "<a href=\"https://colab.research.google.com/github/psygrammer/fast_and_slow/blob/master/drl/notebooks/dqn/tf_ch09_Deep_Q_Network_and_Its_Variants_sol.ipynb\" target=\"_parent\"><img src=\"https://colab.research.google.com/assets/colab-badge.svg\" alt=\"Open In Colab\"/></a>"
      ]
    },
    {
      "cell_type": "markdown",
      "metadata": {
        "id": "0xX90H-jxnBW"
      },
      "source": [
        "# 9. Deep Q Network and Its Variants (sol)"
      ]
    },
    {
      "cell_type": "markdown",
      "metadata": {
        "id": "xeRH8DQY4ZkH"
      },
      "source": [
        "* Fast And Slow / Deep RL - tf2 [1]\n",
        "* 김무성"
      ]
    },
    {
      "cell_type": "markdown",
      "metadata": {
        "id": "vUtPV6FH4lac"
      },
      "source": [
        "#### 실습 repo"
      ]
    },
    {
      "cell_type": "code",
      "metadata": {
        "colab": {
          "base_uri": "https://localhost:8080/"
        },
        "id": "suZEO7Cm4ifc",
        "outputId": "fac2ef0c-b203-4bce-c252-cd376a827d3e"
      },
      "source": [
        "!git clone https://github.com/psygrammer/fast_and_slow"
      ],
      "execution_count": null,
      "outputs": [
        {
          "output_type": "stream",
          "text": [
            "Cloning into 'fast_and_slow'...\n",
            "remote: Enumerating objects: 59, done.\u001b[K\n",
            "remote: Counting objects: 100% (59/59), done.\u001b[K\n",
            "remote: Compressing objects: 100% (34/34), done.\u001b[K\n",
            "remote: Total 59 (delta 13), reused 43 (delta 10), pack-reused 0\u001b[K\n",
            "Unpacking objects: 100% (59/59), done.\n"
          ],
          "name": "stdout"
        }
      ]
    },
    {
      "cell_type": "code",
      "metadata": {
        "colab": {
          "base_uri": "https://localhost:8080/"
        },
        "id": "v3iJQ5iv42c0",
        "outputId": "22913198-9aa3-46ac-c9a2-c6cdcd8c9649"
      },
      "source": [
        "ls"
      ],
      "execution_count": null,
      "outputs": [
        {
          "output_type": "stream",
          "text": [
            "\u001b[0m\u001b[01;34mfast_and_slow\u001b[0m/  \u001b[01;34msample_data\u001b[0m/\n"
          ],
          "name": "stdout"
        }
      ]
    },
    {
      "cell_type": "code",
      "metadata": {
        "colab": {
          "base_uri": "https://localhost:8080/"
        },
        "id": "1q7Po6ms43gR",
        "outputId": "f47d6b0e-1197-4048-9e94-0c2ba2da953a"
      },
      "source": [
        "cd /content/fast_and_slow/drl/notebooks/dqn"
      ],
      "execution_count": null,
      "outputs": [
        {
          "output_type": "stream",
          "text": [
            "/content/fast_and_slow/drl/notebooks/dqn\n"
          ],
          "name": "stdout"
        }
      ]
    },
    {
      "cell_type": "code",
      "metadata": {
        "colab": {
          "base_uri": "https://localhost:8080/"
        },
        "id": "aqq5QUnP45LZ",
        "outputId": "8aab8985-3276-43d0-80e9-d536e5c9cbeb"
      },
      "source": [
        "ls"
      ],
      "execution_count": null,
      "outputs": [
        {
          "output_type": "stream",
          "text": [
            "tf_ch09_Deep_Q_Network_and_Its_Variants.ipynb  \u001b[0m\u001b[01;34mvideo\u001b[0m/\n"
          ],
          "name": "stdout"
        }
      ]
    },
    {
      "cell_type": "markdown",
      "metadata": {
        "id": "Nto5nZDK5F3T"
      },
      "source": [
        "#### Install dependancies"
      ]
    },
    {
      "cell_type": "code",
      "metadata": {
        "id": "75bV0Qza5DE-"
      },
      "source": [
        "#remove \" > /dev/null 2>&1\" to see what is going on under the hood\n",
        "!pip install gym pyvirtualdisplay > /dev/null 2>&1\n",
        "!pip install pyglet==1.3.2 > /dev/null 2>&1\n",
        "!apt-get install -y xvfb x11-utils python-opengl ffmpeg > /dev/null 2>&1"
      ],
      "execution_count": null,
      "outputs": []
    },
    {
      "cell_type": "markdown",
      "metadata": {
        "id": "mrEgk8315m2m"
      },
      "source": [
        "#### Imports and Helper functions"
      ]
    },
    {
      "cell_type": "code",
      "metadata": {
        "id": "UHa4_Xkw6xah"
      },
      "source": [
        "import gym\n",
        "from gym import logger as gymlogger\n",
        "from gym.wrappers import Monitor\n",
        "gymlogger.set_level(40) #error only\n",
        "\n",
        "import math\n",
        "import glob\n",
        "import io\n",
        "import base64\n",
        "from IPython.display import HTML\n",
        "\n",
        "from IPython import display as ipythondisplay"
      ],
      "execution_count": null,
      "outputs": []
    },
    {
      "cell_type": "code",
      "metadata": {
        "colab": {
          "base_uri": "https://localhost:8080/"
        },
        "id": "dvp5FfH05xFL",
        "outputId": "7b22a389-4c38-460c-9fb8-0e4e062fc170"
      },
      "source": [
        "from pyvirtualdisplay import Display\n",
        "display = Display(visible=0, size=(1400, 900))\n",
        "display.start()"
      ],
      "execution_count": null,
      "outputs": [
        {
          "output_type": "execute_result",
          "data": {
            "text/plain": [
              "<pyvirtualdisplay.display.Display at 0x7f1465cccdd0>"
            ]
          },
          "metadata": {
            "tags": []
          },
          "execution_count": 6
        }
      ]
    },
    {
      "cell_type": "code",
      "metadata": {
        "id": "-0Eg1IX55xr7"
      },
      "source": [
        "\"\"\"\n",
        "Utility functions to enable video recording of gym environment and displaying it\n",
        "To enable video, just do \"env = wrap_env(env)\"\"\n",
        "\"\"\"\n",
        "\n",
        "def show_video():\n",
        "  mp4list = glob.glob('video/*.mp4')\n",
        "  if len(mp4list) > 0:\n",
        "    mp4 = mp4list[0]\n",
        "    video = io.open(mp4, 'r+b').read()\n",
        "    encoded = base64.b64encode(video)\n",
        "    ipythondisplay.display(HTML(data='''<video alt=\"test\" autoplay \n",
        "                loop controls style=\"height: 400px;\">\n",
        "                <source src=\"data:video/mp4;base64,{0}\" type=\"video/mp4\" />\n",
        "             </video>'''.format(encoded.decode('ascii'))))\n",
        "  else: \n",
        "    print(\"Could not find video\")\n",
        "    \n",
        "\n",
        "def wrap_env(env):\n",
        "  env = Monitor(env, './video', force=True)\n",
        "  return env"
      ],
      "execution_count": null,
      "outputs": []
    },
    {
      "cell_type": "markdown",
      "metadata": {
        "id": "NAMblZ-i6F6J"
      },
      "source": [
        "-------------------"
      ]
    },
    {
      "cell_type": "markdown",
      "metadata": {
        "id": "GRfOJd2o6KUd"
      },
      "source": [
        "# Playing Atari games using DQN\n",
        "\n"
      ]
    },
    {
      "cell_type": "code",
      "metadata": {
        "id": "rWOJKiQIxd60",
        "colab": {
          "base_uri": "https://localhost:8080/"
        },
        "outputId": "87420c46-0533-4656-f21f-0abfdc2bb42f"
      },
      "source": [
        "import tensorflow as tf\n",
        "print(tf.__version__)"
      ],
      "execution_count": null,
      "outputs": [
        {
          "output_type": "stream",
          "text": [
            "2.4.1\n"
          ],
          "name": "stdout"
        }
      ]
    },
    {
      "cell_type": "code",
      "metadata": {
        "id": "k-y6lzFU17PX"
      },
      "source": [
        "# Let's implement the DQN to play the Ms Pacman game. \n",
        "# First, let's import the necessary libraries:\n",
        "import random\n",
        "import gym\n",
        "import numpy as np\n",
        "from collections import deque\n",
        "from tensorflow.keras.models import Sequential\n",
        "from tensorflow.keras.layers import Dense, Activation, Flatten, Conv2D, MaxPooling2D\n",
        "from tensorflow.keras.optimizers import Adam"
      ],
      "execution_count": null,
      "outputs": []
    },
    {
      "cell_type": "code",
      "metadata": {
        "id": "mQehiT0A511m"
      },
      "source": [
        "# Now, let's create the Ms Pacman game environment using Gym:\n",
        "env = gym.make(\"MsPacman-v0\")"
      ],
      "execution_count": null,
      "outputs": []
    },
    {
      "cell_type": "code",
      "metadata": {
        "id": "bQ8guDkS6c7F"
      },
      "source": [
        "env = wrap_env(env) # monitoring"
      ],
      "execution_count": null,
      "outputs": []
    },
    {
      "cell_type": "code",
      "metadata": {
        "colab": {
          "base_uri": "https://localhost:8080/"
        },
        "id": "5NwUSlI265LQ",
        "outputId": "b2b97c9b-c792-4584-f10d-fb863c439010"
      },
      "source": [
        "env.observation_space"
      ],
      "execution_count": null,
      "outputs": [
        {
          "output_type": "execute_result",
          "data": {
            "text/plain": [
              "Box(0, 255, (210, 160, 3), uint8)"
            ]
          },
          "metadata": {
            "tags": []
          },
          "execution_count": 27
        }
      ]
    },
    {
      "cell_type": "code",
      "metadata": {
        "id": "ygdSJHpy6mLx"
      },
      "source": [
        "# Set the state size:\n",
        "state_size = (88, 80, 1)"
      ],
      "execution_count": null,
      "outputs": []
    },
    {
      "cell_type": "code",
      "metadata": {
        "id": "dPTc97r662cx"
      },
      "source": [
        "# Get the number of actions:\n",
        "action_size = env.action_space.n"
      ],
      "execution_count": null,
      "outputs": []
    },
    {
      "cell_type": "markdown",
      "metadata": {
        "id": "sGVoUKg67XZo"
      },
      "source": [
        "## Preprocess the game screen"
      ]
    },
    {
      "cell_type": "markdown",
      "metadata": {
        "id": "1DSZAzbd72y2"
      },
      "source": [
        "Now, let's define a function called preprocess_state which takes the game state (image of the game screen) as an input and returns the preprocessed game state (image of the game screen):"
      ]
    },
    {
      "cell_type": "code",
      "metadata": {
        "colab": {
          "base_uri": "https://localhost:8080/"
        },
        "id": "kr6uAbeF636R",
        "outputId": "45a6d5e6-cc96-4e52-8be7-49080f269748"
      },
      "source": [
        "color = np.array([210, 164, 74]).mean()\n",
        "color"
      ],
      "execution_count": null,
      "outputs": [
        {
          "output_type": "execute_result",
          "data": {
            "text/plain": [
              "149.33333333333334"
            ]
          },
          "metadata": {
            "tags": []
          },
          "execution_count": 28
        }
      ]
    },
    {
      "cell_type": "code",
      "metadata": {
        "id": "CvzWPB507rxF"
      },
      "source": [
        "def preprocess_state(state):\n",
        "\n",
        "    #crop and resize the image\n",
        "    image = state[1:176:2, ::2]\n",
        "\n",
        "    #convert the image to greyscale\n",
        "    image = image.mean(axis=2)\n",
        "\n",
        "    #improve image contrast\n",
        "    image[image==color] = 0\n",
        "\n",
        "    #normalize the image\n",
        "    image = (image - 128) / 128 - 1\n",
        "    \n",
        "    #reshape the image\n",
        "    image = np.expand_dims(image.reshape(88, 80, 1), axis=0)\n",
        "\n",
        "    return image\n"
      ],
      "execution_count": null,
      "outputs": []
    },
    {
      "cell_type": "markdown",
      "metadata": {
        "id": "8YmvULti9j8y"
      },
      "source": [
        "## Defining the DQN class"
      ]
    },
    {
      "cell_type": "code",
      "metadata": {
        "id": "U8AX2mwx74_u"
      },
      "source": [
        "class DQN:\n",
        "    # -- Defining the init method\n",
        "    def __init__(self, state_size, action_size):\n",
        "        \n",
        "        #define the state size\n",
        "        self.state_size = state_size\n",
        "        \n",
        "        #define the action size\n",
        "        self.action_size = action_size\n",
        "        \n",
        "        #define the replay buffer\n",
        "        self.replay_buffer = deque(maxlen=5000)\n",
        "        \n",
        "        #define the discount factor\n",
        "        self.gamma = 0.9  \n",
        "        \n",
        "        #define the epsilon value\n",
        "        self.epsilon = 0.8   \n",
        "        \n",
        "        #define the update rate at which we want to update the target network\n",
        "        self.update_rate = 1000    \n",
        "        \n",
        "        #define the main network\n",
        "        self.main_network = self.build_network()\n",
        "        \n",
        "        #define the target network\n",
        "        self.target_network = self.build_network()\n",
        "        \n",
        "        #copy the weights of the main network to the target network\n",
        "        self.target_network.set_weights(self.main_network.get_weights())\n",
        "        \n",
        "\n",
        "    # -- Building the DQN\n",
        "    #Let's define a function called build_network which is essentially our DQN. \n",
        "\n",
        "    def build_network(self):\n",
        "        # Define the first convolutional layer:\n",
        "        model = Sequential()\n",
        "        model.add(Conv2D(32, (8, 8), strides=4, padding='same', input_shape=self.state_size))\n",
        "        model.add(Activation('relu'))\n",
        "        \n",
        "        # Define the second convolutional layer:\n",
        "        model.add(Conv2D(64, (4, 4), strides=2, padding='same'))\n",
        "        model.add(Activation('relu'))\n",
        "        \n",
        "        # Define the third convolutional layer:\n",
        "        model.add(Conv2D(64, (3, 3), strides=1, padding='same'))\n",
        "        model.add(Activation('relu'))\n",
        "\n",
        "        #Flatten the feature maps obtained as a result of the third convolutional layer:\n",
        "        model.add(Flatten())\n",
        "\n",
        "        # Feed the flattened maps to the fully connected layer:\n",
        "        model.add(Dense(512, activation='relu'))\n",
        "        model.add(Dense(self.action_size, activation='linear'))\n",
        "        \n",
        "        # Compile the model with loss as MSE:\n",
        "        model.compile(loss='mse', optimizer=Adam())\n",
        "\n",
        "        # Return the model:\n",
        "        return model\n",
        "\n",
        "\n",
        "    # -- Storing the transition\n",
        "    #We learned that we train DQN by randomly sampling a minibatch of transitions from the\n",
        "    #replay buffer. So, we define a function called store_transition which stores the transition information\n",
        "    #into the replay buffer\n",
        "\n",
        "    def store_transistion(self, state, action, reward, next_state, done):\n",
        "        self.replay_buffer.append((state, action, reward, next_state, done))\n",
        "        \n",
        "\n",
        "    # -- Defining the epsilon-greedy policy\n",
        "    #We learned that in DQN, to take care of exploration-exploitation trade off, we select action\n",
        "    #using the epsilon-greedy policy. So, now we define the function called epsilon_greedy\n",
        "    #for selecting action using the epsilon-greedy policy.\n",
        "    \n",
        "    def epsilon_greedy(self, state):\n",
        "        if random.uniform(0,1) < self.epsilon:\n",
        "            return np.random.randint(self.action_size)\n",
        "        \n",
        "        Q_values = self.main_network.predict(state)\n",
        "        \n",
        "        return np.argmax(Q_values[0])\n",
        "\n",
        "\n",
        "    # -- Define the training\n",
        "    #train the network\n",
        "    def train(self, batch_size):\n",
        "        \n",
        "        #sample a mini batch of transition from the replay buffer\n",
        "        minibatch = random.sample(self.replay_buffer, batch_size)\n",
        "        \n",
        "        #compute the Q value using the target network\n",
        "        for state, action, reward, next_state, done in minibatch:\n",
        "            if not done:\n",
        "                target_Q = (reward + self.gamma * np.amax(self.target_network.predict(next_state)))\n",
        "            else:\n",
        "                target_Q = reward\n",
        "                \n",
        "            #compute the Q value using the main network \n",
        "            Q_values = self.main_network.predict(state)\n",
        "            \n",
        "            Q_values[0][action] = target_Q\n",
        "            \n",
        "            #train the main network\n",
        "            self.main_network.fit(state, Q_values, epochs=1, verbose=0)\n",
        "            \n",
        "    #update the target network weights by copying from the main network\n",
        "    def update_target_network(self):\n",
        "        self.target_network.set_weights(self.main_network.get_weights())"
      ],
      "execution_count": null,
      "outputs": []
    },
    {
      "cell_type": "markdown",
      "metadata": {
        "id": "A6q_Yx47-xwz"
      },
      "source": [
        "## Training the DQN"
      ]
    },
    {
      "cell_type": "code",
      "metadata": {
        "id": "GF_n_V65_DN4"
      },
      "source": [
        "# Now, let's train the network. \n",
        "# First, let's set the number of episodes we want to train the network:\n",
        "num_episodes = 500"
      ],
      "execution_count": null,
      "outputs": []
    },
    {
      "cell_type": "code",
      "metadata": {
        "id": "pLtcvNYO_MPl"
      },
      "source": [
        "# Define the number of time steps\n",
        "num_timesteps = 20000"
      ],
      "execution_count": null,
      "outputs": []
    },
    {
      "cell_type": "code",
      "metadata": {
        "id": "Jk2AJlPA_PwM"
      },
      "source": [
        "# Define the batch size:\n",
        "batch_size = 8"
      ],
      "execution_count": null,
      "outputs": []
    },
    {
      "cell_type": "code",
      "metadata": {
        "id": "t1ZWRdoF_SxB"
      },
      "source": [
        "# Set the number of past game screens we want to consider:\n",
        "num_screens = 4"
      ],
      "execution_count": null,
      "outputs": []
    },
    {
      "cell_type": "code",
      "metadata": {
        "colab": {
          "base_uri": "https://localhost:8080/"
        },
        "id": "yNqVxzfj_VhF",
        "outputId": "0605d3e0-dbef-41af-fc62-4c246c42145f"
      },
      "source": [
        "ls"
      ],
      "execution_count": null,
      "outputs": [
        {
          "output_type": "stream",
          "text": [
            "tf_ch09_Deep_Q_Network_and_Its_Variants.ipynb  \u001b[0m\u001b[01;34mvideo\u001b[0m/\n"
          ],
          "name": "stdout"
        }
      ]
    },
    {
      "cell_type": "code",
      "metadata": {
        "id": "OQOAlrOQAV-I"
      },
      "source": [
        "ls video"
      ],
      "execution_count": null,
      "outputs": []
    },
    {
      "cell_type": "code",
      "metadata": {
        "id": "Jv0fEXFpAXU_"
      },
      "source": [
        "# Instantiate the DQN class\n",
        "dqn = DQN(state_size, action_size)"
      ],
      "execution_count": null,
      "outputs": []
    },
    {
      "cell_type": "code",
      "metadata": {
        "colab": {
          "base_uri": "https://localhost:8080/",
          "height": 341
        },
        "id": "nZi8E8EVAg5i",
        "outputId": "091dcf1c-9bd3-4b4d-9069-193bd3867eb7"
      },
      "source": [
        "done = False\n",
        "time_step = 0\n",
        "\n",
        "#for each episode\n",
        "for i in range(num_episodes):\n",
        "    #set return to 0\n",
        "    Return = 0\n",
        "    \n",
        "    #preprocess the game screen\n",
        "    state = preprocess_state(env.reset())\n",
        "\n",
        "    #for each step in the episode\n",
        "    for t in range(num_timesteps):\n",
        "        \n",
        "        #render the environment\n",
        "        env.render()\n",
        "        \n",
        "        #update the time step\n",
        "        time_step += 1\n",
        "        \n",
        "        #update the target network\n",
        "        if time_step % dqn.update_rate == 0:\n",
        "            dqn.update_target_network()\n",
        "        \n",
        "        #select the action\n",
        "        action = dqn.epsilon_greedy(state)\n",
        "        \n",
        "        #perform the selected action\n",
        "        next_state, reward, done, _ = env.step(action)\n",
        "        \n",
        "        #preprocess the next state\n",
        "        next_state = preprocess_state(next_state)\n",
        "        \n",
        "        #store the transition information\n",
        "        dqn.store_transistion(state, action, reward, next_state, done)\n",
        "        \n",
        "        #update current state to next state\n",
        "        state = next_state\n",
        "        \n",
        "        #update the return\n",
        "        Return += reward\n",
        "        \n",
        "        #if the episode is done then print the return\n",
        "        if done:\n",
        "            print('Episode: ',i, ',' 'Return', Return)\n",
        "            break\n",
        "            \n",
        "        #if the number of transistions in the replay buffer is greater than batch size\n",
        "        #then train the network\n",
        "        if len(dqn.replay_buffer) > batch_size:\n",
        "            dqn.train(batch_size)"
      ],
      "execution_count": null,
      "outputs": [
        {
          "output_type": "error",
          "ename": "KeyboardInterrupt",
          "evalue": "ignored",
          "traceback": [
            "\u001b[0;31m---------------------------------------------------------------------------\u001b[0m",
            "\u001b[0;31mKeyboardInterrupt\u001b[0m                         Traceback (most recent call last)",
            "\u001b[0;32m<ipython-input-41-56c700fbdadd>\u001b[0m in \u001b[0;36m<module>\u001b[0;34m()\u001b[0m\n\u001b[1;32m     50\u001b[0m         \u001b[0;31m#then train the network\u001b[0m\u001b[0;34m\u001b[0m\u001b[0;34m\u001b[0m\u001b[0;34m\u001b[0m\u001b[0m\n\u001b[1;32m     51\u001b[0m         \u001b[0;32mif\u001b[0m \u001b[0mlen\u001b[0m\u001b[0;34m(\u001b[0m\u001b[0mdqn\u001b[0m\u001b[0;34m.\u001b[0m\u001b[0mreplay_buffer\u001b[0m\u001b[0;34m)\u001b[0m \u001b[0;34m>\u001b[0m \u001b[0mbatch_size\u001b[0m\u001b[0;34m:\u001b[0m\u001b[0;34m\u001b[0m\u001b[0;34m\u001b[0m\u001b[0m\n\u001b[0;32m---> 52\u001b[0;31m             \u001b[0mdqn\u001b[0m\u001b[0;34m.\u001b[0m\u001b[0mtrain\u001b[0m\u001b[0;34m(\u001b[0m\u001b[0mbatch_size\u001b[0m\u001b[0;34m)\u001b[0m\u001b[0;34m\u001b[0m\u001b[0;34m\u001b[0m\u001b[0m\n\u001b[0m",
            "\u001b[0;32m<ipython-input-30-8ca89a6b9e92>\u001b[0m in \u001b[0;36mtrain\u001b[0;34m(self, batch_size)\u001b[0m\n\u001b[1;32m     95\u001b[0m         \u001b[0;32mfor\u001b[0m \u001b[0mstate\u001b[0m\u001b[0;34m,\u001b[0m \u001b[0maction\u001b[0m\u001b[0;34m,\u001b[0m \u001b[0mreward\u001b[0m\u001b[0;34m,\u001b[0m \u001b[0mnext_state\u001b[0m\u001b[0;34m,\u001b[0m \u001b[0mdone\u001b[0m \u001b[0;32min\u001b[0m \u001b[0mminibatch\u001b[0m\u001b[0;34m:\u001b[0m\u001b[0;34m\u001b[0m\u001b[0;34m\u001b[0m\u001b[0m\n\u001b[1;32m     96\u001b[0m             \u001b[0;32mif\u001b[0m \u001b[0;32mnot\u001b[0m \u001b[0mdone\u001b[0m\u001b[0;34m:\u001b[0m\u001b[0;34m\u001b[0m\u001b[0;34m\u001b[0m\u001b[0m\n\u001b[0;32m---> 97\u001b[0;31m                 \u001b[0mtarget_Q\u001b[0m \u001b[0;34m=\u001b[0m \u001b[0;34m(\u001b[0m\u001b[0mreward\u001b[0m \u001b[0;34m+\u001b[0m \u001b[0mself\u001b[0m\u001b[0;34m.\u001b[0m\u001b[0mgamma\u001b[0m \u001b[0;34m*\u001b[0m \u001b[0mnp\u001b[0m\u001b[0;34m.\u001b[0m\u001b[0mamax\u001b[0m\u001b[0;34m(\u001b[0m\u001b[0mself\u001b[0m\u001b[0;34m.\u001b[0m\u001b[0mtarget_network\u001b[0m\u001b[0;34m.\u001b[0m\u001b[0mpredict\u001b[0m\u001b[0;34m(\u001b[0m\u001b[0mnext_state\u001b[0m\u001b[0;34m)\u001b[0m\u001b[0;34m)\u001b[0m\u001b[0;34m)\u001b[0m\u001b[0;34m\u001b[0m\u001b[0;34m\u001b[0m\u001b[0m\n\u001b[0m\u001b[1;32m     98\u001b[0m             \u001b[0;32melse\u001b[0m\u001b[0;34m:\u001b[0m\u001b[0;34m\u001b[0m\u001b[0;34m\u001b[0m\u001b[0m\n\u001b[1;32m     99\u001b[0m                 \u001b[0mtarget_Q\u001b[0m \u001b[0;34m=\u001b[0m \u001b[0mreward\u001b[0m\u001b[0;34m\u001b[0m\u001b[0;34m\u001b[0m\u001b[0m\n",
            "\u001b[0;32m/usr/local/lib/python3.7/dist-packages/tensorflow/python/keras/engine/training.py\u001b[0m in \u001b[0;36mpredict\u001b[0;34m(self, x, batch_size, verbose, steps, callbacks, max_queue_size, workers, use_multiprocessing)\u001b[0m\n\u001b[1;32m   1623\u001b[0m       \u001b[0mcallbacks\u001b[0m\u001b[0;34m.\u001b[0m\u001b[0mon_predict_begin\u001b[0m\u001b[0;34m(\u001b[0m\u001b[0;34m)\u001b[0m\u001b[0;34m\u001b[0m\u001b[0;34m\u001b[0m\u001b[0m\n\u001b[1;32m   1624\u001b[0m       \u001b[0mbatch_outputs\u001b[0m \u001b[0;34m=\u001b[0m \u001b[0;32mNone\u001b[0m\u001b[0;34m\u001b[0m\u001b[0;34m\u001b[0m\u001b[0m\n\u001b[0;32m-> 1625\u001b[0;31m       \u001b[0;32mfor\u001b[0m \u001b[0m_\u001b[0m\u001b[0;34m,\u001b[0m \u001b[0miterator\u001b[0m \u001b[0;32min\u001b[0m \u001b[0mdata_handler\u001b[0m\u001b[0;34m.\u001b[0m\u001b[0menumerate_epochs\u001b[0m\u001b[0;34m(\u001b[0m\u001b[0;34m)\u001b[0m\u001b[0;34m:\u001b[0m  \u001b[0;31m# Single epoch.\u001b[0m\u001b[0;34m\u001b[0m\u001b[0;34m\u001b[0m\u001b[0m\n\u001b[0m\u001b[1;32m   1626\u001b[0m         \u001b[0;32mwith\u001b[0m \u001b[0mdata_handler\u001b[0m\u001b[0;34m.\u001b[0m\u001b[0mcatch_stop_iteration\u001b[0m\u001b[0;34m(\u001b[0m\u001b[0;34m)\u001b[0m\u001b[0;34m:\u001b[0m\u001b[0;34m\u001b[0m\u001b[0;34m\u001b[0m\u001b[0m\n\u001b[1;32m   1627\u001b[0m           \u001b[0;32mfor\u001b[0m \u001b[0mstep\u001b[0m \u001b[0;32min\u001b[0m \u001b[0mdata_handler\u001b[0m\u001b[0;34m.\u001b[0m\u001b[0msteps\u001b[0m\u001b[0;34m(\u001b[0m\u001b[0;34m)\u001b[0m\u001b[0;34m:\u001b[0m\u001b[0;34m\u001b[0m\u001b[0;34m\u001b[0m\u001b[0m\n",
            "\u001b[0;32m/usr/local/lib/python3.7/dist-packages/tensorflow/python/keras/engine/data_adapter.py\u001b[0m in \u001b[0;36menumerate_epochs\u001b[0;34m(self)\u001b[0m\n\u001b[1;32m   1131\u001b[0m     \u001b[0;34m\"\"\"Yields `(epoch, tf.data.Iterator)`.\"\"\"\u001b[0m\u001b[0;34m\u001b[0m\u001b[0;34m\u001b[0m\u001b[0m\n\u001b[1;32m   1132\u001b[0m     \u001b[0;32mwith\u001b[0m \u001b[0mself\u001b[0m\u001b[0;34m.\u001b[0m\u001b[0m_truncate_execution_to_epoch\u001b[0m\u001b[0;34m(\u001b[0m\u001b[0;34m)\u001b[0m\u001b[0;34m:\u001b[0m\u001b[0;34m\u001b[0m\u001b[0;34m\u001b[0m\u001b[0m\n\u001b[0;32m-> 1133\u001b[0;31m       \u001b[0mdata_iterator\u001b[0m \u001b[0;34m=\u001b[0m \u001b[0miter\u001b[0m\u001b[0;34m(\u001b[0m\u001b[0mself\u001b[0m\u001b[0;34m.\u001b[0m\u001b[0m_dataset\u001b[0m\u001b[0;34m)\u001b[0m\u001b[0;34m\u001b[0m\u001b[0;34m\u001b[0m\u001b[0m\n\u001b[0m\u001b[1;32m   1134\u001b[0m       \u001b[0;32mfor\u001b[0m \u001b[0mepoch\u001b[0m \u001b[0;32min\u001b[0m \u001b[0mrange\u001b[0m\u001b[0;34m(\u001b[0m\u001b[0mself\u001b[0m\u001b[0;34m.\u001b[0m\u001b[0m_initial_epoch\u001b[0m\u001b[0;34m,\u001b[0m \u001b[0mself\u001b[0m\u001b[0;34m.\u001b[0m\u001b[0m_epochs\u001b[0m\u001b[0;34m)\u001b[0m\u001b[0;34m:\u001b[0m\u001b[0;34m\u001b[0m\u001b[0;34m\u001b[0m\u001b[0m\n\u001b[1;32m   1135\u001b[0m         \u001b[0;32mif\u001b[0m \u001b[0mself\u001b[0m\u001b[0;34m.\u001b[0m\u001b[0m_insufficient_data\u001b[0m\u001b[0;34m:\u001b[0m  \u001b[0;31m# Set by `catch_stop_iteration`.\u001b[0m\u001b[0;34m\u001b[0m\u001b[0;34m\u001b[0m\u001b[0m\n",
            "\u001b[0;32m/usr/local/lib/python3.7/dist-packages/tensorflow/python/data/ops/dataset_ops.py\u001b[0m in \u001b[0;36m__iter__\u001b[0;34m(self)\u001b[0m\n\u001b[1;32m    420\u001b[0m     \u001b[0;32mif\u001b[0m \u001b[0mcontext\u001b[0m\u001b[0;34m.\u001b[0m\u001b[0mexecuting_eagerly\u001b[0m\u001b[0;34m(\u001b[0m\u001b[0;34m)\u001b[0m \u001b[0;32mor\u001b[0m \u001b[0mops\u001b[0m\u001b[0;34m.\u001b[0m\u001b[0minside_function\u001b[0m\u001b[0;34m(\u001b[0m\u001b[0;34m)\u001b[0m\u001b[0;34m:\u001b[0m\u001b[0;34m\u001b[0m\u001b[0;34m\u001b[0m\u001b[0m\n\u001b[1;32m    421\u001b[0m       \u001b[0;32mwith\u001b[0m \u001b[0mops\u001b[0m\u001b[0;34m.\u001b[0m\u001b[0mcolocate_with\u001b[0m\u001b[0;34m(\u001b[0m\u001b[0mself\u001b[0m\u001b[0;34m.\u001b[0m\u001b[0m_variant_tensor\u001b[0m\u001b[0;34m)\u001b[0m\u001b[0;34m:\u001b[0m\u001b[0;34m\u001b[0m\u001b[0;34m\u001b[0m\u001b[0m\n\u001b[0;32m--> 422\u001b[0;31m         \u001b[0;32mreturn\u001b[0m \u001b[0miterator_ops\u001b[0m\u001b[0;34m.\u001b[0m\u001b[0mOwnedIterator\u001b[0m\u001b[0;34m(\u001b[0m\u001b[0mself\u001b[0m\u001b[0;34m)\u001b[0m\u001b[0;34m\u001b[0m\u001b[0;34m\u001b[0m\u001b[0m\n\u001b[0m\u001b[1;32m    423\u001b[0m     \u001b[0;32melse\u001b[0m\u001b[0;34m:\u001b[0m\u001b[0;34m\u001b[0m\u001b[0;34m\u001b[0m\u001b[0m\n\u001b[1;32m    424\u001b[0m       raise RuntimeError(\"__iter__() is only supported inside of tf.function \"\n",
            "\u001b[0;32m/usr/local/lib/python3.7/dist-packages/tensorflow/python/data/ops/iterator_ops.py\u001b[0m in \u001b[0;36m__init__\u001b[0;34m(self, dataset, components, element_spec)\u001b[0m\n\u001b[1;32m    680\u001b[0m       \u001b[0;32mif\u001b[0m \u001b[0;34m(\u001b[0m\u001b[0mcomponents\u001b[0m \u001b[0;32mis\u001b[0m \u001b[0;32mnot\u001b[0m \u001b[0;32mNone\u001b[0m \u001b[0;32mor\u001b[0m \u001b[0melement_spec\u001b[0m \u001b[0;32mis\u001b[0m \u001b[0;32mnot\u001b[0m \u001b[0;32mNone\u001b[0m\u001b[0;34m)\u001b[0m\u001b[0;34m:\u001b[0m\u001b[0;34m\u001b[0m\u001b[0;34m\u001b[0m\u001b[0m\n\u001b[1;32m    681\u001b[0m         \u001b[0;32mraise\u001b[0m \u001b[0mValueError\u001b[0m\u001b[0;34m(\u001b[0m\u001b[0merror_message\u001b[0m\u001b[0;34m)\u001b[0m\u001b[0;34m\u001b[0m\u001b[0;34m\u001b[0m\u001b[0m\n\u001b[0;32m--> 682\u001b[0;31m       \u001b[0mself\u001b[0m\u001b[0;34m.\u001b[0m\u001b[0m_create_iterator\u001b[0m\u001b[0;34m(\u001b[0m\u001b[0mdataset\u001b[0m\u001b[0;34m)\u001b[0m\u001b[0;34m\u001b[0m\u001b[0;34m\u001b[0m\u001b[0m\n\u001b[0m\u001b[1;32m    683\u001b[0m \u001b[0;34m\u001b[0m\u001b[0m\n\u001b[1;32m    684\u001b[0m   \u001b[0;32mdef\u001b[0m \u001b[0m_create_iterator\u001b[0m\u001b[0;34m(\u001b[0m\u001b[0mself\u001b[0m\u001b[0;34m,\u001b[0m \u001b[0mdataset\u001b[0m\u001b[0;34m)\u001b[0m\u001b[0;34m:\u001b[0m\u001b[0;34m\u001b[0m\u001b[0;34m\u001b[0m\u001b[0m\n",
            "\u001b[0;32m/usr/local/lib/python3.7/dist-packages/tensorflow/python/data/ops/iterator_ops.py\u001b[0m in \u001b[0;36m_create_iterator\u001b[0;34m(self, dataset)\u001b[0m\n\u001b[1;32m    703\u001b[0m               \u001b[0moutput_types\u001b[0m\u001b[0;34m=\u001b[0m\u001b[0mself\u001b[0m\u001b[0;34m.\u001b[0m\u001b[0m_flat_output_types\u001b[0m\u001b[0;34m,\u001b[0m\u001b[0;34m\u001b[0m\u001b[0;34m\u001b[0m\u001b[0m\n\u001b[1;32m    704\u001b[0m               output_shapes=self._flat_output_shapes))\n\u001b[0;32m--> 705\u001b[0;31m       \u001b[0mgen_dataset_ops\u001b[0m\u001b[0;34m.\u001b[0m\u001b[0mmake_iterator\u001b[0m\u001b[0;34m(\u001b[0m\u001b[0mds_variant\u001b[0m\u001b[0;34m,\u001b[0m \u001b[0mself\u001b[0m\u001b[0;34m.\u001b[0m\u001b[0m_iterator_resource\u001b[0m\u001b[0;34m)\u001b[0m\u001b[0;34m\u001b[0m\u001b[0;34m\u001b[0m\u001b[0m\n\u001b[0m\u001b[1;32m    706\u001b[0m       \u001b[0;31m# Delete the resource when this object is deleted\u001b[0m\u001b[0;34m\u001b[0m\u001b[0;34m\u001b[0m\u001b[0;34m\u001b[0m\u001b[0m\n\u001b[1;32m    707\u001b[0m       self._resource_deleter = IteratorResourceDeleter(\n",
            "\u001b[0;32m/usr/local/lib/python3.7/dist-packages/tensorflow/python/ops/gen_dataset_ops.py\u001b[0m in \u001b[0;36mmake_iterator\u001b[0;34m(dataset, iterator, name)\u001b[0m\n\u001b[1;32m   2970\u001b[0m     \u001b[0;32mtry\u001b[0m\u001b[0;34m:\u001b[0m\u001b[0;34m\u001b[0m\u001b[0;34m\u001b[0m\u001b[0m\n\u001b[1;32m   2971\u001b[0m       _result = pywrap_tfe.TFE_Py_FastPathExecute(\n\u001b[0;32m-> 2972\u001b[0;31m         _ctx, \"MakeIterator\", name, dataset, iterator)\n\u001b[0m\u001b[1;32m   2973\u001b[0m       \u001b[0;32mreturn\u001b[0m \u001b[0m_result\u001b[0m\u001b[0;34m\u001b[0m\u001b[0;34m\u001b[0m\u001b[0m\n\u001b[1;32m   2974\u001b[0m     \u001b[0;32mexcept\u001b[0m \u001b[0m_core\u001b[0m\u001b[0;34m.\u001b[0m\u001b[0m_NotOkStatusException\u001b[0m \u001b[0;32mas\u001b[0m \u001b[0me\u001b[0m\u001b[0;34m:\u001b[0m\u001b[0;34m\u001b[0m\u001b[0;34m\u001b[0m\u001b[0m\n",
            "\u001b[0;31mKeyboardInterrupt\u001b[0m: "
          ]
        }
      ]
    },
    {
      "cell_type": "code",
      "metadata": {
        "id": "-uaf1nSBAr5P"
      },
      "source": [
        "env.close()"
      ],
      "execution_count": null,
      "outputs": []
    },
    {
      "cell_type": "code",
      "metadata": {
        "id": "ya4qdf0UA34J"
      },
      "source": [
        "%ls video"
      ],
      "execution_count": null,
      "outputs": []
    },
    {
      "cell_type": "code",
      "metadata": {
        "colab": {
          "base_uri": "https://localhost:8080/",
          "height": 421
        },
        "id": "ESahh-9cA_YK",
        "outputId": "cba5094c-b6ae-4e81-8489-5505d6282625"
      },
      "source": [
        "show_video()"
      ],
      "execution_count": null,
      "outputs": [
        {
          "output_type": "display_data",
          "data": {
            "text/html": [
              "<video alt=\"test\" autoplay \n",
              "                loop controls style=\"height: 400px;\">\n",
              "                <source src=\"data:video/mp4;base64,AAAAIGZ0eXBpc29tAAACAGlzb21pc28yYXZjMW1wNDEAAAAIZnJlZQAA/IttZGF0AAACrgYF//+q3EXpvebZSLeWLNgg2SPu73gyNjQgLSBjb3JlIDE1MiByMjg1NCBlOWE1OTAzIC0gSC4yNjQvTVBFRy00IEFWQyBjb2RlYyAtIENvcHlsZWZ0IDIwMDMtMjAxNyAtIGh0dHA6Ly93d3cudmlkZW9sYW4ub3JnL3gyNjQuaHRtbCAtIG9wdGlvbnM6IGNhYmFjPTEgcmVmPTMgZGVibG9jaz0xOjA6MCBhbmFseXNlPTB4MzoweDExMyBtZT1oZXggc3VibWU9NyBwc3k9MSBwc3lfcmQ9MS4wMDowLjAwIG1peGVkX3JlZj0xIG1lX3JhbmdlPTE2IGNocm9tYV9tZT0xIHRyZWxsaXM9MSA4eDhkY3Q9MSBjcW09MCBkZWFkem9uZT0yMSwxMSBmYXN0X3Bza2lwPTEgY2hyb21hX3FwX29mZnNldD0tMiB0aHJlYWRzPTMgbG9va2FoZWFkX3RocmVhZHM9MSBzbGljZWRfdGhyZWFkcz0wIG5yPTAgZGVjaW1hdGU9MSBpbnRlcmxhY2VkPTAgYmx1cmF5X2NvbXBhdD0wIGNvbnN0cmFpbmVkX2ludHJhPTAgYmZyYW1lcz0zIGJfcHlyYW1pZD0yIGJfYWRhcHQ9MSBiX2JpYXM9MCBkaXJlY3Q9MSB3ZWlnaHRiPTEgb3Blbl9nb3A9MCB3ZWlnaHRwPTIga2V5aW50PTI1MCBrZXlpbnRfbWluPTI1IHNjZW5lY3V0PTQwIGludHJhX3JlZnJlc2g9MCByY19sb29rYWhlYWQ9NDAgcmM9Y3JmIG1idHJlZT0xIGNyZj0yMy4wIHFjb21wPTAuNjAgcXBtaW49MCBxcG1heD02OSBxcHN0ZXA9NCBpcF9yYXRpbz0xLjQwIGFxPTE6MS4wMACAAAAWqGWIhACf2gRUXlRVrP/1PCIgSi0yaDvgsiCNEgWTnJrrZCphTrB/igEX/eTd3bngOjbsEThlC0X/6XpIvZb+ILd8MV1PNeFP3ywoobx3QD5yQTgXyEUKHkUmJ6KWgL+hrUCpEBq3qQG3XDQM0faSlIyF+ibau799V/UZgQQvg9JawNkbKgXU5CivjIIX+V4ntrsZh5ef9YpKGiQF15apaC5EJRZhU/aQe6S84PhR0uSlou5cblpLB9wrwciMCmxEteDyBTBHlglIcqBs1yeDkFSQeOiL9+OkcWFMpIdYyrGXuHiQ3itZcQ8bHT0yx+STLaNBcFwFG9Q8YAsqMyniTKKUr7p8wYG+GXJIKE86CsA7IdU0InVxUFS2gs7b6ZfQcqkwCXuChf7/Em0RA7NibzPEK+5n6BlzhNXTCIR8CqExaZIoyQLg65qhCu45mkx48nVL2zrM9tAAbO8TFrrWZaj2lqFvN8QTbGlzNcVMuBsCxQGjK7jsvQGToDkZXmb0rxegRSXALDcNzrYLpWmIVlSYOQV5gTbGlfkKLNFKcLE0thR8fL0BckeUtHsutVf09ED9FawI96+WZ3DtauFilo8a1ZM9GuX+LS1sCgScE6szG9zZPN+es4iwWxTVqjxds3PLn/t//xUF4y3+0HfpAgY2TXzuJ4U/j+mLz1dMvFFIpGdpm0WFEylDAyUN75iedCwRdjsN8pNLZaYHb+x29iu7rz/+ivHD57LL6XZGy4sBv75h6iRI27KjURt7Aeboydt8jl4ltczxE69CMLPFKyiU3uFzRxpWSBUY+dYwR7/+MpLV9MwjP82Hkl/FQ20dZ+1hjQA1g6bHXmTnbHk2CIaCi+TtlmFBd0lpm2GdAlRvn2rMdcwZeGikAqOzXF6SsMsU0NRbFGLedDr7NbAPXCwdIaeX9fIW9VGbntkn54l8VzHrT59kS6p1wpF7+BEg3efRk/h+/qsyAU2LujIwzYT86Y6Ck3c0z8ofs4UmifjgUDR+IYphrc5jvJ11lCNMOI3Q3z7+PnSnJ7ebRaAiidx5uln0D8fJvGK+OLxxtrbJ7szdRAHzK0zIIuGqOq3hNiwwhPe7aEaMUwkC4roziIQeNmhLZ8ZN6jMK27cMmRfhpvopKOGLJ2WVIKb6vmtEPcx7jDvvTn5tPHR381LZdIr0XIAI8kMLinUXuzU6b7LB78weMr5YnvsRezbIVXiC0UHDW+gxZOL5N+c+COrH4GbbZJvp7JFUvNLi7seIr7UkM+tG9hYaoYQq/GiE/A/j+TMBcWeIirogXcr4/HxlzHY9w6+yVSaSnp1DMXKrsgCeTtMg6AcL0/l4YdYCdNkuzXf0pC2OpM75+2fglBWH9X9RQm5loPnzDiW00jgZr+1IgQf0VXmZKcXMc6mQ3ln7QKmORjd1u4vjniglEMVxRFjHGeGDC/vv2fLPk7oMKE2TmdSf1M5peGV1e9NeUdTgYNAswKMte/IBP1Tng8txesHbHrhemKmzg3X4Yk9nGyUAm8hBlcsyZhTtgfZiIePsKECVBSDjhAuVI5Hz8ktVBFEcpX2pXN903S/K4alN3JUBx6Gq0AqldUedd0u1tEQIxLIoFM/+JF4AGRG4HZyn/M8X/FhRw8cv1LLmK/TvUxal7PYvGzx2TXvYjz8ja/KaPR/FnNTfpI3hZFbft0Eod2S2ATgoOH2IYXqkPHDH+5nqPKGLHSOR4guE4sy1E9EBaswNdfxBwrI7zU6bxLoToJRA47OWwWY+qHlZtHbMQsALFXIcdB+OvQ/bIE/CiO9FWpWEQohCflcMbN1PXGFDfOsINcd2y2CXIM92cJdi8rVpG/Z0NL+woGyrJWd8wcxmidPjVHWadJRlAn34aCFeb6kdtdrTLFJDgedkNHbnrlZ+wDSTF2jRgSxFqcY968feTI9djYiPl25K3/7A+XeYJt4k/nkcpAPxOLfMHJ/0vlJH6+Q0DCbByJ7yoKicsViMtItbk3sHxbNLgacRKtArMaJKtrl6SJmd9bw+fQ4GQhi5MrPzwfWfRpOVf5y9sppT0Aj21nbb0LsyOxDYaRk6+WsWhiTYvcOjpUj5wq9S8hAHaGY3zFb5rx9vuAE3sfHPrWqSs4RQvL9WX1dJf71pJH8JdOAphVQXtA6wPAVCjLxQWcdsxaSPzrodqOdpDVi8RaXHZtxne7gKAfNphscBMWcYhHReDqBR6DmrkqAVH1RncHEn0ZLTf4Mp5LETzDOthVgle4JWVE/7z9Y0wKV3xgBIbyymR+JdOLrIlfauZGMXtyDHi8VVTH1Xnl/8bzZ5i72GLM45SEfFv3lSXRh+2ge5gI/0QGJgRAKaFOIu5Sj7b/lRQPvpKnUsbBrZmkhdrx8jekx0xEyaCxv+kFoCxeGu8zW5koqeCXeG5660G3xK/Z80gBYs7/vjiMcEgV5DTm4amvVFA8UWbd5HAmBz2ODXBEvV1jgowENdpUNHSwiwquS6l2UKD/8PHBEUHvhRrJrChTcyytIlc+ch+kYAapauEsbjA863az9KA9szQ5lNZgfnpXJs6eadgeCon7sPXVGJ8rhu6o4SaAu8zg3J2GWjxCJef7xEeE9Lr6XddASpWqIB7FPvRGtKS81d8okEo9BIDjLf/kyJdov0y1z/nsQxM/s81B0iYmb2GBEFUAumfLEllhC9+sEqF01ooJeSki2CgvZPD5eA4R9r3QbPBOQIzVQE5ZxsUAnFQR9TyyPAJKwGTojeOluGZT139gzmWvCanwOVf6mQr79eiXBkbkWvUl6Ajwvqd4F2NUVr6X8El12zr//8qGsRSAP3/aOd/O8TupRflCfSz2p3vwqgihaKandC1jY1lSQsfffikQfdx4x7RfsIeik9U9TwqO2sDICwAsr+uxr8N2LScFE1wwe3i5ctLDZTD9me6sFPZCi58Be6EJsCHFMrNCdEtsq4yg0FKi9yiTgIDFx1sFRdI0WgMI4TH7AdYgL8dg30N3LNzs5AW+BlLuDeSEb/ZuejccbsRgBuGA/73toPzG5R45RzP72aTsD6fz3fTqkm2gHpFePA6H8YqR0L32U9XKvnf+PdNR1vlId0MCxHPDqdJyEOq2QxuCLTw1OKZ6K7zqGLHPC7C+ir4WGuuZmuyy7v9wAJTHLBs5cwj+F/En7Na+fR27S6BZzqJN9H+mft3eD+BOsToA9WB1j1d74KzZK9OnqfoDmFpdPdaZBr48sh3j8J7IKgCcMfWLy744px6mx75jXwTvigkpcPCO+q05d6FnL2/lQennddZ32aM0eOb3dFwGze8j4hRi3hizdOncBaKC4XSoDBU/jJ9dXhPlXshbe0TM06mGHCZIYERs7kyalt1BwzVC44xznFe4E8lHMsJvqyjEpruRJtpLe4L2fVWSEuJps73hJoRyOT4Up7DM+WaIX4x0blD2WdEfUmj/nys7UEYIKwjpDmMZEbHAZigf2k6JK0JgGu3TSEvhiPkIaLSRvEYlsglHT9hGKbhmngzPWVrBhhHSYuhAjuQj1z0yokiiWYfV/gk+c5z//99aevOjI885aeTpTZCigyPm/03JWTcX9JVmRUgC+Vc0LaMYCzXBYo52saQZZK1HkzlgHotR0yYMrZVaaT40XeQfYmF8RgYhD3GbWD9q6tQJZQFVhtqxhJZ10wlS6G3zJl0BvcVGYafYtOmJApIlnp7yIoq7tLwP1fiZm69xn/HE7AybMZMTawU4ceVbB45foTvrV+Yp9Q95em4o64h/MCGEAPpSpoXiu0KKXxppGNf7LCBDBJ69kcqgw+rPM8+lb9H/1unM2fY7TbtkmFDE1YYDj4ODOM3N9gaoTfezbxwilqD3HWIX4RKx6bIDusZ9Do79kE3g2qEfZpuygjd4qPmfWvPJIxlHSjfqU6yVMOK9MDoSF6xAgfTWWBwNTUBxJwMZ989kHw1v7xj1vzWs2TBcHsXI2o2H/INalmvtBhjw35Wmp6XMYqUpfqdaNXPLP4IMwzNRPPiLaLa8My7MZ0GdZAwrvMuqzQNjEYReTnjsvOCq39W+NTD2i50KiDSVreGKiZSR+/mvqkoPC4luPi1QzAF74neHJZkwr+mTvgNFAdplloU3Y1z63ABJ0Eo9jywT7bvKVjzncwSMU/I87l8mDlh+rFZGrrHuj+RCEDeDAfkCU4X4iLH/usUnUgB9zaofJ5cQTSVFzFx47Jm3ADb0rXRS+PGPPg7T60ZFvqugvwSGiGACXWTDkcl7TchhhNQjD15qvlZDYiXegvq2xTK0RSLylyBwtT2nWYCP0gzIyjzjThrWG7C2tD7CVshWFvRQWz76Gtc21VsvzhGqP2Sgd4UFhgjssKrWCiXobmh0kygMS+q1C9f4Zo6AKISQXyqL20AKhKKQz1ersI2XuZK3JtIicGgjcZlaa1RLAms58E4+ZPmoRrrxsrOJ4PK6LBp0AqrVWzR1At0cSGXbtUku6/x3L9lCobnilTLQptnONrgCNDAE8hHpcuRUNqoGOVI2kb2RoEdIQlUw+NyFIAmu5Lhc/nUPgquz6W/tV7qaaMDK4Q6HGRfCIviXJvWsitG4Gk+k3ZV5tUFn+NJyX0iljXxX5/4XZE9OuFT32if0vNZ7PrrkDsVyGEEcTn/FqsKFcBebI6t6//u8uZ9W0SxomZB3mRl1+PeHfDUIJJ2iOouhhT9EVDqiyW5E81yZbLjLbde9ZvWsz65K35vQDerYbOwd2fiLc9oVd86Hsa900+T4MikFqTHSrKa77/IE8UwTuFuz0SURhuZi3XigslS9aTlhDKTkEq//jf+3HlAjAnN+1sZCvKN/EUhnvmfwXuXd6rXSJcDnGP16ELF08J86w8Ig2XKKeX5I0nd4xIQCCEMwzh6KjbEiYocygIaOlskmlnHSc/23YlyjLSjPx/lzuZJQa0R9A7FSLWaQp3QPfVV/t090Mc0InWO8joNQz+4i5kYPLC270wrYohFxGDyNUelr5jlZcAuMF5dGsR79USVeNoURmrQPxiPGQbGnFO+PlNSfotgUJCNuWNa8JeKv+TVaPt46LQsr5AOUQKSUOUjuk1axS2iOOmDBXir/APWBsZYu52xa+l0luF403awtA/sPjgC3vdtmEG+BQOdSaqlFVzi+yXRXDFELodiFrFL9hDrtXNPJyy+hDgUfZJfsiJleIz3YI1K/aiSCjh7cPaW0yrULCMzSahsJbnTureNeqbZc5uRBnGG3DNfW70Jfscc79NoGsrWBoBJE1qO72iLHrQ/T8geGETz4WX0hk3DqMWX48LEY/k9/mFhhin2SPKs8ToR6QhNi3RcdW/YQI/g6ypuMJMTcPvS8A3l+3rwez4wE0t12ni5XlK25ltxeEf4PPlVSIH2JZ1xrycJyb8aYTKjP6OBn3tyv6d9HyO39MPEnfEhfmJRubdMYPsnshERsJ+uTw+44CeQ94GKPZT/CSQo5fUQeAVpZ2hofcjaU3wtaXHdBRmunwgNrjQ0B10l/xPWNJ+4tRcbq2CKYszU65U7bw8YZj18AASAorOgloV30yN3FBXBfpI4M91JqYTHY+G9cdoOouEaLQRE0vNKrrwsdsvH+t0mrzR6Dzg9LR6gVWXnpovkCIKzXQSyHq5hPh4lztgqEdylK+xFWlh4hG8VEOkdEBmcv3qxallWRYUh3UlivLhshd9UzKVv80fyD2RZ9xq6CgIl3qdVk0h7QuKIicI6J5zcFhy/0t0zzUTwmB6SQ7GtuJHeVL/d5mI41Ekh+Sij9f0nToHc5djvPCJ8I3I7T+kIQecw8xwrlNxecDqqxvAUtnT7qiM9JVQUjiNb9ooEAo4mOEJbkIeqDcITHgXiwIl8H0AhZECI4yM0k+lsF/8AYOC7VmLA/vfCZNepH97VJZALiyNTHX2defPujOCx+NWXWyCCz7CZ14r8rNw+lTcXjLtXEOSHNOBFuoBt2KV8lYFZOqDF/nVIJez+Yu9kDy+YADLMV9Sia9axUL/5qC5S9hvxN906/9llrp596c6O4eKdXeP/aIhHIYOCX+MRCiZbJGbeFz+3FLQk/KNFzsvoiC6xT9PuNFj0bGDJAi5pyel9Eg+La/4CXg6qYpoWa2I244Ry1tUM7vmO3TA2S4BYOza8dO0T1xoQoVHjmgK0XM0+XxF4HDaI3kkKv60vQAwzkQEo5s4yK6HoAJdOTA1w3387Y/M8KLhUX0G3XEeG475ntrC+YkBuMLjpgSZObwTdzhulMgR3HTGkqhkNZEv4OdpL78GwXiHMqnf7X71w8aePYe39HUuk1Tp+UmyauHywKml0xr4SKkHQiGiqX8Ou2xeQZz6h6Uw+jQVhx6ilX2Q30r006mZSwke05NDOaSAC4QTygmgnEPwno8xdq4TmgQrLsUk82ux+r9XPKgjAO+q3rpKkCH6Fd9WYAwYzKOlH6BPhElsCmKNup7UUXEFyuuGXlft9D4NEE+EQxeVWiUk6P7ZeBbyiD1W4GqOijeHgEswpvTwclieIB9/+BZcAaoz1roqc2G4cV3kyrd+HdhzIH/o/z7+yhuGaz+YcSd/oEISZWdRqEUUGaDG9ZkabpZ3g0snnOjnx8akPi85s+GHgYgdE4mFL9RGmHrb5vsjEmT03gb6Y8zSceU0yRtziPalvcu91QJj6GmqusrPuqiEBDeJoz6yi9TNQaGvFGucp91/yQu1SDqrO1yOK64+YRC2fr/8tj4MPLK0JTk32I8WWwKLD2Nm8jX4uTnQlGJSakRu9FFX1ff3tmdzlODWOU77KfWDz1aQEWvONgJDoRFL5Anp15Ng0YMmA5pHm6t6KiEKA9NBaZmuxI/S0xtXP6w7Ft3S7UAWLYQV+m/tixAvxMXx+hOhvGjYibtcCo9f2HdkLDNijOBN/jWQTc4Lirt/oPoV1LKmJixxjOg0pAYoF14T3ISs4Le0NZPgThFDhrX/uNHhAjC5AjC5WBrTUI9k2Nla6a+QMtSbdJwXTLUkcMIvipXJW8kljv7CvHsoEUW1/OC63akQTzgu5dwHect1RRyr9PG4+chFXQXMXJcY6k+cGI0cymvez6ITn+at7T5vYP7PS3diETeYeVI25vRO5ueND0jcuP5vYNLn14/JQ1Daj8sTn7ffSC+XLCceWlHXQun4mlrdcN2WZ1/z3SwTvN+QdTo6vZovUb+BLwEQ6rQvmBzhwe8KTtaJHEHmWspRjdupnIlvSObcpw+yyCGQB35YMFfxWTCg3bhAIZPWZLXH3kY/lBG4NV/t3i0r/LyEsIo0lz2OkMD2RfmsmsO8VJ1065SKZAuTvDY5Wrq203dSErEhnX8v/bZ1MoFiVSlNtus+AbFkpsR5EreT7uvbTiTIcemeAZ8WbUuFOeMD5GanhL3gGLjh67j1IkRRhmH+yoaB3cTqNpfn/VJO8RX0B9VlOuH3/lLpeXVdS46TEnwP9aTEH1ytpukA9OcXYEdxJUMeag+dKeWQ8METuIemZB6UlODQX8aAf+HpAOrZ4XeRCRXFUqDYmWYELndkTABaak1ZYkq3F+Dj9NF4ppVEujAnlaVec3HlGnYvcZ9vVxd6ujpHhaFj8cpmAKPWPn3HI+/CXXHD1HZCCR3vi39Q2g9hfQCOvgqG6fqLq9Vy1nQgvluFASpVPuHXYo+b2m0ypb0E4nhtliP9drCmOxVX3F9fgP+D6ukNqy9OBArqIikAHpOEzX/flZV5uE+xq1UDQ4SCD4gyADaIx7ZlC21u8/tPe2lgk/EbxzxTIxkAAAGaQZojbEn/veBKiIfIlAZWRumC2d2sQWRsKMdDoyVaI48unFSDGxuuIrV674qG6C1xApYA006erdFIcYvShfQOsngQinIABvQfK4g72Blz/0EgDaBev+/GVAvx181DZ5Iwc/4zQjfeKUTAEdAAAAMAphMTIa6Yu9x6mV4dNk6rYMCErzSt/EXYqLTrW3+MPuDYv4tLosliU5P0+yml3PjVLDtoXZ+3ewQ6KCFmUrnDvXflxysxpwqhdDlOPlV9DFyQlz3uUEsVZYt+WSipb594OjwW4hy9CN2L9n8yvL0851z/2/zBFXH18rT2/FRG9R2Io2YfSUZTx+qGdXYw6TOKeTzA88edYPunrSmx3Y8YSUZWgCdaUYe3gsYhPDiLM3paGBjejnhjJ9d2LXUXXyihpzwNC22fc4wIocVt8EEThHCayG22Bp+X4iCb54RyxUch4unhkAViwMaIOqo7AKOABnDL3AHMINRCwB+7u1D4hSwv2acyTs/eOUipoacbJZqIYC6I7TmUs0jvzRZlfUqlvaMc4+PXuH9qBtQAAABAQZ5BeIU/8AlUD6eI5n7fIx6A03/YgsrnmwI2/+Yl/zCrOrUmn/mnGHxF5gkDNEOHU7qddChAB1RAAB7TKjDFZQAAADYBnmJqQt8lQVjbat+xRslYJazDuPY+xs1B52u9EiVES1mOSOdc2a7OECDsqUTTmepgbTxP6YAAAADcQZpnSahBaJlMCT8AG1BqUJK7H1zZOEvVjtfB/+QT8h/9oPy26Snuz4Tsoy/sSIJ74DBZwYxVQ/IbaczfeCFboAuyWfKJqDCxSKCL1yfche48xKve3kPz4inbYHkMt/+IZX1nAo3fMRgXrRgzl6NQbICXAvFbBTSygb3ZYUhUsTji/98YyXGC/zfTo7S2T7FLBGiogLlQtBZbp1f7f3coVSenqcS/ogNmdO/3+8denlIQuQPcKU4W03OV7ZjiCgG1z1wwJTAaHcCqJPU4863unm6WFRFg2txIMfoKUQAAADpBnoVFESwl//visw0HiyNsolzZTHw2iH0DkgxwgTH/TkrmCg9tR9TSOs41IveDusEAwgo4swbl+8AxAAAAOAGepHRC3+/w7AJDwRcTR7fZxVTJJ2RKQ0dGs7RrRymY/U2xURSMFTI6yA9KkwOWSHsoe6HYGQkRAAAAFAGepmpC3/C44O9tQIb88TRCHwRlAAAAbEGaq0moQWyZTAm/ADK6OQES59/LHMvg2R0XXWcI2SEhA4dqQat567Y8pYa6WE8dq7rB1NlAoDnIPIY+b2XLdeg1+mCtZknKb1FTLBlsDIIAvFAI3bGpLhR7oTsFMa1jApDChobjuj17tm6toAAAADVBnslFFSwl//sI0kNaBA3C6q8N25oyddEP4hxRn9BMTEaEhn9DYDdfP1PwkGnUWjqHvdoAwQAAACUBnuh0Qt/v8O65kHO814gyH/g7dQoyS9Gdsx2O211FA6PIGQ3pAAAANwGe6mpC3/C44QKz4u12bkzyBaKNow4yxQNCS0bRLmCSMh/4O3UKMkvRnbMdjzMjjhK8RQ0gGnAAAAB4QZruSahBbJlMCb/Nm505BrE4dwqbFoAK1ig3ylQenZD6rJjQdPSQ/+AsJ2gX+9xUEX3a9v3+4DRLdtbO3UtRuvRHtMhhMCz33qB1yTk60t4bcnotRW73ZOCinT6KD41N5UhJf+lZdYzq87gWWPKrxIMCpbL0805IAAAADEGfDEUVLCn/8AfPwQAAAEoBny1qQt8lQViAdK0vA7gTTz3Jb9CCy2NVU0t/PhCTgI1+aZ264JDJeQmdNQxbx0bZtTU68D71Nzle2YJY8e5KuKPdOssXsGkb8QAAAD9BmzFJqEFsmUwJv8+Ra+momY8YplGKjSvTNKYfYnYv6nqA3XN4ERSL87f0fcdybvwJj29zY5xGHfu0OUsh3ZEAAAA0QZ9PRRUsKf/wCdQ3h8KQ8/m/446D97h1xdfr9dkRsn/UDU7VXNboWH9A7E+R79ntsdT9BQAAADUBn3BqQt8ljGVj7xBS/zeEioJAMK3uuZj50Mp2tbO/sVntafoPRMObftmSMQz0KpOXmPu6wAAAAI5Bm3JJqEFsmUwJP8YydXRy+TE4vfBSJLBGMoyiQdE9r8P/qgRfVIvsQzU/1BJL8uYvyKCSpljHd0TMSffcrPPGrcyZxZL8eZjkl6pHevr5Of6gcrDT2u/X2WRcmO6j//BIlweJA5r1z4fFTabcQnDUeH3+UCYwF2sN9/iOAzWc+1LI7O+t5xliQS86wDpBAAAAO0GblEnhClJlMFFSyf8ACj7xib/BJjIa8wEEXiGYBuUIUq5xACrB7HKB+PJiC4n5HkKp2AQQ0j8MntogAAAAQgGfs2pC3yXfV9a0qDc19n7GzUVmHDFNyBFPfTCysJnqu9EM0jZuekZ/LmELOnepuq/2zBhJD3LdxR62AB71xcMMwAAAABVBm7dJ4Q6JlMCb/wAyujkBEsCTV8kAAABgQZ/VRRU8Jf/74nsnv8jlUZRgP3A+PmXya+EuRrJc/AffyRki/oDR3iyzTS/LXLkYZf8GOc275xrjdmIaBPdrEOarnb04rVibbuheBRWUgbn8upZG8ai6fN9+NVH9UiugAAAAHQGf9mpC3/hOuTghk1a99n5ium9O53zfkMzncRSBAAAAUkGb+0moQWiZTAm/zZuYa6svs66jUoy+XY9Bw9u+K9tF0OqsauIp+7JmePuO5+/8dwb690uDuqsHgwCjfJceXJhLy1GPyDJQqb5TjdHxmK1T+SEAAAASQZ4ZRREsKf/39XyKRYfDxRBAAAAAIQGeOHRC3yWN8AEeiMh/emxU4BeL5D3F6vPotDVGnQRyTQAAAA0BnjpqQt/wuBKihMiIAAAAlUGaPkmoQWyZTAm/zZuYa6svtd3g7i4QnO3/tjgahRe19z/+nYOZghq6F+7MWF5T66Y1U5UKVU2ud3RMwp7+sdI8jf8HfV17zWl1Y/C+aAuL/C4RAVZwu8wxaC6Vj58I5rE//8OqmwSJNLLK77L41HqB1xR5p+INcqdfUk3Szxe0a+DFS+heVEMwcY/02FigFPQCQg9ZAAAAJ0GeXEUVLC3/+E65OCHfNsjoYm+H+uLkJhtX0PNAbb17E/bKWdlkwQAAADcBnn1qQt/wuNj3Zm7A7P4rNTpQsehjBZlaRvuh/3Kt8YMJmQ/vTYqcAvF8h7i9Xn0WZxvrXW7sAAAAFUGaYkmoQWyZTAm/ADKkeZj9GOdfIAAAADBBnoBFFSwl//sI0y5TIZPjXyJzeK8RLHJkF1OWhkb7ESt+W4UVESfjmmKMGD8ax4MAAAAWAZ6/dELf+Ljr4J9DFXr+/7naZ2NygAAAADEBnqFqQt/4Trk+/AqMkZ42mEW5LfoPNQ2trgM6r1tg1itdmRuAxe/ZUbybbuo2LSfJAAAAJUGapkmoQWyZTAm/zZuYa6svs4IyoASfW1pFvYTeh1J05ImsYGoAAABDQZ7ERRUsKf/39X1IC5I2+tNE7h95Ts30FZ9+uoKG4qA7W6tsNdCYeMiwwXMPSM6dxkLmroAjzY7y8pYKSMQdeSjNrQAAAC0BnuN0Qt8l37cQDpdvnKtHX6EGIy9npt+LZyvEqRhM9V3ocJnbYgUepWqlE5sAAAAzAZ7lakLf8Ljm5eSkpzpH5yrR1+hBiMvZ6bfl9WQ3ypGEz1XehwmdtiBR6larIMCZuKlnAAAAX0Ga50moQWyZTAm/ABQ6ewEG/xX1DUEXOrP1PEFSEi0eWQkxyeF0UplpfQ++1Ox45KN8yj8SAx2j8HWTlp7gucmQ8YyIDgH7F6R4f/Plf4z86YNkaJnsjWrf4Zyam6TBAAAAnkGbCUnhClJlMFFSzf/PkWvpqJmPJ0JHcXCE52/9scDUKL2vuf/07BzMENXQv3ZiwvKfXTGqnKhSqm1zu6JmFPf1jpHkb/g76uvea0urH3TentBf4XCIFGBoNCYK6JSh1egkliGf//DIr4SAP5p9lYzT02ht++HPlPrcmc3H2A2AMN7A1vLvk7qEaQbsfGhfOP1LIA+lDdtJgTLqhdWsAAAASgGfKGpC3/C42WC9FhLA3ELfc462ya+fQeagWkrBiLMXGtmOQrzUOObn1IVS5FHLOx9z6S68x3qb0f9srkLo9zHrz6AfhdwA5MGwAAAAGEGbLEnhDomUwJv/zZuYa6svs1HUXOfvgQAAAClBn0pFFTwp//AJ0+svJG4g/cDu5nfVdTjqKvj2Cs9wLEviHI7y+vQvhAAAAAsBn2tqQt8lIZQjqwAAAJJBm29JqEFomUwJv8+Ra+momY8nQkdxcITWRRsMsUd3u18Cf+/ex4XLkoYT48bmUu/31U5ULFewJjjkfwEp/b5wbMd8RsF+XJ/FutZ8w8tRQXnWsXp8H0tXFMVp497a+axz//id2jRXUlloHzt7aCMgUxyACCrpcdGlhca9MnRLdXuQjkuD1ZUFj11A3Qxa8Mz+iwAAAFNBn41FESwp//AJ1DeNtsvh68SBK/Rf4NF/2B1kzjor4k0Rg+YCRKr9eN0D/U5dJHjyk0vX8I5YRmlIdIPrOZh9ZFIQYVvq9y1UmFqz5svL653YaQAAACEBn65qQt8lPQXXzbI6GJvh/NpIVm1fQ80BtvXsT9sI3MEAAAAZQZuySahBbJlMCb/PkWvpqJmPFkzVfj9LQAAAAA5Bn9BFFSwt//hOurJEKQAAADUBn/FqQt/wuAy5TxBS/zeEioJAMK3uuZj50Mp2tbO/sVntafoPRMObftnGrOpulScvMerHgQAAAJFBm/VJqEFsmUwJv82bmGurL7Xd4O4uEJrIZSIBqi6va+BP/ILobiDOUL92YlzKhGdJ927UblBcClhguBKfxxUi8+v+e+IHAJTxYztj8aAd/L4GG3Yhpd+KfzBjiuBg1jn/+F4MTdejkzZnSINR6M7b0LptuGuVdVPHiIyQncvgwzbyFrTkOT/ChdRX0MWhpJPFAAAAJ0GeE0UVLCn/8AlPpk8SPrPEliUsMDkxTbd6OKqkxMpu6RGLOXMPMwAAACIBnjRqQt8lPQXXzbs3JniUQ+Fno+bkLfWS9gyneCvBmDzRAAAAc0GaOUmoQWyZTAm/z5Fr6aiZjxinDEvujELMRjgIqjo13wgYhgjq5VhTbZyoqk6MGrcyUaWalDN6veB9zy4OqwNAnukqbR6tT8eJ5ZPVZ/CfGg1FZB77Nlg8+8c4DL15SUaZCP1KdOMY5SnT2LNCHKEQsngAAABeQZ5XRRUsJf/u0D4H5VGUYD9wPj5N8+tg0BeG5+BR9UgPfGmRR15n6QRXy1y5GGX/BjnNu+ca43ZiGgT3c1AxAqResK4ZBdyyOqIqysDc/l1LfSMA6w9mH6u0m0kHdQAAAAwBnnZ0Qt/v8O65FfMAAAAeAZ54akLfJZXos5eHZ7+tYKBl0xPSe+ZJipBYK39gAAAAkUGae0moQWyZTBRM38+Ra+momY8nQkdxcITWRRsMsUdTeveHP/fvY8LlyUMJ8dtHlMPnA+7dqOD2BMwuD8BKf2+cGuJdFvEkyhWRbbftj8rHy0Sfk5VovuiNCNxT+pnQXbLeUk/xiwwPY4s15SXC1To0Dl0m6IhTmhZ9jQwpKaQ5xPghNmpWT+PfgtuWvDM/ooEAAABAAZ6aakLf8Ljm7puWeAVilS5GhYyGU7ZcG6Ug66/yn3LuxcIXxcyi4kh/emxU4BeL5D3F6vPos8Crs+cpAZ+DigAAABtBmp9J4QpSZTAm/wAypHmY/Rkg5dx22t4QbgkAAAAUQZ69RTRMIf/6GIas0V3rPkVYmEEAAAAuAZ7cdELf7/DsJVnf/k1kKxhluVbhdE+FFWHCWSaTOabA0/B6HmgV+/kSKjsTIAAAAA0Bnt5qQt/4TmF3E814AAAAf0Gaw0moQWiZTAm/zZuYa6svs66+CctyjfnXOnnA02zXfBgMuVnaOViNylPofPxfvB9DynjOviTZP4cxbQh6HUdfV39zBvrVsIUZsPcOhOcRQ6eYBnxltRNC0vH7BaT4+xkHs9+AKG4684aH0uRO0LARMkrucK/ZgRbsXJ1XKpkAAAAlQZ7hRREsKf/39X9DW/zXxB+4HGVKJ/qxHhcGCfaIVQIWK/grkAAAACYBnwB0Qt8lKjZ0CZ4rC6kc4ZD+9NipwC8XyHuL1efRYMGL8jf+eQAAAA0BnwJqQt/wuBKihMiIAAAAhEGbB0moQWyZTAm/zZuYa6svtd3gzv5NZFFiYQ6F2vgT/vYqEIos+9TIzK2BKXajkyS9bOY0/BP4gS9klGhZaeoes8fhfM5hAxZptePIW2t2Imd71/82WL/6Icue9ihWJQrXKQYhY2feuoLq6WZPPibPSVPn55+6DL2CILxBIBkGG7XCkQAAAAxBnyVFFSwp//AHz8EAAAANAZ9EdELf+LiFYVHonQAAACABn0ZqQt8cpsTzBkP702KnALxfIe4vV59Foao06CN4CQAAABlBm0pJqEFsmUwJv8+Ra+momY8WTNV+P0tAAAAAD0GfaEUVLCn/8AlVqN5loAAAACEBn4lqQt8lPQXHLw0lrPgDLoiek+nfgK9TuShYT/uJW7EAAAB9QZuMSahBbJlMFEzfz5Fr6aiZjydCRnfyayGRGTNGLtfAn+tw/GulaCT+Rn40oAqFikl/v+HtPwT89/RIyRj13rHK7bY8qyC8gVY9CMdbW55zb/0xzqrL/4K8q3Mbck0GNwp4hIDqgBGfXju4JU+d2Ow9njgECD6xa8Mz+igAAAA3AZ+rakLf8LjY92ZuwLm3DNTnjhMpQ5QM9J7+h7ixi6KEEkZD+9NipwC8XyHuL1efRZnHWVJxZwAAAFdBm69J4QpSZTAm/82bmGurL7Ouvg8J+XnClP7UzfETsLnGNxdMv2AWgqFYiuVv/meGLSqUvfwg+LKv2YvJB3CRfPyIQR6DJYCntgHTU3GcT8twhkj6r5EAAAAPQZ/NRTRMKf/wCVWo3mWhAAAACwGf7mpC3xzcA8mBAAAAfkGb8UmoQWiZTBTzf8+Ra+momY8nQkZ38msiixMIdC7XwJ/3sVCEUWhf60FjFLeAKhY7JL1s5jT8E/iBL2SUZFsw3fbtj3FVF9FoJ7x5C21uxEzvev/myxf+Vh9/ym5F2IArB8Cc3VZ9AvJ3nDXxj9kG/852NAy7nUteGZ/RQAAAACIBnhBqQt/wuAy5TxBkP702KnALxfIe4vV59Foao06CIeOAAAAAUUGaE0nhClJlMFLJ/8QW3NJA6KHotWFXaY/ASX8iSwYGRR6po7d3dPDkr2QJWpFM4MUzW3vvNwzFjovzbp+A9ZZqdRXf7x/EPzJIkfClQU4swQAAAEgBnjJqQt/wuNj3Zm7A0oqKbScSWZWkdq3MdfuqVhoDCZS/zeEioJAMK3uuZj50MjwBxfv/nrP326JQEet6XVh2z0KpOXmPWFQAAACLQZo3SeEOiZTAm/8AMro5ARLn4Tyhw6bvSTxBTbmAbubStynI6KPqBdSsGLyrwQ786TrHMNDMoQSvr2iBllYYNrDsvAV460wx7NtaTUUe/KwEk7np2FStToCR2NZsk0dJrLXva0TfBgasMglL+TmN5ZxN/5i84cnhtA8eYp+kFDhCGIplIxtRwxwbwAAAAElBnlVFFTwl//sI0kNZBrKoyjAft/7zBvWyXLXVZ3P3aKmqWdK9GAdsw0p8aGaVppigYn4o1hk15TpZZYZap8fj37Oe1CRkTxeBAAAACgGedHRC3+/vRmAAAAApAZ52akLf8Ljm5eLdTy6Jr7Nqs9irZmmLfZau3HTEzh6H0h8gxvG4OYEAAACzQZp5SahBaJlMFPJ/xBbc0kDooovNC2mljnhYkz0qtxZ3o8EDQG2g/jmXAqJC5ZAvvSfXLrzLUjs/HDUjcLv+u43Yx6Q2imz897S1MmTM5V+RoBYlCCGT90jK3kgYhP3CnMedw2PYe9MJdZJ14j+c9jeKLrdC5pnFripy6UEehxmvbP5sOwToR5454bqbU/I0FX1UQi0zCxBp2JZPoEeuAFHQFZJzncjIUd2wxN7CIGTqDokAAAAjAZ6YakLf+E5l7/rxCMx/tj2xqu0yR0p2rfPHPwTX0U6xx4AAAAFbQZqbSeEKUmUwUsn/xBbc27xNLjO5KyQsnXX0zveV3X5wlkLacz/Jsg3cRaYlwCF+WSP/sv/5Yrc3CdvMThg/T2YXjBYJSlfbMDk+vowySSbEt3E3fTohATAmN5nMEaZhtGEKgcwheq8jUVEWL1CUR2SuErrr/+M20sf6nYtk8pcQzooWyD59SHMQwYhoqQko2hO+D6V0a6RCkINGWJKPz2dgU61BaqnZwb92j04TyR8U5f0MRK59CKOaE38FF1UqnDnzfkt3BwQliGeAEk0ow25F7QfCnG/q0w6suGzJ1RLoiye10t3eARPRTVlesHeYurJQbrrXPVorh8gFRsyrSf6IpZXrzK55mK4iqD444fniNCSTel1HFMuAmbLC5/4utGTKS7Uhuverm2YGEbRIMGdXuZDAS821UQlck2rYotRCU45Aq1+yhHWzLUwgRRFp9tWboZC+0Gt0zBkAAABeAZ66akLf+E+qwqOeMvxTpCzVQXtVVbGiA/enLOadDMSQvQd6Hp08xKtQHdcY4pv4Hofq2gUQkff8PH7YWTAhckUZcvk/HrjciIxwOojv94M2+VYJ+1sliBkwgVIrwAAAAJNBmrxJ4Q6JlMCT/wAc24R8gC/V9rgNMYhklO20+VJ/tK8LMPU9maL/Qm55NTgB305Dve5xTBLOVQG8hrq9vmqOIC3hp24fwfR05T16AEjN2zO2vVZ6vmv69XadcigKX0jm6B/kzZqYCpnfjAX1utVuh82Gm4Hb7hvTjTqtK0KWfKkoTuQALfshl5boPOiouJDSK/kAAACuQZrASeEPJlMCbwA4Mb/DVhON8iw3HRjWOJf9+O5e46+Ji+ZIPED6k6ZihPP0pt2uBP/w4YAb4+cKJY0kexyTzUDbpUawqK4asdKxfB7H5MTauizDLFP8oGPLzmLYF2tqfCCrGGOSepUsBtlXcyJxR2ftxbsuOZfyP9qoEWyP0ws1rX3aSCYwROA8JbD1b9zkvK0LwIMB31ksLM4nI3JMEb3TkpsT39bkoR39RQeHAAAAqEGe/kURPCX/++J7abhD9L0L/K3P7tp+LkEMEVzZB6a2WXa9mdSIG6JcyyTz6l8CTi8ABr5+izrYG/lk5hgkdYs58YqECt3/sUlKcQFEwtwkhmWOgtf2MH2OaDVfvSXE9c/rZ0BCT+1hL/RVv55H11PnZP0JmQDjfGLaK3l8EZ6z6o9OW4eGk03t5OH/Q6OpeM+gOFMKymX/tXczIgA0WlfobPSxBsrjzgAAAGMBnx10Qt/v8kl43sv3y2pauaW2HkxSYZ66vato++/2XMf8d4DwqYwtsuJuMQiLlNFLGCQK+F11Vt9hzQ2ApvE1i3IaOR3Hp2mMlE219J3bpn0cojhd4vaZCGbb36fiFono7YAAAACNAZ8fakLf8Lu9N6+X2rwuPb3X45dan4vCaGABVzaMJNO75on67EkDe8y6CVArkZMfzzzZxV4UaNmq3w7CvI+R9TGr2PSExOwdYzcI5BDjesh1DlJijB22PjxYqmTfYoXy4JtEpFaf/wVPtOqXvo+KrH+VEwb4oAKxzpzUG2QK7g0B6dbPBWTeGbGs+RSxAAABB0GbBEmoQWiZTAm/zZudOQauvoikdsCwZDqGnYD9ivqc7YqhEH5529seXrlizVYKP+RszqurbD8c8pdiB//EGBQ4s/TvccL+HdM6m1UQakP4MVL+bXNuaGHMoGaXONxbFXse+vOuC5ww1ZqAu8c2mHvmC2CDKZqwhTK4groz+8icYfNJayGZJ6aVAfn1nZm9OUEI+R3PiC+N5pDWe/ClR4g8V/eTGNZA+T/MGI1IWNR/DVAIVl9XAEOKl88gGJoriyEhmm3upkLiGH9MU2nXTV3ncBc15ZAhkOkjDp6CeoCAkfpdTKAYnv7fpJzVv5jtvhWf83e4CcYf+1S0ykUsWhcOanh2Kug4AAAAo0GfIkURLCn/8AqGGHLZKxWjC0/7ilm1DyKFqYTG/PfX//jHTRi0j7tKKDOfvDMz4gS3wkCkKvEb7+jVA4bnaV/Z3C3jAIZ4ykyPP/mjyKOWwvjEAPRsovYFNJC/03SKVyYMz80tlSrCL5noEiSAlGtEpG7YjTBMLTtcrrV3qP5rtTUgvQUKEqabDgnmNTaLK6CCcIhcz03aC+fzsjzegZUbEX0AAAB6AZ9BdELf+LpPNE5YD2Z+Tmq+78NWLdLvLwS3XlcnTkf/3d4GUkZ7cZP+io1ADBgY25eshcP/u20a3jXaLUfKsFonQ1cBLEiSXETXlA2B9ZJUONf1o2cFH/ldlemaCJBH+tBRf3TXfF8yty5ScIpbIKPbvlnt4fVY8cAAAABxAZ9DakLfP+Brv8XN2rCVV/9urb92Uf0+kz3v1HnuYL/70MbN21fC6si4CbWzgNsyRX4f6q7QabQn/pcYym4Bh/71G5x1h7TRhm9bpNhK6s449nZ208jjbom9gntnMVoqoFrZX+SRJBqLmM4U3xLQyMEAAAETQZtISahBbJlMCb8AHQTQvzbLI0pazCtGQFSsScvyljxf5X20troIA/34xlEwOxCyNeCn9ibOiEBVazqhT/lMk+6CTWYiIPy9Put8GSgkSAeXghJQvda9TgOoKULScFyX1jrkTaEPrS/GZ/kWkd6QGPKMjmDHtdR6E9iVLZf/mJGCbEec3VoMViQZMJEdpiAmS6DwgmgJFiqcsuT0oJ1q6oWVWLPbqygTHcHuuiJtvI28ZGfE6G7gvJrQbeyaEGyrrTD5WMOkOlyxSHdZJVZL8f6QaSQyrZA2Fs23l7na9UJTqpLqgIHnC19t26WUNe/C1MHG9Io4bqubdPm0ffsLytr8shj7UBlEX2+NjB70mq+nweEAAACyQZ9mRRUsIf/7RuXmTUpsrN49Gby4h4tqe6qVh279DOc6ouXRn6ntHVaIuvbKMJ4TTBddjvDDJNnR7ieFs1TCKQzGIAQ3xJgkGOgD+xOB9NZS2M0qg3b7BM03BapH394BXImZ2fVj2vqcsMu89FYDeSlUqOL2vfJriNyTZEPFHMx2BKYTaRFtATCdvPh1clAN0D7p9Kbnun055vmMfnvp/QX4FavY7mDo+zAtdxP8DsTOgwAAAIoBn4V0Qt/v8+Q7AgnZ12F/57pFMMCxMk/rh+x+LaUkNwNpDpYNb2Kx5ytRFGiqcIZGVnH7iDCFkBo4DtJE/ZtDBeyTkSwnEvYSKgxGWLxQybVZwXHytghDBRmkgNvw/V+YHKswbJQ/79o+3d0MTKn/9G+en3n6NICStQRZMoXaKVbvqKZyVafY44EAAACCAZ+HakLf+FDDewiXHXQO3HvwOwJT6bbtQ8MxPGtpgrI0Z6qQtvP855lG38yVY6sZ+zaUeE/rEVqVe1SC7oeF49IMDwIrrOORdqKzrW71182HyIlG/2ljtA7LQrEt+AZypgsDaGP1l/iaNZed+PD9Zj7iRnc07tEnyFdrUrY0MOtc8AAAARRBm4xJqEFsmUwJv82bmGurL7bxOsa6yEKctUtLx9Gvqh92gSxN3XGDEssMAkiOixuWjTdizTtI6CeJD1YKlnIXPEtR56K5Z4vePYdDlsb47LJca+rDuzNpDWZXOJEfpWEJH7HaLxm0JmK26QCbd8gBam00dXXEjmXDy49SL396IyhmlpUxXkQ0x/n1clWsQ5WmLckjYikc5yEfYyj+CO3HcO9g18CqQBHrhiJL6t/nNlK3dQw+ykAJKJf52Dv0VzJ/TwpFt3/Kr+qZ1vFfn2briFEgYhYcK3BVjgPmBoceZ7vy/nznuX6L2ksb0/wyGeyY2G8luJh25CtM/yqnm2lIMGF/Ub3gzJfzMan2CSFJm62F/fEAAACLQZ+qRRUsKf/wC6nWkG86AGPckjtX4cOuYYI1/xez8MCAHuld00UP+XxvaDpVBko7gA31uIKAUo5hfn0WnS0zn0Q90as6DYFq32ja2WGr6rX+I3sqPvhjEVczuKn/ec5C4yeT+0KzNsxLvvjpaauz/l67Eym1DHj8iepXD1Su3hikvSbMKB51kScf4QAAAFkBn8l0Qt/4uYdBnbLycnb+4b474x7fbPyG2NBrIdDZcAUakI1/AK0lbrS5zPGsJu6rhuSoFGYMoh9FV1ks3vRs6sOF771lWnDDkozOEWE9V/ajg2yzCab5gAAAAFEBn8tqQt9B6ZYGfW6b//RSdvva0d9dvaZ0CbFKFmHquCvk+ytsRBWo7MlGeLFFyZzbnE7AL16eAGNnbD4TVS/UjxTHlQz6A1O5nEsu0cFdl0gAAABfQZvNSahBbJlMCb8AOP1mUvBKzPCFdwBhnwCe35wfL9eiPcjWbNJ4HM0VB4OcY9j96uqHH92xBizJwgEOlTLa+HZMjwQ0cUFBzZPz1DFliw3EqsakUAj8CZCWfWFhafsAAAGmQZvuSeEKUmUwJv/unvFaIJN9wVnx0A9N5Bk+YnH4YoKdbK4tWIgAbQiPI7mQhkZPU1vKjMAYrP0Ll1i3D94/EKhiDEOm6AH18iNsd5Cp/q0ClySW3jMw8UCZwkv0KihDYElF6tgZ9w+ptri3lZA4V7HhgVgKPmUhdabmvLLcxz6n9xQiwLiGqGys4Ik9nEYAqtuocjP/VKNP4IETve30BNc32xYXfswR6fpZZHi7JCw8yPBo/YJxNLQApsDKibTdZZ+4PmWl891nxmGjD9Za4oJ+j8gUWxb1xHCJhvVI3EILXnvftUS5MZy5HdedYLYepCXt+wDDextlW9KWiVpCkohV/KfZ1g140FyOQ2dp44h5sEZ6lREd+I613OVcVf/cksBh4ySlpFzRQcNu38QhaAmgaPq9XxuRBLKT0tRvyNe0iWgQJR1MapMyIfIZKzm1gUCWujhfdDSWR5MayljUwtD6ptu7cL937rk5PDHCahhovZDUBbnvyHjIsP2/SXIj7cb9ERTzy49hMvV42KwLMTuW2RN9FlhnFMP1JS34sgOTamx1YUEAAADGQZoQSeEOiZTBTRM3zZuYa6svtfWeaE8AU+LThx0jv0/FgeeJffMgY4gUKKBq+7yaUAGoIJfgy96p8ahrvD9zKboFW7K65+wdkpkyhDBIlxC9reoKkHOOv/eU5/qzFqxusy1gBUd1wyg7tjcrAP/nN8E5O6PiYdvzkmotuGHtGdCGI2PLtYKerBkh8mrzOkoDnJ+ZA4Cpp6P0NcqZRMtSG+uLLQHmkxHrijlNAhZEw02ek0Z4twnTMBOOLGUurEzhFQNueKvnAAAAPQGeL2pC3/hPoAQgGOejRgTCrSU0Lu3ed0mAnbWqsM8VLqu/2yPnjYP9B3A/2zoB9B81SdPu2zuQlodSWEAAAADwQZozSeEPJlMCbwAwunccd3c8UbUCO/ww9o/A22oA0xYykbyvWC2uQZfQuhgbB0pT0veaTMpbtFQ/PwmuYk8nhbDZTzfZVU0/PVI78JGYbSb5lYRedXrJiZWi6v8NcowngDZ74I9AwO7cn7d0CRobb/jzsvNPFlVZqPq3I6M0/+T1oxQ+rwaRPR75sk60JThU90W4HZtEPFqLUpgZmt2SeOPIY+W70JdpK2iq4F7U8nx86QnNedgFuAzJNJht+cfFByIyUXIxsD6hTBYZQ6YXUjKEEcq93cDUegJx6TkFzCLxuwOr+kExiCtAC4MFYOeYAAAAe0GeUUURPCn/OwtQW/Rk5lO7rw5HDf1VX4wAcTDzcv/+6ObX9/BCAnK9Dvt3GaJCWvjz+rV/iPvX+6st/Lp5en9RVT6Q9hJdG5u1MV2gE6bmxHMn25xquH3iJqoaXhK66HQgaT8wBCxWIdVBNnT0a9Nf7GXF+0HaKZ+swQAAAEMBnnJqQt88hx/TIfdWuTXAxEdD+e1EN3rgOgtwRp0qFxN3Gw9fE9fYn7AFdz2CHXLI/pROh05d4OR92B9Ma26tnG7AAAABbkGadkmoQWiZTAiPASYU8UBqC5+4ieJ20SiMd/KXB7pFUcI9dBzptwAvCna1q9sO4LU4nqe/PS5M1Ek9g+/sB394Qw99ASGInGL8doXjF5IsK6WxqcPopauxz+T5cIIzzw/8zpwuzutn4HdFsAOkmpyzcIqAc9VlqmTUKGzu8ZQ6KkoEIDSG2o7oZPK6zeEp0Whbdb5AklQFlaTpu7uSb9zbxt2RWDT5JL0n8kw859ZDL3yRlwqyv0wBNACAW++3n+l3DOYx8aN+4Py8LIU9tOT5oj86zvZouepcr7NXtaoAagW8ocHMTMVflhLWtqNzYQYZoRLFbZWcuvwnXFUZviLmZlWc0tmOgLR/v7kNvWesW20DuifwX/CZK+bliaGzSw4wIwvmzjCQprzx/fO0I+IidCmHt+bxtVvBftJeQYuMWUgCQdgsmDnpbma/GIpcDwbQjwRbXG/+r0Fj2RayHpUxMY3LY1oUa5b3FVej8AAAAQdBnpRFESwl/+8MeXYDjK8xgVAUB/T1CF3D+6Jc6241dAFzHIiNwRNABwjVPqAf/8AUkKXomVIx32Z/PJNR8KFEVPcxdqpS7FyDN3I54587+Z0y2/vjlgYAchJDR/keqAB2w4ZgZ+V2bkbpzxRTSEhQn3l9tpQKDvIJ4Eq3IdC8PjnPftIFZMrqo2Ba8rws7JuIDauSgWFD+eqA46eT7j2f9BQdzhSaIxSwckJvt2gdXYK9h2Z86YANgdworw9OciC0f886Z09TCV20vPVHFMauErIYmP09dINELNPnQwtCd6MmY3N/mErjlSxMSsU/zAHYx8k562XWFX0eiME3ENV6zA4z/uzXuQAAAI4BnrVqQt/4UUAXWVDc/H19bfm3k83R6TJhTpCElY51OP+nNmEXPN2z25qOsFAfF4ypsS6i7f57fZa5e+UZU3nO+HecEP45RcqtgKjBq0pd922Da7L5yKIBfZwHO4XXvNjNf6NLllkZQ9WOaGm+hI5tOVdJ8jnT0349PFN+BidZijLCXL73i3wYspfanUZGAAABVEGauUmoQWyZTAiPz1Jyc3dsTryNyUWPTeX/3Ap4vJc28V031cApD62BUm7vreP1z3mu89YyGJkcBOeKY3BM20G9nMBtAOTiyl/0IVAC0YvC/JJX0nSBr/DDmcyCZDw+eclBM5A+zxXP1zF//+EQWYe9GcVOL8S0Xcz3DAWl2SlkrjNeTChFmwI+3LuOG8y9/pSn+NhiqkPWvAgzFUB73AzEjFaznKg6HcIJWEGdi2kT/9OIGcvpa91LsRkL1TLJf/6xmzab3z/4SVfqIobsVJMZwVBsGa72H7ZbFnno0OkJaANFmpTgIx2N/GC9Qs83t0iodN0i0h400OO9o/arlb7unYI/cXLzDJ6QlXfs3bhaQCGnsP5+U+53B1yRWOdOkQ+oHbSWcB1hAZKkz0XZ0KF5qiwBSxV1NfPGWdpfGsJC+kn2ezaw+MXYFT/kSjP5bgQ1iIEAAADCQZ7XRRUsLf/4UUfyBzbLwDGEsVCu0WdkC/jqpVf9qtS/XF7N/lJP5c2l3xjW9wvul2gp3KRo833Icv5+YOaprXyJ+3931RGp6VqTVe5OemX64sjz4SNg2J7X4RQTppnfryU1hIoYuVyuwBpU4MtERxAuUpyDUnhd17+5Nterkac/PQLfZLZ2+69s1tXGH/L0v7tgKsPNxMC4VQJD9XB3XysoIFMsQlENcpxLBVozuUpGL2bcRPa2cvMWCRvafoDe5S8AAABxAZ74akLf8Mqzg+YOwWlPi3Qh0710B4k01Yg7291VqJ8QnmZOMahIf+vtWT/K8bJV/wRTqKfLeIdu+oiduQtrjy7UmAvZAJW/gdourNDQkyiDVtfDz2O/9djgth6DxMY2x+CHcfmLL852/hzrZxVLyDgAAAFdQZr9SahBbJlMCK/Xml72/iBzZRH2Z2vlE2ecZ7jEh/Zej1xyq3NCoTQvewq67671wpGk4tS4+L0K4MALQ9vhlmsXmtI18T6xZvnNcu4FrRi1YPhfUNC7D2Ujm8PldsH4Gp6ngMEPA1l9Sbuqwql04z/n9/C8Sj4P7fCgJkCzb0TXtFLWhxKNgQgMcXwaTKWvmH0j0JcKSm6eMmnA9Kr2Iy7JqpK/vW9tiKmxYqHl3UmAHV/Kq7F5iLUb8TLxIq87l0+VPFF9n3JHUfrFWlcteoThDR5S88xjSNMXwffA4Tt9NTM36huH1rWKQFVJNkPZGdq9btETvlQJk1LWOuTTtYfPh1BhVMtOwZP0QRbZaRh3pFm6NBLWx9qndBvjjgy7pmNHs/bxDOpEp6EDyAjTsMjsqSmxsiqUDdKHvOyM+2Xmels7kfR9XGjMEKeInGyeELjRb2bO3ZdBtDtbQQAAAONBnxtFFSwp//AVhOjwStujL9TOlvc6it4M6DBfwXJvILI2MRle605Ki7w7QsySPhiE6LOELwANj/5g4A+cE5/eCXmLfT9T0+/uNBUyIabiFdP6j8r6YS0pWB+qWct9gVpRzTWfW7EryX64l9aJgx3PdS///EauNCMr5Jav9wPpTterfRAJkyBX94Ky5U6XP95u9qaRm7b8sujO20eI8i4EfBSh0Q38npqb6hbtSzm9oB2yeMSLnhB3woQN7LcNgOdMrl89X3kVx3zWIsQ+ikx32rvC6DqWHstroMU3vw5XctmiDgAAAIIBnzp0Qt/4wfSY6TTLLXG+x2AoNNWn7us59pEUJ7n8dJd1nvLQwOaTARt9nNy6pNaXvLyAJff6+B7xmWOnDovbLAKoOM8VsquteBNce8KWH1SslWkO8oJlCRsw+hMBAHOq+160YKlOYgsGBiEoqQnxCrgSj+7KOs9PmyW+GGqYkg1LAAAAiwGfPGpC34EyDDxy3cjDfiuh8YF8oduxRm0TP/kG+Ic5GzdkQbhXyvDMVnmCbAEk2c5k7jysLqH+vzYQd8SRfO/J+9Nni77lCgsnUTx+ydwFfMLslaHZE/Y43ezSeVN/xsPbP6FMzxeYGYSLKyTh5ZJM+qzQbShu7q/jz6lOr/5DPoNyXoeb2LhWEnEAAAFJQZsgSahBbJlMCK/aSS/qY1vnI4PQDif8onHsl/5ZYf7CQT4xOyqecn3HJbWXNjiguz3WLv9q1NupiZ5NyfKrZxRFnvYumK1MzwA21FaUZr9ehjQJO3AbJlVSMz6//0mMe8he85yK/0Y13G2z2LWIbecIOo+2lMfoHXViQ0/zIGKDCVdRTv/wz96HTxApCKITf5DJ3/6+UbpV655SGDE65OKDTo63fQO5pxdd3ZulTmgVi7WbqXSzxHlj+opi1lTFSnyrXaoALiNwic4Hiv7JzxSWNLBMMYqP8jxHmJBK2YPbdeNB6IzLQGN1jRspCsOZIh+PNDmatUA78zp+zV7fcIMmZfHKQw+ur7udDmGSMzJFcmiTZEjd0nvukhSfjLAddWVIkgodcOOiEizUkjQcUuyy/5bpmqtCupjtLLdQDYxvTdVFDIiofJgAAACSQZ9eRRUsKf/wFZ/vv1lT4fR1b220HP1NE8nrWDNGuH7QpBw1PPYGyv6/NNb4jtbNNC5dvqzcqpV7RA5BefrfY/DDaws6xFDlbKNPBSkzzzZ4bkWLNZ6NfNFS9RFm0jH06TAm3id2Pkxn6s+ar+JT1wlgUXCOIy3m1v4SRF1UkpR1h259qMd6aiPH8KPmhI+asnYAAAA1AZ9/akLfgVcdXwXhLAM/qaFXnWOSydUMAt7NoJihK3lNOcBOnUknWBkpH3AeH5HiAocgPJMAAAFWQZtiSahBbJlMFExX2kkv6mWOtCRi9cd3lvk3UHwgQZM6whKTu3Hy7UaWbJ0tOYNw5cCD7/xojp7o33li4J1M4bjqJJLBeGiPFuznpd32sJrxlndkVSB+JSRI2hmufFUrU45csXtPYq9e2fjfeohbPC3DV5lyYNDYRX//zkAVMZkQIb/fUvJ/+sMuzWxguek/BlRWhOwz+Xxke3f5XK62+Tm9hMHZSkN6GJUBlHobWHGgW8GFgj1g4nTDm9wYXFTRewCNqSSLbB4m/6vO8OCHpgU5bN6uR0m5fZ4ApOfeaMMmimPaA4ZL2f7HuKDMLkr/emzFvpXw41A6EYgPL695Ty0mCn5C41Q6H8ZwWnCa7w4GgXqm82m7/uVFwRNzz2htQ5e58v9e69CsMa2LsIi6g14N0Sqfa+fSL6n9sMr7LxD+Ws/qgIBlxwmgAc9uXYkhf1Qu37rgAAAAfQGfgWpC3/CzUr32Xnb4vOjEjPlKD+TuSYcF19bxvpcDJD1WICQ0mnMtZwIX+c1G/PzirnaV2KDkRE0TyfACgfCrJceBeUr+5PWOPTp7ikAkEHfIaDXQsoBkcY2R8eC8PfUhiWFXyvZxAFvjIT58wyH3oOPSx+iFYJ7D+E3BAAAAyUGbg0nhClJlMCK/15pfCe0Ba0VaVx+8LK0kP1ZUKlA75Gs0eohNM1PRAprPvRl3S0q3qccvY0KlLkf1oh+BJbXuBjxu+DKN9ETuHPYMYdvapMUWOjuAFXFyqJvWdIxBeJPgZZ004Cd/mSxrc/lnxHKsmwO5T00FCZtRJPfQx9b9a3ZAt5OWSzDXd75FZ4U1nKkmBc8/9jWF6P0r19vcCl33Jzl/XaJM+VrO+rMuKxV5572Oi+JiWFc/4VXtHZCeFXPt5l4pYljlZAAAAeZBm6dJ4Q6JlMCO/+C/8bthFDVlVNZHR8b7R2cDu6rq7ZSaYelQuXXnrF/SKT9XYGZDfeyHCGKAH6HNYcanRsB12jyFeRvNYC2U/1QOcKyuz9vTSvL2BzjXSfYXNz2SEeD/82lz1398eLry/UhasdsTzQYHl57azEOs+y1IDU6fS0KxFZgs16SbvuwpGca8+2CxeIMy4BSdBrfgW6DcWKXg8GJ7NyEQUu8BbJh8wvt+PF+IGt0ZL8P1iE0oB3UZ34nzfk7avPlgxbKXgfZL5rVyRR0jjRRRMaIP8dcvNEAhiTU8/cWPUlIsP2f/0BZbjO/JRowIcuh4fI1p7cT2EZ0bFJY+TES93dSXTo+ef1nN/mYIXRg07nCb2MTcp5QyUe+oveqxfNUIFwXfqRFFd0+/1OecdpDepvFB5nR82J/o/1Fz2ZB/pgkx0lg3tpgfqpP6arWdb2tKkqTF8p08akufv8pUb/LlMZR1SNxogGv7Goo/qjmo9HsRyh7mZoyKxh8SEfSjonQpmdkCHicSvytHWSntVNiEx9hnwt9BDyES6mPB5zFWQqxmPMPY+UdOGwA8uPJgSzD+juTRRlUwT36bMzI+5dDa/v1OoLX1Q+YifwjWSSFLHLCU7ywP5i/9g8JjaxAF3fEAAAEFQZ/FRRE8Kf/39Cv8jUFOaRfRSlTHdMbamK1MqRrCMP6xWR5IYCghncYSNVuqZEUzvsHNF3BLpqWHMGoE/gJSrEqBmOVNYf52b3XOu62254k+xxh/K8gz79ZV+RY9086TE/I9AHLZHZdWhR2r5JbWpRoJh15Q0PpgByyQVn5K76hRE2+R6CGFA//+TBdV1ytVkuwXIqdiPfZ5SDhrmD2TtM+uZ04wKqrE7YUH/jAknxw0J0I1TWoIkeMCviSSAra0e1npJkl0aFMFrkY2Oqh31CJpdDDRYT+DgIp6/BU3WzY1Fk0/X5sDEPEaet6rGmSwcCZbpI/8L9PaXKDIvtzZQN80K70RAAAAdgGf5HRC34fxi6D5hJjx3/98VhFntUgxgI7IB1M1tiahen9eFiKA2/OuQu6EUjzfmVRBBeNcPTG8ZbYfiyPqtpAzM9x3jOhWsaqlGPe/HO/HdlVImi+OvRKB/Xb8F2Fz+q6S+CYw345R3fqvn6Uqr3CaL2csZjEAAABdAZ/makLf8LPly+M/mb1TPk5gDVotOW9bR3UdmyKIgKlqlMYd5DK1vuEFbjYs7dLV/H8o5DhgCAjf6NeC7ZO/wqDQIwxdNYfCXFaGLoA2+wNK7oH+dXZZpWu+ShV/AAAB8EGb60moQWiZTAhL/85n6NGBAfWv3Ag/v6En45Ju/X6kzU3mRxDa5vtPJ+tbMdb7I2aQoTVzYQ50U6Xz1gS8NNYT2poUj0D/Md1DUX50cIKxDk+YCdzb3trUD5e+LYo6Gs2y/AAN2oCEcdT3yAx+Y3CnJ3Y44LmIv/jYMqt2lBJpGOXrPc+Ga5YLyXmAcACFrt3NjXPxU4SV6IIjDYQlqKoDbXXwKBtVdvEE/GZnSYysOE25Q8tm3/p49FcBZkzTzusYlVpFHUqT2vMI0sHvBm7iN8J5CnJiNPQR1TjOLEIvbiLTAsxJxmJIDXWes6gQLqQlDVZIK/lSABUFtaFA1U/pAprJf7wd/Lu/7uu78YkH/BG2UKv1hw7awTy1rDJiiqfy+RlmFniV9EDk+fgXKscMe5YaYvhqnACex0u1Ycd286j3r2A2sOA6BVOM6cNj14RU+Ia0iTtQ5MhsxbI5nOVc8l72wPjUY3+N30r1HVblClyT/8sgl1njmkX355qRhSzcmjfSrlk6cU6kWo3DQDMoo0GSAXhG25hQa1kCVm/IVGoQhjs4rRbwSOBxgIVlDyjlaRlrDJp0ImV22Qh3+t0iydVUStDjroAqIGQoRzKabfaNwZVkpeRRDlFWedej0j9RjBYlMM1QFnJkEr1R0/MAAAD8QZ4JRREsJf/7CHm81Kjf/RkJdJgpFPSpiqK5ehSv6t0ywRjVsc9Wo9s61m30cuUsxILjYXQ+jwU//Xij07Ik4V1+UUNIr0pCJF9qaSsHtvR5v/rJygqfBKcbC213syILQLx1sD6+X6KcqD8Xxw3bpavSFFt6SaatU5TmJUQDYDY2d/eTk2xxjtlDpKo85gxeiv4OS0IO05TRQwREMFPUI7ARdYXdVUwY0wvbNl1SMGvo6f6apswLsfm5TnubaG8DookNVdeXoPwB+2vSRnOKGD83jQ7LEMs4A2RAyI8HjxZKAKd1SshzhGRHN+Ne+2ToxJcHYLKKvQkzu5SAAAAAqgGeKHRC3/i2MlT4b8SaRkZD8eDXoiNt5TZtZeg7yqIhyrqj5i1bQnzbnyZVNtJmklfOmb6dFOj7Reh+6Epk51gDfM3a/S7/UIHy4ohpa9chT5i5YmXvS6AZR9CZLbN3/E4bIBYQgWUANldX1Pa+Y2/Oinj5Buz9Gwz0pOy167YnWiPHDI15Yt+Bwd7vRGyfY2p5Ecx8QjjY1nXjtFYENMJ4tWGaSJ6hQXaBAAAAUwGeKmpC3/vFIsexS3QT2RMZgpg/awqIx5YaD/9vljK7AwsBIXjhL9m9o+gvt8/kDprC6bjo8EHCSAMOFwveVh9zNOu5Gs9HGGNaA+7Q6G5LuZ9mAAAAwEGaLEmoQWyZTAhL//Eqs66Doj6qAIJoSpnhk12/AYvqUk87tqvd3tageJP8gzgXwtFav5U3dai6I90oBnuN/eAY78bt5d7ZSnrdWBInoNjLSAwFgyaYFhL4BMjswnfKy7ss71VK8HNM6POC3/gZVz7BWkOVOD6AZ4ON3z4aMzBTHnzEel6hN7RUUK9ov5XUM3ywH+Vc6jiirrAN2xJ3EbsqESj1yc4cjT6YWJLaWzF7vlMDgEPFUmXu44uRg0jw3AAAAJZBmk1J4QpSZTAhT/EtZpWnBUETSaDpHjlJP/QxhFFF0hkJ+XFUA/+V9Zzu1pJlVU3la1kF6AhQnQFvhbZrpsUoN0NAfmqq/yHEYm+exet2lRlAMSxetbqiLnZWeHM5/n3XqiXJrY7PIKIBD5FUyBFmhsCae1MuKqrA63EAVQTOjMsHunrYuYCxNBz2xw6+xyu3LtmFukEAAAGoQZpuSeEOiZTAhb/15GNCzB2C0p8Xiy7lhOJKvRakIWLCHnHiPsPr6TLkeGR/H+uTN7b2qrL+DodTcOgvxHWPO9BElkT4BT7W/4ksZoNLuAI0WMnIksrAAGvl1mqL5SLwvXo81m1UbtB3a/maLRGLsMOWcE3ZFOuOQSBJfvFmGZl3V54JsAYheDPgMzhA/BquouhYdIMQObHvW9A4wAnV4h8MCWBnWHRndI+nuH1FwmNAeljeNqnHWfVwuvOgEDBU/9qnfiecIrDDUf/yBrdGz1S2XH381oUWQ/zyQU1QrOD3cbHx1IPZHl7EzB+q9tJPj6tLgRfCwCLzWqLwcQxx8BrFdTpYbzCg5QH2QT6NzCPEAGecGT2hwC2Ufz5PPRvSqPnyyCROKJp5nqGhfpi7ih0COJjeLcJItnhATTxHn9KOgbvYdDp6BSfFBctFvZEm9UIqI4mM4r3EFRWNVYLELquVGio+4H3UfpKmPIxPY1XYq10wEEXtDvPLRhgmpleYkuMJ4Qfc2RY5p5kyATe6DPu2P4dfKJpFQLdJb6zn8LQ6OoLyxrYOkQAAAp1BmpJJ4Q8mUwIj//BBnvooIrZbBCOCwHhNfWLPmFG4c/OEFqJlP8q1WiYVGzuB12FPe25jSxUyY3QqdiEoc/fHeXJbvf/tYpy/B4zw7rCVOtWuzxTAMbba/XLvVyUVg/dns/VZbgG0yUnslamGdNCgl0tMmUA69YpixIftenjZntMDnRlOp3XyZ9+jbhDp95XZiQf5S5uRDQoHpoawAB7dFcA95UIByZ5SyR71FTQi9yfxB0xDrnQqgTQPjp7YTucbWL89f3YdAhaCArJYNyr7kpQLWZkexyJGk1V4JgiMPmLAbDrsbzyQYeh9zrGmcBnqdIEkxSYnz5NZMUbnbzr+R69lTbDvrWE3Th7xnET9GdatBuYyWXSkLg+Dy/QoXTEZHEmTw7XaMkh1Z89pOTSE7P8zkFTGEKsTKy+JZO2XRpuwMVDVHVuvnJIL5be+AaUwxvPksqXGuQOggVm2OiE1t1CVvNmg+ZM04XwbEV4NFhTLeeRG+NJ0c7Rq9R9eEYn1u2lhpuyNikNuYcJ/1lk/x5qrsKPj4OCLAx78Bu6hvp+TkDRjxYe4hUZJ6BGZF48U/ZIwvxatCe92IFRbcK5L16ttB965TEBjZq1+xbRLtn6ZLXDGTkjLougrszV0Nl0w5h+SRahAgaAedisoy8TwOxa7tHDJACgvrdwUiyJske7caBoT1Xe/XRUmQL+XPBWOrRC9cvmnmMNvVL7TGHORVq5M2UCrFd1BeSfgMNWzo406O21Hw0Fr3HWpMW5yJWcNBFAgEPD8b9VS+Goy44aagTki6pKcSBPoqoCn8CCFFqUQ+PKBifPqoVEvXPliJpNshniw2geANBmETOQ7cersU97GitKWRi/h/iylc9pz3hwpD+ENuD4BDMW9HoEAAADGQZ6wRRE8Jf/8fLgQu5Uz9IkUOrJ6BELPbtF8DGG7usWii4a5TXMo8iZ+4wDizN7Mjqo7+OAknRk5NX2Isg9oX2wEqUclDd+g+ro+yM9ajX6dteFgOFX1oftqx/XYOxf/b0wFcIb/DF7d+vswSsF3RzWROUnJefrIDcurZHF7QCc87Wd49qqSL3AWVaHxiSP+Id7ogU13Kpt9xuQ3ijA7fkopDDPUZvcxhi+1iEc5+K+4I7Av3x1cp8KRmGd9DMOuqX5PzllTAAAAfwGez3RC3/33r0hzrB6JQseQLF/si+qDPLsKLLpH/nDWT8ZRiM+89GIzhDZMMqYQYYQqg5Pq3f5dBDAGPlsIbAUOFeeCUg2zgPPBsD8sEFadDlk8b6th8zYNeeCNDsrj2+v8uyqiDFBCVNxkv6WUUV9FgdhLpPCbF/jHcef84CAAAAD1AZ7RakLf/ndlyS6w8FO1LSj6RxqwX4YpgI4s+i/UnQsASE/uTVvjAWp9MLKiBUYJziKiJh7kbyVj+HE95xfgg3rpvgvkJVHoQcGG+zSEjhXGWkqFof7mDa6PGubKsLU7wn1L7s7BDbf6oBHJPyV6LHRbXUan4qFeMuL40vFC5PoJHrgBfdYIDHduFDunuIATz6csqCc5SQK5dvbI0jXOPkplsE0lQg16KwV4fHRMdQx+00p9195fY0wGnrtMP1h5eSBZeXFxZpBsbPBWsalQauVB1Pq54gIF8vlHVPQV8g+B7fTmN1C13mGFEDLmFKiCesxoK6EAAAIwQZrWSahBaJlMCT/t0cAaw5us1aliChgSOivPfvEZ1c1aa/xrPkxt0ylt094THFjChazi43BE1vdnY6ii2HDgr8gyYlGCBUZxAolUqLqbr2ZByLbCJ5z9ysnWyE5ulUfYvhYF//MDLbKV8mfQshpC1O3V4YwhHYvODddHuU9UJoDTiGTUbs+CUQDKeJlC7nWvv2lybKL1crsZ+7tJY/O281kpwuYBu9C8NhIZ4EyiuEcroJVrlR9dT2+OqfkdMqW+xhSMZmYEi7YMHfTmN31rMTlLNFBIy1q9kbPzDlen6veB0zm5wlBLgK+sx+w/tes+9RTN7Qsd439PF1w6i9mVZaj9WFepjhzy2egtyPz2gnuCTNwIUA6FLOeRvl/kiUeqNlQbk1+HPAeM4JO5zk8gVtr+9dfRltIj83xvNfFWlQfEd0AZSjGLsHvUMCex+HV2YKsI4AFrxG0+x/Z/lB0WlMylBX/p+dCMl7gHWVv3CbCo8MAowa8VPsiZON7lXgp38249Kon7JNK+Y7Ncyk9HRNUYGDAwBtHO2s6dhBlJaUtKveTddckL+7SN4qHdjT83/hgG3coeFFw5hfAAqTJ9JszczTaGftXOfhM4ehRwmKS2pIwKetepqWw9ZYkMZBJWrUOX2Bq1h1amBtTZW0EtjQa45vCMiidXR/IpJ9LjCtEpWem+qTMlgNGo62Ktmbvm6PCMJnTJUPQKAlxcu9pZM/0kMsIIM8nZeIF59KUX5+AAAAEVQZ70RREsJf/9ahhCBWT9a4NNu5cL03vGFafHN7p3HAOBr5XA/ITjuV120J95Xf6Lz6Al0Kbk7GaBM+L8dFAVk5F5+9hk/Zu+FH1oe8lRkmEDtWr6Ccn+bSWPpthmlqY+FTxPYS/NY3aJijoRjaNr841wVp/f8Zma2XlnmtI03/k7xypihpfwpzH409pK6fPosAr2vgqZa7Sf+1alLB1J6/vt3tJv50VDZ4uOmelFYBN393RJAbdBWmSez+1dL9mtpnIvZeYO3HZrFCdnMA8swSFoRspIqspPQEnoRkEaCag9rfKVHxv5ymF2JoUqixP/G0uNI5Emnlgya5yKPPyJ8RA0GamkYzvYXc6P67TGLu9hbQpOqQAAAG0BnxN0Qt/+/je3ut3MEYKb20XpCyBJWvxbTPjSNr6tkJTomWqZqQtC/EFsDF2qlXpsevlMWWOxgaNbfr6oWUjjtgZcOv1qDX3egWAwzdBQDv16pv0KDfv6KIlwS3TCBzWflLZHWmpflakXA9ytAAAAeAGfFWpC3/hCtXDEnfXEax+9PIFsh1PjCbJpFM6sQuufDFwk5idKSs7kO45m7PigPpzdZu9ZtHqdfGqN8UkKK0rlcwKNToPdr73ZrXbk/IHZqnp81H1WumIHT9Nii7/MaBWtNOxojCxyB28jkbvdJ7JCbDVvizwKzgAAAbhBmxlJqEFsmUwJP8Qa7KtTkPq13//ppScHPJZBZ5FPxLS36rUvdQ///2CVVVf5CD0TndHLMxdL0YdFfaENX0qE5AE+2joQqTEPpkk1SXqnl6mZ/umfepE4y95JRvcqiJ81Xmt2ph3pVyrfGa2ZUAd+4TZqtYLFcwO4UdijN2u6suUpHk8GpFeru9mOMrKDwRuwa91gZdHdlBoQ9SGPpEdu4OSawcxxxr7gSiQD72zadKbYe4/Kcy8g/UBJ8yn43pA6rrblmBAeznveAzPp9LFV1RP5K+Fl1oYYo+R93mh9XrZEE2hW0gEqQ12M5ECRorg5omcs+CmQpHgAqPl+grJR+nqMJ9t460D5ja2WG/Hi2G0iKhDQE4STTrzkQW3b8TvTi9oe+CHWM1emsMQB2g/tWQwcnT8hZCzB27PEX0W3CUxF4YEctmBSDefXXVue4FqWTvG1mIAg+CzUF+Q6OSKMjrK40Hv8NNG0Wee1V8UL2NCqPnjy/i1Khss/VggCDC9hSNXhthMIFLYa6rfdSE3ALGrhmQetAWDIp6L4V6coH8INGmP+qPlbHmq79KBk7Qi1lWlJRJNYRwAAAKBBnzdFFSwl//eZyV6odD3/XiugJ303VI/nUKRpsOT8OYwVsMWcX788z0C7v5x8xSs5BloxIxnWh8wLuM2rkeKSKp6o9Q5L8RlzWbqy7rQnOQ4eTv/ZjHfkZ11/fZ/lAeFi6kpNhdx2Uk48DyrL8hslEP+UsQaB0Ogg84blj5e4Z39z3qii1OlZwlWNR+WRVTynuy/a7zO/AOo/6Og/gfS9AAAAjQGfWGpC3/hCyA9BfVMLebtuU7YCLCxtSZBAv7c0w6hqUsdBlWWNfzvRli59DHHbPsjZb/xDdQd1eSp+FJKtUxsZkTdBry81S5kg8vPcsKP6ehiZ9PsPb2oJ496cKY0/yuB9FYlYD0hn9U6TVNRnsSXLceiqD59acjmK0/KbPChDE3I4it8xgVf3Xp+u4AAAAbZBm11JqEFsmUwJP8Yx/mx/Gan/r/W7ij1xP0ITV5e5OsPDFEDReZJtdb/mRi7+uzkki/Y0l1LmVrl1AbjjxW8erd43WVfRtQSTz/rGenaaork8DNUN7Ujbmt5mkp4NrU70Lt3JQeYJx1x+ATCjMkfjafPTJz5+g9qAdvUUOg3+Yf2uoSEr52qnKCEj8HzqKxr2qKZlxw98c2B5zDBtYlDjt4IWpmoU8sava8cQUvtXcF5OOMA7VTOm1PMFKLhA5gXqmhDLWH2OJP2GXeRdc13GbW0Oc85GnzPbq0MI7gIOabLdjnUTjjA9+JGRCihIBVhvfLL9YUfGxnUNPcDn1QgMpOovZr44DnrQTeqb42F8Ua4ctFFF0oTtMrvfXTjnuGSWyFQxWTeqRP3V2VbGZ0wQAAADACKVcqBG8qS45rEE+Syn7x6Gw1B79Cg0Sa5Zb/PmrEHourV4iSp+wAtS1ixGvk/eZ/W4Xx/h6tQ9RAWgg86kfgh2JqN2IFjY+OVGCe8NHId1X+M0nLWj4IDp1znS0QWquwKXw5FCJFXiy6uvewP0Rr6+n/sZX8YbbPW9mwGW/Pku7YEAAAClQZ97RRUsJf/3mkRT6I2iclCUK+UVggR5HvWXnaEcNFzQbWYsWaNufofZCNpn537kdbWf1zubvLXAmY7t39cMvVf/twXMSMaDF/dXKCtG0C04cCZf9cLzrhNwhhncVXWpIIEzxziVDDcIaqXD5cUyMHxGeWfaqcClAitqEiiqis3UyI5vUDh0R0uppHvGg6uVVQxjDBkUbQ9J0pGrKc3SMDaAq5m4AAAAWwGfmnRC3+ykhcNDlWJyw1UBaop8jZZ2Su+YJsNLMUI/wtg6o4ZGsmG9m8/8qCO/AGCmR4GCtNDsUjTJJbKsUqgbKFo1E1Oj94wKIb+6oAY/PNr8est13iJiYo0AAACkAZ+cakLf+EEplzl5FRvlb0wGx5yvow89cW/OKR1nvaaoWl2yHQpFWhFuAkkj41+QXn09tCy+vLaUkpXuv0gdrdfePv6DCSDZHhRtwz8yH8DcT5O4jrMQ3BwksiG9SyX+bApOVoeL3cPkzd8EMxu8KZ6mNH0N/t3hWZrNDcY6Q5E6C7opu9QP6BbltOE2gBRj+H6mN6Bd5UJCA305Xei/kG44OZkAAAH4QZuBSahBbJlMCT/GMRL+XSq1P4YUEaVXef7GIv29QbUZaflloI3u8TRhYawmcGe7g8njoVDzoTSp45ytRm4JunqRmN46dk57Yd6PIkkdU8ieuI1svPHrsCxbmYPQ6UZGVQbM2MYIwLQZiK/pXKH5Wb6+8TyEB4xjZj/UHcc5jG7HwYQhZAAOZKxkwVrycxvIGDgpIKVGMIWpdNq9oAl6Anr/OwSPWqqeYOITw7u8MhTR/8z7LM1baoFr5u1GVvArfiR7mMCAvDqnppHQfTDQL5c6TeqxCPXQK/mAvEt+7lB9/bNsXVYa3bVSf9ucdJpWP4mSdgwWdXjPBrhmI0eJOdYk9h1uOsWJabB2e8PcGduJ/iT/MWN4sAXGgiqa23d5nvzc2gvHtZa6r9zu8bDfpcJcq+2HtllZBbURk+uW27QuwDF6vO5rnUMD6ZrwCOlsjDBadJvLChnDjD5Hir0P2tygxve5KDrgK46AWyRGSSU7B9i/T86JKE3272lOnCm4577c7d/mYQzJulRRhpAscq77wbDOw4p+xHS6A/QoISOn4muVDrCcgKRfyPJn3vW+Q0AcRSFFb57ZAAE9I8GYHPUYhEPgoSaGB6nQ5wYAABEV9gAtO1BoRv92jqRmJzRSbuD8U/z/IIwnva3oVnVpWRweJGWUNKyEAAABYkGfv0UVLCn/9+su+XQAcN/fq5wy5KTusLcrYnqmy6rmtrF0YiLcCrycQ1G3XKRdMYrvb7DHPhQEaYKeA2KyG9zneUpU2LpJVpoXQWOTqmRVWea/5TgRCz2k0+/2gvQqOUVV4if6b+0xDKvP/vdObH7fwcp5b8qMsEdId1WbQPFuruwh+BslR/A0yRDG+rRdVVJrFNAjh2Zsh7ul7CfLD1onoF6oQYjBLn1LcC7o5ePUfW08+jGjNVCQHdYZrgbwYUCMRY3evvyCwXLBEtLB8s0T11XrQxIwRdEMXmlnjB+/u+32COLr61B+MMWT9mr/Sh/gEqjIgEyS1xE1dRdyD9NrRaOYEAzqoEeewT1CLPDdWA7u2uYGQ9SZ12jJFsKDLwNwzXJkQbJYhVGtxb4sCmfmq+MsJlKksvItAp+AKIJQbQHnx3kVg1AbX6D+XxGdatysZ7EXnIrHcZSCXLTHvuJvQAAAAJEBn950Qt/btZSh2JNCeCeDINOPiZOc5RA5ZcnKuWu3huaRkVg8bHrkqn+H0fb6ENYsqIc6dokHIHWnU6LuqN9Og+jHbiGQ2eNoitJ+67xg3BsPbxsjIf/IEVl9Sgok/OBB2iowSB9cfvrd6evrnOw82AXuZKbKzE+CqOAHBirCp2GWGA80cAPeaXHta+Ch3ZBLAAAAewGfwGpC3/B9MhqU9C3SAZcV/DrfUMlhh2zoJ9ybQQRX2dC2NpUtY1IdKlwvPM3u1VHpv+DLmL5mTpHWYZJgqrtW/8MMOX/RaHKVG662nJg4rFJfwi6NHrx4EpS5WvjsjnXGblXXPyNlmOdVRn6og3/JWS3Dvz10TMiggAAAAaxBm8VJqEFsmUwJPwDTqFA9Pyez/wot0IJK/WyqGKJ5KUhbg3P05JPNx1IIesSDiv1LylNgUnq+CljDtbPhkSbSCJ35Llax5QIrZ/AhNLD1XDv/OZT4dALkp5m5UZ8WJb3ikBwfcXXdlBKYMJlP7xQlfVOEBCBVZWB9tS6uAEnaD9h/oLLRHUKT0/m5K1knJ80ao3Zx5EQ0ClYiX3t6fLgaPbTHDlfWexGnPNKoCx6WGWz9xnMN3kNJFkRHi6jBbUQzrN3HMbErypmlPrKaoRjVYZEA+OxUewiXAy4/DTkgIKTZIQNT2aeNA+pPNqTOyxdlBuzJs12KHtT9LaAZrFtgGywFXRKY9rPrWv1oTxwtcSUJ3w9nkIg1Vr2HcHdn5WXbHKaOHiTsk28vsAPluvnA4JUO3NGcnlYFbd7IzhOPCUMqzFo6rOBSFcfdRpRVLP99kYWfdFAoqDPotalzY4lsHgmJQZPEhvhwQHbPZsu4aE6fmHEkwOYdpDEjMabfti4YQ7PPE5mkRfXfB8Lhp5U5i5T9BZYvAd82cFBf48QiQe/cW4EtB8u6lC/AAwAAATJBn+NFFSwl//sBSTpHXudmqn6brm2dhWlV+w7CcHQYOxllu8OnI7+uc8s/4vhrzdNLQxDR3dl9Tu9vwa936IoBQoBZChT+gNcreyKhtfOwsGMoUnRGYx0MPUClOGb5C+orCXhFCBUH1GA5fIQLi1gvotXwfJvJIymi8HYgHtv1XY8+Mh8HzQwQP5lHcGUXqiw/pOmHgiumWQsPeDwqhwqVIuywJnyX9nWl5ChecGaeenTPlRk/EHGjg7xv0rDHfceWgdbB2vLzR6+3eTfXaXMstUpKPB7pZqkS7Ws73e/JUST7GX5nwUYvg5ZmBMKgYwwIeyPEil05lrobxKmmcRAQVAEJJXQ0RS5B98fhkQDBx8W4vvNNeTXZrQrJVcgDUSpIOrpm/KIf3E8CBXBXUE5Xkj4AAADDAZ4CdELf+MH0N+xbXm4PWkA39xT1UN1uKMXiWUKViOJ+hDP328LisZZ5yN+0apQFqo+5HkFAjS05NI7hBvm3dsHLCF55lB4E8PSa+h8+BT3dHoho6vy3nNPXNL+w6hefWXPBXKP/XUw/vZYOz/LAldU1HLjNkxCWvfD+VNbLeE/u7+MQEn6hecQh2ezVmmG0m4PQtPbw5ScqYZsNgeNN0A+vV3aX/5pmOvtAVxPOpRabSrl+sGlg44HyfWsxsDgSO0DxAAAAjwGeBGpC3/hUt+skO3ofuO7iKEc1Ft+QHGT66KuzMB6/HTtbz/WBOl7sPEMh6SdnxUAfWoh7hi6SqDRk4U+Y38L5Uqzp1GwLMyYUWiZ3ZSMqf9rHvB/kbh+ILDIf8/AzNvaxds9TTF+Pmcx98Nc3bqW83/X8gbUsrnRf06tAPb30SUX17QhxU80WAIC2EWvPAAAAskGaBkmoQWyZTAk/ANKY5byO6iS59RfkxkCVv6lBiNmQlQb9sbQUrtjSeqvMitJ5aiBD5XZ7jTK0xbZkzOijl7ay0/gV6fOT+z9hlsfOnxG7c7B3n2QCvDBEnCVErlt49PT5zcu1PNKFwJgWN0LrDlkY9ISYtGninDVOk/6W0NGUzvOx/FV2Mk3AvhAUewpOQ/bVW0iSFYcap1C2rH0Tj6GvOB6m9KqeM5w51rgx/pxpqmEAAAEAQZonSeEKUmUwJP8CmnhWI/t5tbHYlGjHjznuPSiz+XMStfd3DNqxsBP77qQAqeaY+yWIZbuhaGMrz9X4wt24i1p7l+Ubpt1IZwz7Tmzpd/7Om5l4WUGOqZ+Z8bnwh/UG3T+dUa/N+VbAu+xvpyu/8kJOtuZI5vCWcH2ndURjj0SNOYDOauP+T8ra92Ya9jZ3rn8jLLXI6p+2OWUFnmkGcEOGRhk0X+e4+j0GoqyirzWQWxf4fE/hjk2Q9+tSRXmoqhMf/X++2tH0/mNWD5n6RynUYu9fBmjBzfVvkwR6NJZG5ZbvWm8n5OMn7IQLkKIB2J2OC0TonO0p47watae07wAAAh9BmklJ4Q6JlMFNEyeyfUp0yXyKgMrH0fuh2UHsW0BTbSwyhVjxGlCBrRshWv8hAz3oBfxlsrnUfqhju4AqhLVNVg+qEosSc86OYqwfcQIkGP/tBYn0lyX7qGl/r3i9PEcVzY3pn+7R3RgOx9+FsEI9aIlrTG91Ju/IilLg9bHSKmLyUXdMRYzLRQRU6IGi3OVzgDP7q69NzEar/lCAGKzpLriAMVHACckBntACItgsuQ5Whuec0AVbxblpD6/kDkMzfH7yJraAgFUBw82Mk9PiIxSGQvrWjgia+BqHoxhhZ5+hs6Xd6QOAFcYHojN2AsAxvOMXzXsgVPOK4b8V75ZmeLskWVUY3DFgpGqm7X/A7Fc4I1O8TcZBTkRY0EpBIAA7NFc3aH2eGC4uIIP/HEsOLduJW580XU6m/qrbeySAN+lS9NzMLosEQBKRBDB9kqWXi8sEKWuR+gRhaKuOS1sl1o9ImvFGF5j9yA6cp4CGx5iQopM4zvzpTY6Yjo2zE9fx+p85wnTYrKl6b1ROX77b+7E93QjwqNg8SQsOho1DaJYUwaa2ggu63RI0DUITpMqKN1pltDgAH4Tg2SAExngiutfEkZbw5vdm0myVjJdR2xStkXGX8BxckG4EnBdrnAbUPSQFbfy9PIkfTQseY7yroBce3pDOc5aAHz98vWs+rDXiDohSks+76dY/lGczdJ72BXxG3FlG+KAphaGl7uAAAACdAZ5oakLf8MkZ8TGZ1/AOy3f3EdXB+ml9d4nM5M0DKi4Cv1rJGeVqnc4U6FptToys0ctpVALuiAFpGqZaysn2vc8duFMuCj8PTTUKo1DjKGL8lIlRo6l640D460gOcbICGHB6pqI/GBthNhWi3HQNWRHwTjQw5MuWDt8ocpw5QkA6q6AprQ95uAWbokRwK6ORQ5bjOkaIO/Lt/BprcAAAAV1Bmm1J4Q8mUwJPAL88yE5O0PI+IjJB7GIvotFx3A4A/IwZkEvYIR9N4A7BQS/FzFcvUOwn/+ywxrJEf6q8IJsMaDgWct+L5iqjKIqY1j9U0ziMVN//B0qxx58G8T86NUebw+aU+3OSgp4pED2EYlwUPn2XOntNbTotmyReXhkl8UIK9nGf439DoFTJF+nGXyaz3UC4eVuFNeMD6yOwEiITOrMovDWmV2pmoJjKH3n8wjOHhmU+6wqef/iBcwfVEoUPWCDjS3xwb1oZYngGKSrzX4sV+zGwGnXwYC8tkG4D73Hbuol10zYvXRabDGWXobR89k6a3DsWvVFzG38KLEj1lGLyIo00W0T+vlNb2qI/nfAPllLU7qYfGC3dGQofu0T0ODYRiHL+gU4/ruiQNzLG24bzORvzt29tqOaqXrQ5yjUBle41ZUh3XyGZflEyZNY7dofMmgYvV/XVJCthAAAAtUGei0URPCH/+hk/Yb56zE9LFugxhzGGYXRXGS9pXGSBV/XA9GEMm/5q+IxvXQdOstkTWU3VR/clw2jjAFET+/e7OIgHy9YqYns3+TQkfcmpamQhoUcQXHJsPkTjV6ZxRlGCjOBhPJhLOvGmUujHL57C0FkzN8anwSCdCaS+Nw8isH4uuxX5HoiPfbao4yjr44PmRzK5caccM2fFmEnbOknxsvpPjzpjOw5Uvqewc6cp5MoXWaAAAACWAZ6qdELf7/VA/8wdTL6sfLzGm/+fCwebLgWtzXbciV6bqXefp3pf91EfYSB+1LMvMgxWeULtmeJSp7jp5DJZNu2baKSAtL8vXP8v14z8kMHg8To3Mo79//08f+guXo4QuM4cYIugB6EamtCZxvGKr+OK4MAGmj15nwfIPgqB8Ud4N6iU2BU7hGGkVPJdzPdfwSD5ekksAAAAdQGerGpC3/hR17zrunm4t74uVP/ww9eBcejuou2u5F9yjrbqFuZV7OR3180J+kZn+tX9PmaiUxMLTb/8wgKkty/yl6LnT6rrNejj+KmkoxWwRKtG2tmNaG7AV/cXnqWH42lK5y3LCI6bcvsgyC6Is6gpV3DIgQAAAPlBmq9JqEFomUwU8n8AnuXqGCUSSxfbj/8PZZgsaoOHuC+SV4iBrz39avB+llOv4Z8mV9p5QrP/N1LRkFwHURE5KCvdbcmgiz8x1Bg62bolHdVhv2dT4rTM1A55ZiDu7PiAL2mXpMHq4LAgu//YEptjy/yWyfg5A+RiAxar28sPF0LLbjSvxmlxwlNbfsJ/qKW++1W6dVK5GnaRz6XnLDBvPmQAPduxPPwQKj2X3tBuUlAPw2zIONlqobsTZaoGF8FPdzo9Q8TXt3NUMf/9lLAkQivysKXYy+Sa3Nly5NZRaTu/QPpL9CRobVTf6SpCGRTyiZQ84NwOBfkAAAD/AZ7OakLfd6d9FJ2+Bh/5v2VthuQ3I7SKHjjVG8RZu4hUXHs00CEYhlnjeuILHWW4Vu1fPWGe3WD3Q8bfAThP7un7p39qi6wEj5jc/HA6xz3ndgZHwDl4V737ZlbZgGein36pVMxhyyVxj6BhnTUR+jbqG18/KSZ/CexSRhJB7t9Z+8G9bmPf6O+yqAJq/S9Xogx8tt6pR3gsEHhmUttD5/yluWDj1ZZf/mWLIeR4p+l9xBXZo903WbWo62NAVBW+ChYRMqgCLDJchxM68sf+kcIecBzJj41brShz3nA0yPC16/8xSOS7jH8f8uH27zrmvap/XSbRxKbF55HztSaxAAABIUGa0UnhClJlMFLJ/8YydXUR+KCihTVVQfg1bqDI0GH/sSSkhBNcs3pXbOsE+2q+yLtJHhttOe7+6eCz0tUx5tt0sG5618jbqEZYKGm37esdo9EHJE4upwdlYcXRJad7jW0/sND2q1DaMzJMB8MFi0kbF951CLlS+wr73bGtFV0hNUQ6XutNVJiQn83NHvQqDfkr+79fbAmVpr/hEp9EqPSApInV6y5Kpzpng199h2Fs0klesY+soTUne/C6zVHEBcmv1PIeStjYlVBn90aQ7AnGWK8qJpZgb/y1xI1Avccj+6i9Ys2HkJ3/MPLUl/4CD7kQ27881iGvD45u3BTw7jA2mW9WxRyIR50xhPz9u70gOQ6J9ZU6tMnRfysaKwoABOAAAADTAZ7wakLf8MZtH5WvukUwwLEyT+uH7H4tpSQ3A2kOloJPiQ3xxjoi9dQ4pJK6fP5DtUALz6eRf/8hEjUkZgEBLnu7R13rIjjA2Sj0Bu1b8K3UbacC08dYwA/LdM4/s9LZ5g2k57wpFAz5Cnt44QOR0njTLuw4VLJ6Eaoxrw7+8Wr570nQJGXCROat31G08vX8BesOqcdlP/ougq2fAU/8d3YcuVkfvHJ2eFoYA9N6QP2kd8zbGoTEwWOhtymfcSOmEegcWoCJPptOP3I3czLaY5wNeAAAAgJBmvVJ4Q6JlMCT/wWE64w9egz9rjpsQo3t6ZsOQo/W/XgkEg9ZfkebzjgbVEvho5K5CM15kQ2zdBblVRasNvw4/Qr+iSLxXeDsX6tH9snU1vmFNIt4mLstKjB5nDhQRLdbnnBNTlc8AypyDBL9vc8JBlcAXvN8OZsVN76kMp5z4d7+Te1tUWvUG7peeEfjMdvO57Ds0oJ4VleagelKJoKyp5Ev32EvUO4duSa4PL7uCglhlO44OaZZvqmIDIni/UcGmDUqbX1cKX2IwveNFHiZO1B9SUbcUIOM3yF1Iza4yWd5mTqdYUY7+hIZH+fzwaEC7r/sJ5kkOvHTnOqi0hkScRnyww74rpRMsEFN+Ex1+mgzzW428XEvHJiPskXyXP8YNEC/OUfgLrWQfyZH3POQg8M6wOMx4MEi2kr/yfUAN8cxdByzIpzVH04sr3uxOT14oiByI4xsGFb3MVkYGB387ScjBJGIfuaFTcrOeN1rp9Rlgb9AI5L+kLrIaz2ZpJVMfkWrBhh66vEwI/N+qTBsDVa4tTM0jdADXtaGV8XQ3PUI5HB8je0HX7zorsla3RZLsIxfKcQdZaNQ3CONDxD8x3CSYIZ9cCOU3EH0iTq/AYGMlA3Wos6s4b6H9Q4E8undhAW10tYkKTUl6G1VTgE7ZL5JmrhuMYJrtryFQ9fhRWWpAAAA1UGfE0UVPCH/+hkn0dtD7mDuDp+TvFLV+573RvvfejXqKtshkw4/xEyWiExed+WjThMSiutFotyFML7LkRZsWpTbxpakLZbSMZ7Pb10diLV1tnWgdb14Y3LaZFuocHSg0/nBbEaT1vwmD32J/jJjqiR5NOBDzlQtiY9N4u/m8rYFkvzNeigk77dol1Cilsld7cZll67NtO+gnhHY0wfqGe0E/reaxdQoEgwXCOR3YWTCkA4Ke9Ov03sPtWE0Eb/OLtcElDB9czJ4rCvyYmgDOlCGq5gHMAAAAJ0BnzJ0Qt/v/Byru9fJuguKYVijpziuFikXuuMzHauCqBfCRTD7/NbdAbggj8GR3YqNj0d7fAlYP7U154UwQqgrrMkOtGLCYBje0/gbiHKVche2fjsRKslJyr86o2ZbzHfjg7B14TNhTurSSAfd1a+G0ZsXJW4JGFpdMUNEWQVDRe3yHG1b/Ic3Id3Lkqs1P1X438AvftLJE+XGd8XAAAAAvwGfNGpC3/hW18QZLv3/oLnWz5vmGySzXof+ZqwRQXjM0E6fvsk0abmnEdUmoPIfRIAMPoM749zzn4iMGSE1pv3A0esH2IprNe5bhPkbQxM6MXpIvyWdukBI/WWIQUJpqAIId8i4BefO4d01XLOcwfPjG3eiCuLUWPnBKt8Yu7JG6cUgdhvdiiuibK688FTDxYv7JeeEkMLq2eDs///CuSSiNrSuP75Pp0hnSn3pptt5Z4nm499BR7AeVg9GobmBAAABBEGbNkmoQWiZTAk/Bn78rHVQgBT4D/O5JiYb02/HBfyj5e6k8hrbUtHms+1rnqH0QvFxIlTPYthQyn+a8LjzQ9J7+iAo+20TYikLXERxbRCvG9EJotJc7jWzRCALPxKW4jnqd5/P6fcunjcFR05KF3/ZaaqU2q/8QzdYV4zzk2AearvZbi/7KFrYwOwOiTaN5u9dsED4VgekqXk67eEENrCvwacaCoLzHmkyL15aYu6bAzb+LTDYrtd+GOoW2rsd4GBp1gJruflaGI4E9Q5t3HEofSToliPhR1Fk4y/xNYella/f9QnQc2mVo5kNguKaEhoPkQ3shkiTTZy7D8KrcKfklCt3AAABpUGbWknhClJlMCT/B1jmMm5i9ZvO/+ODMHzIBfwHiS/4UU1pblSg3XWrbagmrdlJ9TCSNtFy4+VVo42X4GgvqBeYwhdGbr2CwpbfKGkJYwnZz7kxf//Mni32MSEZKfALa7qYlRi0y832RWHzgn4ybvaadOJVwdIT1X+sWxr1+eLhcQl4revsrvBcNbKxa27Nmbw7aDmQtZcqe601JorLEJMlMmXyx45ETQV0416rsyF19NtJ/NNT2g5Vo6yqFoxKeI8HUUhPJ/9h7eHXIb54kwyMSFiDzsOw4GICOk73WUBECkCgzKJKPYvASbcfb9hzrpEIJxZXmYABDvevtrpCpvN+M8nGeVZ87MABTzmAw2WIAw3DqoEIM62onFmAOAxkTBLXLfQmxqSF1cDHQ5kuWNtWm+zqJE/l333uR6ozTpBc39v9YcHTtO5yDbCfQsx2kJkcg/DFoo3yM2mk6/CopgfqJybyWDrQAE33Qt1Cp2dfG4E2zkTSxeFTQbIvutgDcUB5KywON2SqgU+S3Rv4iljVQH4Z2emrlAs2imVbyAbD69aIIUEAAAEfQZ94RTRMJf/74tfsndLwYb0K+OSdgiuDp8nNxI51RwEC13hw2XZegoFxYBeGQYBMVnRdq0bkjTpub+7/VbFR5qRE6eC6P+HJSagKxqr8azbCLi3xCY8QfXCnHJWiI9yE0IIdKn9Pb4z3l+o/n2nDcOLYkKLO/mKQ7nDz2mYyZj5Z/qUpOXuvF/0akDkC0TADD/EyR4JwwhfD4Z7ybY1ab9xpnYo8b+NFwwHG3gBa/7g6sDpclVHZA4H5pDxeCoSKawYwcn4rGFMjbkWB+YjnHQDfcZWeIL6K460hWvxPSGVngnBcGRBGtOiVovcDOTwVGAyPyseyWGXxmPjtIbWNuKFggXetoyXsSGnshjP3ttiWmfGgavSaK+SexO1Z7xkAAADcAZ+XdELf7/wuH84CJ/wirW57z/ZRtd4qV6Gok2SD/yPVN8VJRgvwUjywjuROftZ/dciVqB0mal02+nqlcUDf9PwJE42qjgAuAghSOyofWcPYDeRVo+3/YF+c50NPtA8mX9Q6KBBXFjPcDA5hRjH8xpF+d39e6xxSkw5G/f7I0yGanfNfn5JVmj3/ckwBEGPGlSfjeo/3orFsY0z1HBSnfacBKYk3dKx230a7p/28Ue9HXGeqNtAep/pQTC9w9KN8Nw7h/0muKSN5GVCLBdaamhF1dbbzr0Phow1hSQAAANABn5lqQt/w0rb0Z+6yMOPz+hACyeq0y5o2lziV5lxTD/ofdAGxQ0rVsf/ExGyFfYH9vaqA3SnNFKXqaCgjUE+l4ESv/EzLfgmRptm2CgPVLVLofpyX4h2sy5/97taPVYD4xoB0vTG7BLx55q+fv13z9UUP7xwJJhF3kDiL4l0LTrTsT3xvvs6BJ1naA5HIye/HL7BshhnwgknDSudhO0sLucRpLfIqXEtOe1DpO8R+4LU6WKFIrl0IIVjP9p8bu4QbzFP1354GCBstjsqTYndBAAABPEGbnkmoQWiZTAm/DA5bOvarTS8fDGyI4zXgZhcKlNlGHN+xU8Zj01IlwytXbPssxQRd9TP9Gh6M2Qf0LXl3KyL0pwXLGftzlLwQYvKyOSIUOX1s32QnOP3Kn0PG/edy+ulswVsKdKf+t4HropM+kB5ACXivg90glq4vhb36rMNXsFJXB/41jPmCD7h7rUOCPI3UDlaf01LrMMhSEyI+9AMCgCihhJwNgEP2sGyCncNPYgIEVG84jlHFA/XE0I8h+SndrLFFyGETSOybMs8YXH77ViJ7xFFLRnS+Udgkj6qwQUL2/QMz5EaOcj1NFXFQy24Nanc2ZVe3+dFur90jVf5nDd9twmxoRfPL3QgL5XMGjN0VwpQNyzUQ/JB9g5euewGKnPsh4//MmYAuUh2w9+0NCtJJeBbsg/kPC/sAAAEkQZ+8RREsJf/7CgjiZ/Be2EBtof4Xb5eHr4p0vnZncWwQDsw2QsAx42//GcIHW0ZlT4RBNzhqLe/RRO3V4EwjeWlPupaMLWymaL9MH37FdtJ38Tw87pcOZR/jdI/4vTb7HmnAbAxtdSw3O4FcbgN8Q8Z0A8Gia25cIESAr3H/OhRYuSW23QWUm1//l76p6zSB0b3hIqh/PzKMLf4Mdeitgm8OPLQYynngelq0Osui0qhPnU1ROtKPudCnX8cAt2JR8TfxAHpkDfUk1vOz0GETNr6TfaSSqhDbQK0Pi6V4cxormuTIFtkt3Ulq+SVJ3LqbRAvsazy+oHlLn8dB7kphTMGJmOP/JyuIaGpJxsOm7sXgZHbbvETrFy5LeiIoRvvbKbkWgQAAAOEBn9t0Qt/4xt4m+jkfy7NAlz8n4A5pLtH8SFS6WsJb/gBzbZQSG213I/enHj4R3K5gxqtyZZcsxUdxsXWiadstj9bOrPtDkoutx/xZv+/MnUfMtn86kBwqf/qCEX2mT07V6k2LQZi0CZGh6m/7YzQdGt591hoRWLIRM1NnPYAQ/j6E70tRvL9guQaOYdRV0m5Rxu9P7dAlB/CVNG6vxwA3r+Jn8x7L3bPwTaaFpa//INVAb08wKb16aAhttFow8ViqEabpGNcr5vrdqW6PT/tn8xIFOAz9ARIBr6rcD2E14cEAAACuAZ/dakLf+FjAi6LEN8KuyS8waPJY+3mjMWB9CQ7f1fuRwuArCz96UrO6JRUeol2wefW4oZEcNygq/EWYKyhP+qT7MSuRa+42Os/gIYqO1enXfS+V0SYUemEsy8Dk9BLQv/+Uv9z57Nm6Daxmn9pwRF/wNyA+OxgDPVl/sD25KlBuOCBhm6z31i6mwF+CMiUYaAUSJuarfPKesp/QVoFwLmS/anSzkaKjXx9apjWAAAABC0Gb30moQWyZTAm/CVbaklprQtTYHG5ScmB2tnB3TLJkVUMrhELBThvwQyaii36hKzfdZ9+rZNohpnLJ2AJWuodqkRm9tTasJz5niuS272bmMJXcj4rTJQr+7PJu13CQP5qVCBNcSCxLgATrgWnitUBliH9b8ZdOjGY+dzAEI5t4mq0K2j0H3CORqpdT5VNQih+JzIC7ugVF5QwVa4D/dTdXYsyOiS9WKBLiFgb3RWpkKGyL9GX2BXWIK9SlPF0sAmDohjj9ef+dMJmm0r8ea36iZplApsyR+rRcxOjM77qoncjJCMZWzzm5cA/iwif/P6wGj9gx64Yts7FqCaAd7ilOL7yCgPdgpCIBwAAAAjxBm+NJ4QpSZTAm/8+RcKvhmn+qrORCpLvVUg/56MDlHuCa49tf8wRw/5eUZInbZvf+dFapmLmUS8UpUMdYq34DQBWPVl1efWZOjYyZqDbHbnpCYSfkcaJB+K7sNMFjoKbkhzy10IHfDoolXia1cGqH7D4shFODxeUdvwq17WN5sn/ktGZUMKkHQaROcaJT0firSZuI5fNITgFoZMmGO4faKh3n/b3wxX5dWr3wVMuX6cgl1dca0k8Ou82Sfs7CL33BZB+Qjv5ZzFMhdZbGP54P5RyyUo3e8CTC8FeA9SAS6Lo6nlIpDD+rEae00FklSgUKRejs7fWcKXNOQX4aT+fZXrO26nx1M2R9j7qzoXXwo8YDQ+K2LAsu7S3CBZne/Ad6Or/YslnAyEphL5E4+jTIXEb0vTOQ6UDEGui9XvmeYR3Z1t3nRIYuNSL/xaXzISjqahTNT+oa3w8HKV0vRHffM0B1O5fL8URahGUB+PGmzH8jh96xA2dfbKmyHGkV1APO6kysXJJSvwOGHobVfoAclBOIoyUIH1IHz20tpvov1rZnfB8fhOkdIGyIXLSHgl+8trE0KS6AnvzRWRtjno4n3xEDOpc56eM2PnQcAhB337BnZ44N9QPOlRxZzi5yCgSjrJHVA0yr/d90rYis0XBtrj5D9/kynD1R5uPO0uu8fHn7ZH3wB9aQ0tWBAKgd4nzemhFxX4AvXCLClx6sjXJmnJHEHkBw9tkZTTkEeQigWrt7EyoETE1rQOgaewAAAQpBngFFNEwp//f9WGx0Tm4H0wlvFxrWF4MhHe0rDRCFmpgjR9FyPhroU5aiU1cJnW9o8PrTrpf/+qKNWiSFKJ9wVVHsGq1yDmvKUsRtdM5zF7nosL+5CWt/G2B1qHShpSWXBtpENGtSxyMyfO2kF08TbuP7OalfInmEj5okRFKn4buDBOTqbrfzsWiFZ/Z+DHtbNsoMmqajjwu1WfZLFgjDTiwybfomX+IsydPYqbIO15EOjT4roUpJUD/kvxi4tqlnBm73R3cOY3LeN8twp+TZaV83fiYaH/7rOPEW+ZrjLept1bBAzX9bbP9g1DVQ19liOLHQ7ol6nlbjAASqtnckihA9Z3OYVLYMbAAAAHcBniB0Qt+WpT+uOr3s1N9znm9B87wa8asVhxf2N8pBUKTXeHtOg69mwW4ep62dMxnr7DIk7t3hOYL/OeDawdLbeQoMIcSucx6BvLLDPLnNSi2aQStYvjMaYRQSTff6EjZx4FhApLtiR7DPgDY2/RH8+0WLlqykmwAAAKYBniJqQt/w01rfSHaZ/XMjvMzcxjwn71HDdh7SSs2YF4hP37xtzU+n78qr6E29/jrw9lwD2mTc9IWiMtBEjb3x1cajOG8i2I3/iyVs7hz+aYc1sGddvHbMt6TVTA0o6vYf58TA80uh1b8kHqo/S0JLVKv7M8Dqiuqf9t7iFdZ0dAl/E1sN2l2LngEJoXjTQlv2PD7gZiyQEtOWsI7cQCkwi4NgX+eAAAACFkGaJkmoQWiZTAk/xBbqWsutibh7feb9JOXboDRGT6Ka5CEW3bmKybXR/UtUbWN0aJyg1AAWYCQhCF77/n7Psdg+qWV82vc/M/O0ZpNc0MdlmDa2eI8z9rXaIEolMEZuNjW5EtlyZzIWc9k8kohS88PoA/rXDUy+W9N7z/nKvR8aGMAeh3anmlu/4h1Bd/VmGDfX4wlsJkcy0xE5hIycy3yDTNdtdpHOgEJvN/nxXDYjyF+Gigh4z789eikwgjlwGJ//Ol/ILQgLb3uLzJVBfrxPSTXeTDw5EVjMQkrmYlzuDlxcn3JuXm8eqyTMJrKzao47FfbYcHt+0PmNNcVin5+HsMCuX7qMP5hykUhxraLxid/H8AbmdySXzsq13HJ0vrsqiQh/NTrcBgKPHMs5bHPgRimuwuCPfDrTTX6WnVdIw9RkHb6fB130w9D7/rtSV3USAq8PS8dJAYsJtvmxhHkbzdKcuWN4ztZWdZtOBSNeU/g/kZ+DjC6HNKOZRecib51vdhwU5XMvn2iqoeOoJdcIGmJC82SXLDvHUBQluwKcudl81LzGMbSELFbQG5QPXEyoZ4ce6nzmQK+0/MkXMVHVReMl1Vb0z+RRV7k1JchHZewJR1idkxAPu8bIjX88Oh/8Wa73dxeeQ1fodUI2BDVa4MaA7bXPwIfvQ4tt6PXys2R5KUsJZiPIz3XykH4M0iG7BGGuaQAAAShBnkRFESwp//AfFkLStI8QnLXz2hq712eU3xd4vGCHHcaHPMNKyHC830JTBDY8rAmS6IUND/zyPy1klK+UeaQZzeD+n0082gF3EMso+litcku/+7J0Hpd8rwtf6gdJbq9SrmQ7iVWHYYDF8MA+1ygx0J9X+bKT8sYefWZXKCLZ4Q3uK6ZUYmYIQQg11Wdx2iTSdBFDih1NhTBARGLo7Hmc6IL2XhtHRKDMwS4CVhApWMjAOeVZDg/4w525y18sRP09R2wQU6QZKp2cOwyNTIU9L0U2noBeZzR53GkUZi/gE59U/PwrPwcg9Q+snfLyEcfne2BFK1NRCxKKX+NXKXbOVvf57ZCuNxojwb5+kyKr8OzWDoQKu6APDCf20QYYaBj4U0X0IQoWEQAAAIoBnmVqQt+c1yLwoZuNx/K70+LZ5wSF8Mi8lXIssQyLU6eTNjEEhIFYRgEdE1vY6RbacY/swiXV90h4gspmDnk4kHdXemmStVc5cTvOthdv/PM5IvzPy481xfmLtLytVS+TUZQ+rEtiixgFEBgzqYPsneBoydDiWy6GkJffpPWVqnr6iCjXv3g3+YEAAAI2QZpqSahBbJlMCT/GMn5ePJyVd4hCEwCwB1xDMOVH7N6mrOH2St+MFd7NGi/gmZPjR9+NVVz7TXHUaIrCYadjK0KE9vUg/u94fBklJyK9yK6kvj4s/wS6lFreMlXYr+NlXV8hGW8px/jnLnn545yG/3yZeizbYVbqYsfcKLoeKk4B+k1/9l5IuOxqZafAPY5zh4P+7R93W7+ryIQotIuW+kwN9L41/fLDZfOsUipO5zgSsVSwA01IsOu73ILx0jbomiaMMGNfsJMmuAN2Boee4atda0By+b4QQShzPcanamkkk0Lf5SM9PdRoqvIo7Qp171bJANT00XjE+rZYholPdXckpBjl7SbkvUmI71oTj1iLcqbAXTzj5dJyUstt5QNXJFqVl31gOqltrsIlL2H03zYlSrTydaeL7fP/CblVHasPQnXRQVh2ZheN5oXOmw4uV7Cy6TP7FAk356odbYb8qff19tGg+JgvMOZlx9WkPpJOXADIHwS8nGcy9RPska84hRLzgIkyfXwNNum6/3PvWDelH53bSPuaxMFfRSmUwgxTD3mcbtzpS4juLcrnuA0fv42g14jVRVkVCIzeAjgfRTBR7p2+HPHIO30NjdZqrX4txUCfL3iHQG7ra3MtRujnLpBdIs1azLwzA/v0YTOl6r66L37Ih05g94bTOFpzsjfnChdLTIAhj04E9Gucre4Gqk+dOpXRDl8CI+1XkQfud1P61wqA69JJnK6UeK+ScUwCEY+D2kMAAAD7QZ6IRRUsKf/wIJ0bR9+Bkb5MCWSeAKSx4n/FZmE1rgDQOhgHw6mfK5+5VLMmuPLPtucTDEB7XleVPg7cPQh+QXh3gyULOXCJ9OqwgaQXXz6Ij3Oi3bUbihPZifEKrvebiQA+qZwtwZKyZ4kKLN5Kjo7SRcyrOnuevOUDQRhFmZZVDuhCwgnkZ+MxeJVNUd+JA/2zlVFi4BkLeIFQQsqbZVT24Ol7wED5fwuIV/ZQXwHAssiMj1yRxEno/UURFz4MhFfeNZNBKuusmG37GU7oufGM4zLlENNb+oHYWvhWX/0t3n6t5ylq4VXwyNJNpbPTgDwMBeioIgk0aRAAAACnAZ6ndELf+Mma//Dzl7FYP/sP+1OuKOoHxZAyECl3e6IvxFt2EtEttdvZiB6uiRiZpOpeQA9OsZ1U9sug4cBLDpNfG2H9YsDf7qisIAHaOBPepQAw9iQhK+2TH5oDy57aLapAlHuRjMq2HblOYpc4tUUa/yT4g+uHNsj/PcY7U9JjNXnIrhvQ6b0B/9qUAn5lA4z2Bk2sOUQfxVjMuTh//1Me3BBcLUAAAACMAZ6pakLfoAnC6J/2rjWCf4tzr/j2ZEeW/P0GcfZfsCdibWVAS799C3iNAZCABZy/D3vBa//wzzfUEG5ujcCrUyQVqQwykiFQRogVp0IWsZyBH60HfXCpeSA5CSkR+SXp/AdXB7Ln9VotnksdMo3rkO6NfxEhCbR1M16AXgVn5pXDhtspM98GooWDixUAAADNQZqrSahBbJlMCT/GMnv+Pi4qrG4DLGv5WieIY9//ofzyYr1+t5GhlyUfLwvGqlicBOX7+sp0wAndDy2W27QHpu1fgDEh5wROzlYTjIdUldMCUYU4c6S6S3SQC+oWnqeUWDPtxK7EFnYtyJ9f3SU8r6Mj3ziURyGXnfalLHjEcXDOSJ/foz+aJZztihjNOwGaJkSChNRkZSERhmsolEdjlm0WPpnc6gd3kgMp/amlMP1ww5MI49Y6fPQd70PXLnxzdmSO39V/K69cpQVcsAAAAO9BmsxJ4QpSZTAk/wAWbhKLABnv3NRrE+XShsr2/GvuJjSQWPX31P5n8Yma81waktxjG6Da08Rk3HviTj1/Gmr/MNpYTvPN92BSoTC2JZpx+cR/9LQ6zY9dvrMmCbIN2kT7p70n6hNQrliv/8wmn9+kvtFrMReVcSj2yYHmz4d37Tql7MsMJkFZrVBA/F7VqYi3r0oQtCvPnHFYKYokbDKL1N3AgMkEU+JkqKOd+BtYbMngEQFD0OvXdAHrt43IQgsyJYcwuRLtfy2/5pZtlJYKtUDtYu8dIJDNUDq9gJ0yspqMeg4YH2F564GkXWmrkAAAAa5Bmu1J4Q6JlMCT/wwZOecSlObnFd++eZKfvl5rB7ZcUqSv1We4pRkMf//GiP2cphgk9QpOrxtildz/njl8bQLLUN1L/OwGshYEduiU86CJOnkPERT70ZM1L1jmxpra+nXw/k3NRCtDP5DnCpCKqHyFhW4lWutq9Zadv8i8vcx/ozljY26/xZLP8sGZ9zKwDS8i6QJVashLkTnfYpdrKKs++duv1E8wv7Rt4OBR75xLAD01AcX+wqq0Z27HL3j+Wy2dl6wcAcqTfTlhgb9CHKn8mHFagI3u3ensLi4Bh9UihduiftlH9WId2P4h0Pz0xNNryQ0eqbp8DLGf+jNB/iqXGe3b7scnFBZ6z/4L9lZ2mcxEYIjurXmuEF2CdrChag085zUa5cv2FyCdAOGQ3VMnmeregKyoxqFjXwfpQxycMS8+uTBX9uSo3E7+tssfAjMtXoyjLU4RPjSSUfC2DFNRtB4dlH1JcfUAXD6wyfuaxvfeUidQusv0y7Hnqm3q3XWoIfi8JxfrCfw4jS7EYiSpaDbdJq0CwGGsNmt5AVZHKExHlnOYkG0sRr0dPfKBAAACZkGbD0nhDyZTBRE9f613RftYXfNygI7u0z2+dLPq+5yMfHreb+7LPhiKdosiQNafncn60LkJGo8L+AJ+SyV+m2u2dEWLioY3pZr7QMZd26Mh4/K1J5ZHAsWNvQs9ci6xwzcAkfPJH9Lq6hOmYpk9E49R9GQekWgVS22h7VvdbBzwHnx/pTEx4hLuU2ld0ERMKQOeTYW0QjgL1dRhROgt0zi0E05Txvcz4bHERYNx2LrSBmMAHxbLVRe18bG0g+jWsY8s/LNnM8p4L9RCebiNH78xhWHkPJtX1SJ4tQJEfiCZjBX3PnJr8ylKJMF1SLA2a5puPnG/HTerINMY5BCDu2GRu6VrINurtKGg9Mm7YKd5C01GTvmFx33vynP8p7u2Thn6+53cCXFG1zZQiA7d0OD75VWmyyHXneWsQaSFEwVClgXkx76UGnE4oObQkF3Bmi8wx+cIHnSk4io5TwJkFifrgq8CK/MvSXv5ftsGnRNrSAnGmgS6zuv9NPMDpyAYbEyKXoh1c/5whUjRbo0web4lcn5aWUMEG+RPP++Zfw4b7kint2/MJYBSeI2Fhx6moCVHPwQOGkj2gN3FWH3no+5uREvaT8I8xEnU2eS37k4WgadW+ZX9IyTHMjyjl0xZxpXNtKfRRH9f/YQ1zjhvn5RwpvP4ICrHGAhibpM2IOmjlSBDCapM0IVLXutEYRNCYY/eCNU4DtdVLpcmgvt1b9POY0e89ZTfLo0FbT8CyicatPJdMVFK1iYJv0OQiFVcQfa1l0mgTb4QORPh49B7XVWT46zAnqwhEkNNx4qg1xONG94DQBmRAAAAtAGfLmpC3/DYCmB+TwGt/gIFHd82RRKEGoMJfFTlvMCocvoYO+hvuF0+P1+1PtY1Ot5ptg7IN7Wkw9vIzjIYRT5c+eGvRQdrKgl0/aH6tT4qKJp2lTeHqq0qgHJl1KHNuQndv8SkNouCPZ4lUKc8q/TCEo8PFi189HzQrs9RYI+6epwRZ/e0+Kj3P2WRvrm5VRnn4Ggjm5Ol1as9h0d3f4HibbM0R0PtD3aOuCH7073nqYUkdQAAAU1BmzBJ4Q8mUwK/CQrOgG8mQf1/5jUc0DSwa4xhr1X+ociQkg/zMxUs7WHGIkRp6/LOsMMj64roovxcGGFAHvUDYNHaN6buRKb96LRDxflJXyolvW9wzL5JmojZJODi+EDLuHFSOv6Tf/lUupOD0/emyaBc3NKxweRk2OvtbnynZe3QiUKfGT89MywPKK/oPBJpYHtUxywt14idRUwjdASW5f3ZBdlJRu0fHJnraAScLwOHNuUKNtXm47CTq7ppY4enSJviTDvlbUIkzDPq6mNzgTAQeoA4uYhLRRs3mya2uKro70aYPB467y4mihjjjd1EX6im+bXr7Qj/vGChY4c2I057D6QSgdCumqbWXrHWGqaxdns3pf7GjFYmKm5txxa72Q9pjZEg5Jvq2mQ9c8MPdS5OZh+cKJn9N5a+Qe6Zekj7TBuSO8DHE/8AloAAAAJHQZtUSeEPJlMCTwralmo1ho1Z0+kzc41vxZgE/CpxCherf9OQiEOcrgiO5Jrb5/oFXf8IyxTxXRDfbEZxLTr/QpQAa2AwDZfiDL7twmfl36oYD2Px79lxGCbYHyx5uE0S67ClHcgEnBFHJePLkYgXV/LezHinm6j13SJJJqxJRoZ408pZcvBS2vujQ4zifxHd9mV3iSqbHkyysP+vDzDbLhjof0RvNubZlVYFQ9nhULhfj/j438acnJPlTQ8ew2ZSX4AYMpPe9pJGSBURAJRXvYZ1C/T/CKbLHHVp8w2gT8CC4eZBrDsBOIgYG0RgBmZnV6Uv3VuLi/qDYdpoCoosFsD2azjOPO2SPiDqhuTdqeR67drsoDLaIAeAe3SoFfVF+TjXhQosrlUWBsnxgsg/36mRgkkOuCnUhxeqp/ZG2Q7gXxH8h/4nlIcFfsPUN7be2z+0Z7z24+stBK93nED3K/Fr755wcbibEI31EpSQzEzG/LRjyP/vIPfyCBpVCboD+S5uC9MASvEkd1+IDeITmkdlh6KifmGKmoxo9O21BDPOMQkYyYP9c3UpByPUmZwMUtmMOZI8AYAb85jFGRLj9ZZJOVrz+5sVNgmpuy6ygbgVXBhjEwEd1+QFh1aPg49BdHc8CpX4M+/h3GU4y8VxprF4ggP67Dv4e9DSlRwqUpEepG7m9ITfnLDniBbSI00CTaV4un0xgC5EtLcqwSOAZ+Z0oPWy6ngIP6fgHpPr3DD6a9KNuNfyMluWS4FsGr0vR8hztKbHQAAAAPNBn3JFETwh//tHjbdY2fLjkvQXWp+Wr/7btZANdcMyhf4lDqGPkFtO/YynX5I/GLhyttv/GgWxefjNwSnZlEBgQeqk47riyrgzMknxum5WXvDqFQCHb76COKRxGdUZX5tLMKw1Ezq/zm7b0ZdV+YzY8pJdDf07HoU4eEeb4RIPJk9INNOktG9mFYNQS2vgrTsPFRGeHC53RerE8dfanst+LOCknIvuw7x1U7GReAqc4e+tm7C1mC83iBCgvHecUdbWhGu8c8ul7/pSbyDaRtebdsVqtC0wfJ768oNib1SBfL+0OKWkzMK5o5z1harudPDKfR0AAADDAZ+RdELf8AGvzY9G8rYF5rpDa6MBNj/5VhL338VSr1YLlv80+EdqqsZ1+pIZ46EQAKjhlIQmHNUEnGmeKzrENKL7WX5sN7totcJu9a+xIPW0UpyXf4d3WMlum2LdF2Feaw7Fr4ujIa4EE27WvoxrTkL8Rm1VR7+rraQR59GLYKfVfEjJq42XnQIOurlii9hpc1e2hoeLwJ4jHSNh+KA7ONdarfFRW1Hs+iCE2j6BF0oHVCW5/mtC+HsKZpeYT+hhc3uVAAAAfAGfk2pC3/hQVIKTp57/0NwOmZO8+Lc2ay5ZtQyt6dvc4MvgUMi7IrUzCMgkT2gohOegNa1JtW1gv+3y8+EuIwv/Ngv/pKQcgd4ftO1ZbAdAzUGY0KOCj7cOvvsCRcLmS1MkTXcdtjjBc7jVGVqKNWJtUxX5fgLlPvn0JswAAAFAQZuVSahBaJlMCT8HxbavoubRcMg85euTmCjakfZhTEMPP5OiqlBBr6Sb2EwffpvpBELV3mb/P5Dhvq6cVVZs4sfEYfXOyuawR8zLPVJCNlLcJsltOk4GmjPhnLbTTJdChuBVX+q7Q+95WYn+r+M5E7uB0Ex/9lBJa/3zrSiZC7XHjv97xRCBe8gRdTe6m1h7hA4vYIleoFLK3RX7eOmMRC0m6DRsdrN8pwUjy1uxMpVY33izK117LIByJvpmLO4dylbVBPAwy6o8l2MbjiZSNyOkw+oCt/2aAKdJx5JJAiqxt7zDdiBs0V4cK8QsOJSZ3FMV2bFiADcLvygxBGvTzpg3QJXqfANr9y/o6B4zsANvJDn7d5upqNS4ZqO70HNgBtvj26NRSuSV7vZu5XYXS/cO3iPjyJ9jT/8kNl4lbsEAAAGrQZu5SeEKUmUwJP8A/I2jqE/fRFqoQ/bygMq9c8EUzgG+4jgJeEO26ixN42/nwrOBz/j7wqS4TOUTKf0Uy8xIW+dCRtv/YCrLdr7JFnk3TFeh4W1iPsreYGuOf/838xICvyaRNXsP48bY98ZqJhwCwWYOgP/wmsRkXPG0tHZV0Jz4NIwSpPpmfSgBUFJ9ApuRONkjVZQ9qw69weXOeL5aT3DfmohxDFn3cKm0WOPfTOd8pJcGfJIb/P3SVf6chRSqTxKgNsXiJkGNmtblouABQLDX/At9aHbtL2FZIbMrIxh7+q/FwgWKY2bTMcLXquij+MjUDnwgpLhZaVdgib/GyquP8XcA8mfOwtvL9n/6JhzUJC22/FSHApSwIhJzd5j00UfuvH/hsMCDqqnma0ivnw51YcP9hKM//ovn8BoI6A8L/DDpw4ITlTJD8LmI0wrsQAKckvDaFIv1Z51wXT7kAZEFpUXPnjpouHvE8JGEQtRvqS6f+589dE9m4Kpc0iYLUBcqcyE+/B+aB5smdmyBNF8No7/wfUs7ZdWeMW3NRi38dojG04DHbQHvsAAAAJxBn9dFNEwh//tHjQ5prIiRWac3UNhRTcWIuOIH8N8QhprI8/PFjPocGm5aBmwQsBbNr+pM3zf1OBDH/b7NNWQeUbvAUIkX2EKwBdc2FP7UaNxmfhKk2yiPEDgLCpYbXzo+adVQY1JJfiGZj2wbDqqi46Knjemc0YKAsyrIe/mDccWJEB0m6biozACY+fpZEO7YVW151HbjzDQcioEAAAB2AZ/2dELf7/XrY0QDLTwIR0dL1i30TgTnhPkA4gawZ0VdZvxZ2/4fwYZKwS3ylqP5K2zyTGyjoRDP1JAwemT/8qNBzm6sR+tdGUS56RDwc5yof+cqOClZYR/pMz/Nra1laMhIM4au03Pmrt2q2OKb8COZFbdBmwAAALABn/hqQt/4UmAbIevfLKv4o6jgkzfSjY1FjLkS5sIvYETMRWskWIF12Vybs5QlnuxwF31rTHhzOQSyBnNIWGSfLdX+4jDjnvrNN8muGM6Q8RpwhiKrEqCmkKIOSLy/vDmtcv8MNuOB4ZYhNZ2zTK+uN7qZP87hbvB2aa8SFLGPof4wozNIjzdoQb86USk0W7McZMyMtE65pXCoy6YnyShc4/ApRshp80pAOH2ax0hUKAAAAG5Bm/pJqEFomUwJPwDdSG5zsOgokUabP0j1JgRxh/5/LOHRuhogJsQIL0t9+RN5/RP+EvZcgubzG/NDsFAKVJpj4+8ghm9P/AwJtaz6BCka9leTz2ko03z+hHsiHBjHhk78wdkKLcShfVosC0NaIQAAAapBmh5J4QpSZTAk/wDmkZozBYmBSX7ecDnThFxF8Qv2HJu1ff0aG9ZIbgUN1bS+M4vjRJlH/PG9rxt79hP0PmNcauaamTjzTZ8n2tDNv41POPPbGopYo2dm5YjG9aZZuf7hPzipuYkNaWV/8GkybD1xmY3tmh1as/hU6TYGaHyt5CxvW5yimnY7INqJrIC0nocKIPp91okX+WyE4UjUdm5OweWwUgtZ8DGbyY9hwP7Z6nZpma+SYRp1viYTVl4cB7W85G5pLn4i8N/Q27v1FsARe361R8zJj0oV2Bwonn3EcPZiRvFcV3IKbXwoQppEm6aPRv68VMVUsvetSRtjtsPZ2yn3Y3piX78Qd/DJjW/NaT4b131bDO78BaZNoRhktYrp7UmxzD08ZBLC66qymLnHf1MTI5I139zICTNlF1+maialBY86+jrdFdtBc64IjhpqAtfUOzlEkxMEgP0sNz1CJTWLMJ7f/tRo6L/vDLH0NoLTGQELBmtsXBYAT6GYB+NXcPIgo/3XImis0+7HqvAdLTUPi5P9Jk02JgtBSkGLNV1Addnz2Sx8PRIAAADrQZ48RTRMJf/74puSISy/AMf/3LENCa0K3NxXLqBAhf439VDbJPzLZNArvwr7QfB3isfiFImTbFLc/ApH52V+0T7q0s37CzlJpDSC8zg9fp0PZBAOFZxxIZuHzOWNfFcJNch8UTh0a01hgKQnkCfqHL1SShbunnPyDcwzbRubATOjVWwmVOB3Im4Jokf0C9/EseQS1cnomT93ls5NzoLwefudO7spQAbk723jkj1tGJRfxYvPSzSD7sV+uXbT0OGvCrkn7ewn+ovCagsjHyXQlAi5c04s/be3DZSuoLFv1YNDtG4uH43pXAmElQAAAKEBnlt0Qt/4vblr+ISjiCZCY4ajBE6Wo6hBQ+qPhAg1eBfx/zMUxYoOw0hJwrPi4V6C/VwOqxjt+rXZQW9a6Q0kfFG+MQH3hFTyfE91KIt05DS7TtYfqvC4/vqIFU05gBa/MehW9r9Bc6Ub5zJ98UwBuh+PGvglHzQAwvLno9QQ5Tt4jopOW3bS3AcDRzWRGtniCHYepSO+HvGoCzwIDIDVfwAAAL4Bnl1qQt/4Uh/qrCm4X5+xHrJffD/7S6EObhhtIlyg+aYT5plFElwDAUQF79hm7hk9PUcNnGtY0o2hVH9eiFkt9+IfXd1GGdiy/i2s8BS39KmO05SXJEzmEGozfXvQMbrZmKY8BFcpKFftE0+wzL1YaKr6Y7pjNOvkXr0Eb2P9Ox4DyWraY8snrezIJcp75B/uTtB26lotUZKow6h+Yy0oPEy4gNUYN3HxhYvut9yrNkWbCLg14rwmkSQHKyRAAAACTkGaQkmoQWiZTAk/xBbc0kEXs7Ix6KuGN0l+QRaZ70h3t9Ok0JzKxP0YFkLKF6BA8V/yaw3upjuU4dxODT/FEE6oYBDRvkWa+6ZCS1IT9yNxPqYw0sDdAeXVr0nxQMb56mrXp8HDkk/sxk/0C3b1dhny0aH7Jm+p5GH32DOCcnu1wEv/7D5XEkx+NzbGOmPz0WUTBUflu1iyvhVMBFVFMBBtNnSPJxnH4O7QiyQlznehiqLFfknid1CQsxC1XcYaadhsEXoUMjiXQ66F1KB/4cWg+88FKBGL67hf+Y/XWorR3EMWGam5Rxn90sUyZAdUVu6eHFQMtR1J5jGCyhdj6T3+KEp+ScGLeRNhKzjgaDhDzHe+3m9SXSHSV5wljPI7qUsijCJwDvyrxrKzr2lMpZMl8qEhzzjetyfaliSuRv/21HALMrsVO5LVLOjGYAAGVg5kfQzEEyxwX9Uz53x97/jFohhthQOmkotJaf4oiFs8A2+LhXZwAOHIlCfjfdA+wc5lAkdkBs1hOZfARLye3fw4u8Z883ss6N52NBuLhu48Hn81AReUbNaBtvZXVStN2OselhVT+m1PwqFFkepgOeeY0ztsRjib5jB+xWcIqWz8FUcUmHkw82wQ5eu1VYrIEYhUsflwlddpUBgFTIwLOzo+Rh4DXmr3dHOzwQD4CRFZqfEBRE4cWfmBVhk7fECQ64MYWXs7wf9sY7weJ1FOtkHVLWqswj2wbcBEI2XNpRzHsyP0vt2UkSZR4ntoGtD+Gx8Oq0UirBV02FHOqElAAAABHEGeYEURLCn/9/gQr+VVz1Aromxsb1/9DVWzyKA2b6484zZ16O9WU7VeUzcNHnfClvxJQn+eX2MUHKw9grrCRNKfgrIOtBxNv+251uGId7TtRrI5HYa4GXxM1uu4fkc0U1GGjAko2XB3G7O3pXkf7CwtgBJMKKqG9PJe1FWSGo2dMt0RjgGmIXpGA3RotZWrBS5uH+kD6KzWSa8xTI0iL33iJrX/lnQ4VJISeD/NWv0MBZg7PH3njL+hJFHqLKxKGBNbk8CGPizcVhzIE9v6/kWtLraGHjh3CI9vt5xm0U/5CVdPnuasv77+86hLNBmB3Xc0XD/8+7HyQ3mcteZ+2B/X1zNMF3wZACD+anJaIGjwX9F3VR9Lxwy8DMzrAAAAsAGen3RC32XXO1pl+arVbqOW9RaV9yEwkjUD/MxvWvh/eeNXk2Vt0HRCGFg6HZ63AlSFKxynKk7IV29ewlnn7ta1pZEXeo9FTgHj2gAvKOaEQDODmtEW2b8dOmPmW/ci9qZXSVAFiG0KI1Sk/L16q6wPFfJFCFCqdJ5x9W+XdZcmbXirI16aGjPyeuRAR6WYyl9C14ubuGSAvBPB5ouwG8UAY7yJZbEXrhGGTl18DQyQAAAAiwGegWpC3/DC0B70vbF4HWrLkQm1Fb+fSBOl8LmgRhZu2+DkDaFTxI/jLpEZFQv0T9Lo8WxD02vw73ee4q/uOCy6Rp57s6gUsZ4gIl7xndJuufWyLZi48Sn/oa2jgWNXghoj8z70ftUlidOHSn7izKueuyKOlHHknYlCr75kjqbzBhF0G0/nI63w0mMAAAGLQZqFSahBbJlMCT/EFtzSQRC/v4HLlnUevwDx6FiTOxeUel7kqCF+9ffSC5++DPqwo7RltrKtU5L7Qck+33lzo+6DEMubfZ6q+IlsM3GwFoAb09PyujhDjGRq5VQYcY18MOzqLfH8hHFyLfr7qy9/xqPGNtMNxE/EPzesSZWbAPHj9Wvhdi7YWkj19+zMYqz5J/njSM9b0wc6vcEbiMoUJPOnI779MbEjS333IS1yWhKTzpLKh9xVjspo91gK6AvlfW6KB+eCoMJ/TB3s8xhkAWnpUp0Du3AWtqQ1U88MWsyIEdYuUbe6AvWCZ1luSVov3O4qxTj04dGI1zOixDIQZPQDallz2PJo//os3OIuZJWOMM0eZUk8U8dtI3VGmPYtqafI4713P7mlOXy+ZcqcaDfXrnsDRtJ9xMBprfCV1gNM1JtTRzXGTrEAANyl5ZXM4vhNddUkO8fC5QD0Wpymg7JQ1Aq2T4DqWNmu190dPgzqZC9YJqN0RtWot4oCowcpS+PvE7pXBAcq60AAAAEyQZ6jRRUsKf/wEGgvI372E4hysxMgXyySEFiG+52Db6HfW2Qfk7y24PHZRDKv7y8JMLhcxjA/yLF+FX9c8K6+ov67MPCRAPVNXyhGyDjzs2p+kZz2NAXJ//gI39N1uSK40dijBwftyGpYMRctwaeo9+8wn1puipSQIwK3Agk/S/DjrNCfP8/WBCtvbRxM4QZ0XU00VhMCswQxujcMaiWBzkuVgRPsbhfsDMlqV6oU2W37ybJNku/Y67dlRAc7F71Rv0OUPyc1bCyvGaPPPqbVOdPqte6MMf4l811STCP5Neh5qFTN3NZvPJ4RSXmAQtqKYmRzc2BgbAcDWs6QUj3y52CtYR7zXU3e2CC8I3scRG4+DMibJEQOecrGMF0fpDwBel0FF2YT4AMRNFUQjvHBcthJAAAA7QGexGpC32aBGriT4Cf60cvlj99DB2vi38IeZXKRQD/9t5lfoAZcGwCJY9H5IQXpZuahk1/7/sAlUexWuCzl5MP3tnx6U/4cxQohv/25EhZSA/6qNqZQv8FWWS3OwWn7lPSdL6qFZHSNkzeyXFg7R4A7bsJ7f4K8f/pzqADBycTe5BTsMARvw5oJb+gsVikzw4BDz3Q6x8LFiC+qUWmPhQ/LLdtE+y0u/9R0go/K7Mba4sYmWv9V6ztProfavtDVJ9H7P8ojI8+wdzIf+MbGVm5woR8d7o2nvqagmPP41+MzSIfabUSSXVIXxHF/+wAAAZlBmslJqEFsmUwJPwETuCP1VSm8euhZckJd01fCXp/eBldrVknrnpjJrcX+bcM7kXQu+UPCGpkfVJZI7y8ddO3SttbgZGqbMo+fZHybx+36KI37OMAPBY5CrVJoouQ+cOdIOmKkrDbFXDvadCq+kqU25w+cpOt8yPZCsaoo+7K1DyDcl6bASFiIsBAk4zcichoOq93LajgL1/lOfazbUx/zEseJ0HsLRhcTjRYTb1pKAyLvoo5LJ2tr2aOoo/GWBMGpPlQqhsuNcv+hKxxepXgkYNeiBf64DnPyzPcVemAMA18WQC22IyhatqQkQzTJf6CB06KUoGYSlGivrrl0rhPgR6h2jB7Zc9k25uRQGLYKgR+mJ73u7s5uISTtdT3llg30qVefEjTfO07nMUKqfeHgxoowTznoBfOAjLqJ5sfoq+1OTFE9Svf0egt/ESNuOFaatQg8uMoyMohQPEqmbdVzxwpItEwg8CNo+MM//vkx6lT4+2MRDIIlBfr4k0KOhfuxH5wcyy/oFed2njyHKiitQfKJuv5XHhGtAAAA+0Ge50UVLCX/++KgLNjPX8Sp1j/p09I5YXSluvpjajmkQRLkWrvbzf9qygANOyiaPncm/9yHz4F5gNL+FiAfqYL4VuEpfZK3x/g1DzFywJ53bvQI5fklXlVD07CFg19z/+MTRQjCI1A3tYMm896wltRilBfLdpwdpFGn2tcca1I1uJ8CPX7XPJd9jx0F8s/9Z+TtyHRqKhRPmjKrKjMzyve6//8gaTat3wUUaW5j8v6M+1o9q823ORSwg6spNZG0hMa4UrfuJRNSflEh0Y4XjSnnzQFXJfAuGaqcRLPCc5YTE+fsS40w9/DlWwAPfE5fsaUaB9H6jN3yIFoZAAAAsQGfBnRC3+/2O91n2ty0Vj3n+fOA7OtbLr2sNqm7BAM2tq0EJOKl+cqFwsBQ+qC7ENbvvv8y+cXnVD8KKO5XDVqxW5iIE/YGsBWUf+sEk4NMWJadwP4CFTUZKq9vzTP+9Z90w79HjR3GRN3LIpGo7q5dOQDqNEJ+1t/GcX84LWj6EUFeavrGiLXersW0nVMHspmabbh10/HVO6DsHLU8DcKACrXFwGYD3VkTbPyoRVSqYQAAAIcBnwhqQt/ww8nBe2r2Ih0x96cObYIuac1z7sTlyF8lCsHv5ql98/Rk3beCs2egXL0TVD7ZKl9MeiMqKyjud9ESlyxOHOfSVv8rBDjiEC7a4FFQBmxwHXm9tE+aUGPUb2q96ozs+yhLt4YPOAsaeezJbrTzUQCIengzRyF5W9wJ4h/5vCnnHoAAAADBQZsKSahBbJlMCT8BJJV1cbGw0X94quC7zvPTS1u1H2q1oiuX2uEjl0RQiaAdPUSn7r3wC/vFH1IZj4QQ7HJdAipJqC31wVd+i6yH35I4N6FNXSz+7AlKB/92CYf4DJoUZ4FSnkmbVozD2YYtF4FNUQ7GnRsWHKHIPXeC9v+XT0LKG+7DqoGvaifr/V6e+4VEOwlJDBLNIQxUK/WOjYffcdUiYNAgQADvoJsJdGXwBdf6K6HDSBJ+MXqZRGGOsANDKQAAAjNBmy5J4QpSZTAm/wjAUl0HJEqrnmTooNrk/4RtbT/l6aoPK/4QBayIHrKQftaDQR1iOiGXug7bqGobq+bxj/QICCPGjRSUlqKeaSWS5UWKcG9816uyIyQ9J6thbrSthHPT5yzUKMrbbmCX/2q0eukBD9+FWarNKasKCMJH00eX7l/1/XLwOmgkcVR28RQxnnOjgM41vBGrbByM4pHxqRdgVlkAjAzROK4cyxPb/ZfNgOHEw/kRdREVa+uD3XCE8lyKNFiWmEpiYcw6ZOHPCzGQjT/Q0fs5nYGnfS/snxAvgnJFbRCHFy7o0YuGyr67v6ixBFp628Mfg+BEx4vN+mLP9sRTSNCJIvEAPQGNBWROyuMPWDQ8nXKQYIE0ATkQF5tMaVpHLzM95qqTHs0Z0Auiz2dZOrpG8JGzYALRt3vCth37ZThGRsyfMotH0wez3MAZB4ezTXBjevqwsYoVz7JNOjIJRoO4PXnA7Uz1aywlY4LsIQ6pLnyv2CRVGCdX+NwLjjjtM1SJD4pYbdAoeDm8bVgDv7zdnYRuQncy+51azMLhDj2lqbOK9OY58t0oK5je81TOxJnySRlqt2SdfzP4IFeUq1/0XkHw8prmOYn0/Db/o8rB6FV/VweqwkuoyJVvzmGDuhJpLBwSob9qS9DzTlMfOCE6CKOVRtUhufku4RhXVFjJjqZ3jee/J0H3YFnczusgioXqa/u3qwWcgiVn1xzB/I7RCO2zLqzA9Gqhd5EugAAAAPhBn0xFNEwl//vi1uqjkZlOSZzxnmq1prnPgnZ/6eSysbL3wCLv2TaenXN9u1XCh7KBjbXJsxmrd6gAV69gDazdW9nL9tCpqoYECgl/iZ09/xeSzVSEKwo4FbanoZZimtqf4hXAynMGEHtYj0w9f585bW6d6Ti7lctBeU/maG0tMKWj1GSGqDquzB4KEHqKHiionauF4O6YZkHbFOWQncQeTwdd5ARsHhnA5RXq8WSws4M4UQlIjdEPHnGU9nrArGM3Gj1wvLBVmN9DpqDQeJLu1rqn+itXukh3peDlfOj0nn5MhkSvnUoikgJqjS3J+Sn/GZRzitNJ6AAAAIgBn2t0Qt/v+4BphcqkoTYqrpwtIisxUlGVf68/d8XztrcTcvoPu+hUVA57I//ggARRyM0GEOeAIC+fdcK48ELYueD/yYzzRhUWNELO+eqDWZUgCb8tPdzArLx2Mx+mK9KM2Z0ngXJ5cIzJ9fW98yGIzkERkGTugba+LdmTAJ3umcA1kIo3AxJBAAAApQGfbWpC3/DOycoxko4kM86bTJbO4IR+2pn/+BT1bNl9cP3TFuyWzV+xRkVxWb+55W/jG7z/q2i6omvESW/13c3uQRNcD+qi1gi2ckScupeVh5s+14sMjBX6qGEqb0u99IXhFC/ctEydlEQxzLLofBJt1R0Qvqd6NIKWiaqQ3pQRxoTkO9sSq/ru/vc2l0OgmGF5GkTftAFUhovVa4KLVowpwYhUGQAAAZJBm3BJqEFomUwU8n/EFt1VbyGw8a9liRdjK1D/+cMRi0ktg1kagwoTboVFBO6Q9WT/qJDw26yfVRa6HvgeYupMvkUjdcA/svQDDJCVmh6dP7s5kv5DeJr//gmAS2EO2SMCoAoj29rLIYKcqyTGBaFXjUWqq0RGl4HwBLWkP4I0J8KvBz0OY/3hLuWpba+rPJQiLi9ksa2S8IV28lQ8v9d77a469gUewXC5ZLwYx8xWolIIcvJ6BE37IIYue78w27oFIA3FZ9oKy+X2lzk9f/kKCtOD/bQvrohSWtsfhWqujQR+1GHlXghotSWzWZTyZm0hEGUEHD5KMy2T++V1KqOAoWrs/I/UOGwvO3d+To886mVbVlfOvwKetfaz6u6WR8C3PFV7BqSu38/NZMRR5TdYVdnj4G+S+v60Oi8detf9qqNFR0k4Ph+/M+KKU5kZgJWVa0529ketINgR7fu3xDgfGVeZXadgXcdeqbgz5//rNjAc/k89wPmVyR+2EdLxbbni5W2ahwHhXKmXVkiIXA8kfasAAAB5AZ+PakLf+FbLFBe1hiGtW0fOnkvoORmrb+TOs+WbhlaXtdVkcewuz2bcrCSd/7pMWEv9nUhmClfuz9D+ICB6Ec71sbdne/f/+xOW0DdJIlg2zuVo7beH5H5lDODxhPTG0ycRXl47+0Qe6umzcR+ix+t2xxF3Sp+DHgAAAZBBm5RJ4QpSZTAk/8QW5+jU3niFhIOZ4kgr+flFMxibD47QEp2wZdeqwaP5buhshfntGBozsdDGBzn+25DVgA5gpCNkQ8yQ+jLDxIdAfBVDrnGhpgi//Fo4mSGCaBXRpwajdsh/bWJuCqir/ivJxDrJ1FIetZHGMVYwzR3jK8Qj9pXcDMWhm7p45BPrIDPT4yql3Jy2dMrhvjVtZCDoQZMOTdCPT7ivF1coE1EDyv+Ys1kVt35S3c80RYiXoMdfEnw7XZauLBJj+X7TlekVnbRKpNneFUHkI/W0X9z6b+0DFcbxI1F0TsjACO57fL8UJx2ksqeIYeCbymJ9UHETzvKkCO2zm4FjTa+IHuCqAZxxYKFILxdKj3udj+wEVVKS0af2PMA75VlJu7fmpy+cCsTcLk4nCR1yFIyOF6jmVNpeiN4JStIA+6I1Nc4PTSoNrKyusWwYJmQjPsYZAqPin5teioJHrXx15C+Fak1hv4V4d4pZI89By/6/jBiotMNfJZO6budE10OwpT+baEG/udLwAAABWUGfskU0TCn/8BxQv84lCocYc43pVKwkvzbqJhiyajcMQ1dphLdSwrznaZuneoMCBgapBKZY+7H+MN0BZIshOAq7XHCmv2VnDsTSb5K3+EFaopjTEmz/Q+sWywcGs9SULaJkUtz4IeStftb1m4RpudFFP9FB9vdqnz+6txpzEnz4fQFUdX8ZwAFqytm9waZQ1Ty9eNQdGF0a/T4AKT3GwK3DCmtX3GtuOwyebZRD3Nn3GrzSdbjsonJABsE0Ycz7pp82ZaD5J7NiTx5/+xwtpnOcx0RuvTs4DUVH8vM6qucg6s7nl6FOXCJkSW8IjS67kJoXy5lpb2aqWsyPHztfV9i3qt7isq71DEbrIldvTDPFR8dyWQXNOjEcDMy+9Gt+rEi6tBJzpheQiZ5BN2Md7cjW1Cr9E0VfjT173O8AAubgE5WtyZQ/XbG79fhJQDHjWR0t5D76G6dWwQAAANcBn9F0Qt/4xt4xLGR121mLmDDnzSwgZcfSRhJV7LvR9YRd2RsxB2NRQZ1ZyB6/SBB4EvcUbPZkL/oTQ2/ss+iuIxqS5et/Q5nV3U6RDZmlF74uuyA+oq+3UPjF7Y4rAndIAIH7mx6JXkk6/hDckLuhqJU6IZDjbffG1CaKr9lYG1aUF6KfXUs82G+wdV4Eyt6KwRYLZ+YSLfkE+5JydrZCkY61xXyE7s+fo0+f2poIGxsuLiyyFx17viTCshFqjdHSkvIy/qB5Y5FZ3RMb/rgJJC35la/DlgAAAJoBn9NqQt+WpVZpy9YUL0ioZJfegkPkPay8CZCtkFHk70suYEsI8PFoqteeJoL61W3+RIHEOZx60LCyXUaFaWRVDRYDz634QGwHUk61/w0eEF/xd5DdQXcXgbgX25VxM0YfudD2KSI+5E9TbrRyJzHPazh4Z8eOIZe32bNSLNCvOw+pBoek8HcXeOn71Yic1yR2sVUnSynWvamAAAABZ0Gb2EmoQWiZTAk/B+BtAx0fqFXPnY1qJ/q7kV8m/NKlZE81nv+OmYs1EJImomfSHB7WBFe0gimhNhhsWaKNiKam31uaOSGv5N/DDRZ1iCneINmqJf2cj0yUKOquLLPjPRaseJnIn1GqTSGoemx2Dd+lr2BgBMPuSTTtO8tUWWzhKuLBTCsnvzzAki294di7cLJAS59y9qFVAjGHncfx2bFe5EOQAK/mdTUPXRp0GxTWCHmE7d5OUNKtLw/oprHW6XMi3//42DX3bftdEqcT2Kk5KF2/xy1W6n6v8yHF+5SBPPLf2RDIRhYRy39MQj6dlDmwlE4unam0fXCcH/yxikDW4jkjBU4Xt1qTPSs7M08ViZbbp/Dw0f32l7kTLldeoukWR/AAJ8WaboDhGX4ACZ+C9FvZDfuLackzgE4BLetK0PNcsa6xbE8X1dft8cgOmZWo7pXu0kVwWVH2pi1TDPhenhrOXCQRAAAAgEGf9kURLCX/++LaM5Kw33BwQxzk+39f7OAUzF9SkJh4/aYyIFGpfzrfNTMKf0vWRYNP9KKsn4VPfYpTufSOfNXlomDKCN17d2pFgrLYL2AKB4DmADGv/9/fuuYgA9gNu3PiRHXplj8iXJK5bunAZvn5+9FXV/DJNHtwGXRcFKyAAAAAXwGeFXRC3/jGxeQoAuMR4dPRcMpqf1ODhGPyj+uLfIglUUo4Pd+1EP3wUZU76hw9bwreBvh9+23eKTtNGU5P6LkxqMMC/Fz7/NatDP9CAdtkJz5Q4pQ0pKryvSkw25yxAAAAGwGeF2pC3/hNsmAtVMTrXKKKWhIMPgGcsrK2IwAAADVBmhlJqEFsmUwIW/8A0Z1v7UzmTkwvTxvusrmQzf94+6GrLBEFRGlY1zk9YcP6+514LVcIzAAAGYBliIIAf16xdvJxX/pR+YAoHdqoKxOZkPs4EL6nNbh46pcUTWsucdZRERH3EMb35QeE3IegfEvfzS9+7hWtmTk8KN/+ByIpH8Y3MFavRcm+sIttMZ20E+8lkrvzTIlV/xjdZGE8c/Ds9PWjk5OZ0X6QYM1y6J3OzCUYHflPSEUK4bxgJ9ltaRf8VAQo1N++IfLmJQ7XQYAgXNn1D53VR+kwJ9JYwszKOSplQYOkDrdPKWqgOCmxD7j7NN596tjXxefSIpZvUCspfU3Pepr4WGm+w0d2kcv3eEegzXx9n9TRCRZ05IIUqy5LTKzpnBjEhW8uQg5grDVsCQZRkqb65EIZuuvoSawbe7Za4esn40aqEGQREKljdyJUM7Lm4NSLmax7rlBQljwGrxNw5IAdqHhTbZAaD5BjYgFX3fA14jile5SjZCZVDz23tEPQPkmQ4zolerCtenLPdE3aJvJtCdlrZpogEbNG46khKmM44MT2s2B+jBP+l0KNs/6HKWjDSXZS+kfeRQTBWiuIL3niq3Gt0SFoVjXHSE02em7kPFG8yhsPEvlwywA7pdN4r6tq9LJsVUaq6X4K9zViYrk0KZNMFZXjrt7qm337QJTV3v5EuDMdOFHNJLLMVtIN/dZCB74fduNHSNJO5pfU6U8cVLRKz0Rji5RTF3zbMJp2nVsYkdRN9wuIp7lj9IGVCFjnMgAvTRbx0xfIyURwM8KXcIn0PllL+dO2/0juF//vq6J1XrRsfCVEZLZIcXX6hPOyEGyn86t1GwDL/PNJe3DuY2ME8Kbe0Qjx5nvp2V7iaTxegmZXRyH5xjXdkM18iVVkoCgOa9re9SmSPMN9mP1sUjBna5ocyVnsT9ZdiTEdNLDvlKdmpUYHEMyIN/+AyiJVolDJ9aExhZcKgDcTlFeyU30QUj+N/9iT1erFffCxGesOTei/9b0lIbMUypXLMhIsyKsqZkujpRlQsm5UON0MJps0ILdgTsrWbG9sUMf5XtG1xAgnmnpSJxwLPkGZi6w40Lp2SiUhkFyZx2knML1UZkkmKVFgeXngBLU51O7pDAW25798fUEQcALQ1GpeRMTHnyfEeMZDQGIH7Tgh8Se7drzJqvAsPxPN7zIQH9/XAbCNgcnGysu7KSJMhtxCnSHpm16LszgyKqoHZ31Q+8mD9InMHjN0v8Twpz83Jw+DEAIXIN3ev6+QxTWhuYn3B+uyC54zQ5UUFB2IYd+q4XtsIR0R39SNlxrUS5Af3yf6Bf5z1wftizlAcsJq5euyJq7Z2FD6CSBEpfvSYUumqmZmnfc/SLyixuJmrrlLIxOaBd+c3Ah5mZDV3f7kKILPGARF7QE/8BikhQs4zAfcIlYVu4oRFNSlAvfqtZ2o9NRSyQAbhKNJ3ML23MLQGO1mSw+hb+Bff7aWKdDUTgJEm4RPFIPxEt5M2Mj7lNFAoEhBNLaXrcrpaNFm8Zn9UUjD110eMrp5nKjgXzipVOP692mqW31RPcqZXFpWXZ2tTiMCw2SFN33Ds5XK+IwOOMw3FDh8fEyX+Dr3/zTZVKlvcEmteeUvgI7vAiZVahEYiVrX98A2bRxKUxQ+mXkfKCHM9TG6wVTXf65f/npMjDpouVx3/+igK/Ac7tTwpuU3T4OINQnaEIt1j12RJof1ZC6tr5wBC1b7vAAbldBzrQ++uLjm+sDctVYwJWUnjOt0HWBHL1UMdJYTFjiiJfhgTEEzQU/SbyXiq92eHuz9btKjLg5v3rxKKHNgm0Xmw8chSXvW3ub4tgrHPIvQM7pr8cQc0vGry30FUcfDxgYR5HibFw8nP50wIn1ZSGqpzhm/0HNeJ1j11Mh4Hz0ZnLoV1sKTadBhKXy0bNy4yPjWXSrug7KuG18cILddIgCPBvN0wk10C8KEIfO4x1nDjvsgh+qXIGYMZ1zqy5bbp+/DR9CfLt/Rw228YRtWwY711fufCgr9IOGfjNp+rc9E7RW+R+8Z4sXny1rwSbLLG0h9TZ8jXy1p+w3jpk5UMIJVC/VytQchpKeOxmJ7dPDBZv5xRV2cTPBcNyr34G/anvUGsWBRu9AcgVZlGDWOl9inHW0ulijM6J32tuiYguU6Yqbml1Df0PoXo03jyns9BSRpSlvpg3ZqaWei4TndPuz2fcJy7HweUQISS6LpW3oVMOPOEEPiXaw7VauY8ydvY4OHG0BrZ50/gvUQxhovoB/zxAzHEAIamCN8EcemeLtiH9+WwlnXLjwE/U7G0tJLJ05OC3ISFVPwLJdA8Jpf0ZMquKINt25uD5+qD+cxhwxVdVcSkibt88V+2OhN9Js+wCI+hzwYC3mrRbGnZcjjW9NCDZx14oLvBU93cN9NS0A8t0lSHAHahIZ2FGLUC4zJrikPGAER8KTxUiAGNOwhh8zaKCweJX3KhhmpjQgFC5Lcqx9ua9CCpBn50Cz5pKt9oqnjCcgIQJVLz+Ln+5HWNgK7/LEfLO8jKzKaP7ItAKl6F946EeEXx9vahD5Dh7Xuc2yZ0AyfRrkc7VXjedKp5cJiHJLyXtNCpn4U1Mck28qEgK6iOzdPTpWTJwFj/wqa5TzTwTpvhWmHWKg0n9BhfjJTdJwqxLl2GCHgybSTU5QO7mNP8yz0Y0MvTAes36YO70O+PPRm+bw0DdtXO98EgnQ9O9FTFHz7wcKz2Q3oYewxqDexaPd90UYF+3qEpKoTxn/q+upEW8tmZbWnOGiXX8imW8+DPgOYf0s9UVot3z4AahnJDJ3KSF9K0rVIB5MjwCxlAfp4o/IiQU8UfkR0BPHjMZpoePUMluzLdXL258t2cEdbdn/BkVteZTbMznB2Mm9GLuXtXRpBu2F2wP48+5jq1Eq/8PSi3jNxY/hODd8cX/1FfjA67iuFq5vreOHbYi2ul1TbL9c6xpdbhumEGZh7W5CUlIQp4ivqK3ZofbwZa7IKxs+9AbI0WOaVs2tYP5WCYdrh2wXSvUAs4dcxHMeKTLprUoAOBmuRWTv7JGmhcjHwUOgbkpr32jSsPrQblFRdgBw0q7l/0mU0qSE9JDDwBAfk1YIh9Yp8P5ZBB1bsynn784sQ0+6lpWyBzO9J+E6giybozs68hlaaF2LiWzpANDS4uM3h2Snr5yS0KXbdyxs+2UHinI88IJQjxdddYyD659Dp3K17yyPrBsjqKPIr0xD9fVBSQVfzfXBCWGpfCoS0k9XKVaacZSnAuE3T6e1gSL+xkec+Cqti957B7IFeTBYqqjT/O6N821KEGm/4MCSfmx8YCpQZ8mZvP2kHMCRi74qrfGDYkIQ4rWltd6dsw4XvwUfOyv40tF/ykP7EDX54e5JuPFeT4MGUUxRAIh57OFsyARLYrp3pJp1r12lvNCQbLjIubFRoJ8F9badJTn0L/b9oHWQPknV8kBmE58bBDzkLPRIfiM6uIUVDX7AEybOzmlUb7YVWF0t7Z7kxRdfyE8WDFjajUoNh4ALG9gQOfo642qfR41O3FXJCBuiEc0KnZ+42Bs7qpVjMF5RmNd+v3gTPV8ywoUjjLN4XgA0ijglut3bQiwPdIG41ZhjtBd+op+IyDmdI6/rvfmdt6FBlz6KEgY4I0siZtUb262P+zH8BZtI7WKD/YFhfJnH59Efgdbz3sIyNjcbI9O+Pl/2RZIpc+feYPZOspYYVZp/L0tcD1gsWreGrfd6kDfqg9gyW/JnycvUn7GQv1OPNOYoWvb2ABShnmJI7ixdKfFVZ4ZlIOsbatvbZmnb9rFx2wZ2DzR9kXQgYRkmj4xsw1UrQd2Ra9y/vUNJ8XB1wnjXNnJBdebJQ5++TxKUrCLMdL/6f7/nbg3tJLUU487xfuGHGZtVHwe/I1RWiCgoUS0Ykh8bZ/X0r2oPZNLImvZg/VI1HR8WE8CfG8wfKyti2n1kgQN+mraaSWA5xbJy+bTERt3oZ9ofx4pxETi4zXW72TvAVG/ZRvrFItykTMIHpzLXoO/5NF5G7uFyt/Bg9bMBBo0Fwkkd31jqhqO0HvH0aXsZ2QzhCo3sCAY0/fR7aKJqH6xIYoCAIUQkyY2b8XuxNxTTDOU3ZEb+IDgsk49r1K2bD7223unajWU3pcqgyYM6cMwsMwnSKiidahyml/D7tN4ie64b1DJKjuHo92W8xWYQkGBCTrPY1PDB48+aecQlgWarzLoeA7HtB9ze+merikYO/gA2nSQU033nStM5PZzzEm3py/a9+Ld5XZPiHzAfGKasZZ0vkMWQNEIdJh1WZJjuX4dbPv3/BXPyqE4Y+LCNRQrOexzs8USmFjqnxO0Kj2koyBWP5bpzm0gddu5zHBKj3BZVHBF2xRR2ZVlyRojNFDAogYmX41A63yhMgWoUTt/HZpSxGyb3ao3T2wRsak68jVMEZyZ3nD7ZquigV80JjIcmkqNOR+PA+dxQy3xQTRoJTxqKprc2ZimaEJDu5tY33OnmAWAwKDVT7GsMFlU58saPrRQAHebIyqjR6L9Va7a1nKSowt26WPAcJD+EUCSPzkYOXQFea1SW/9KRKg0XpyvEkgeYERfbKYII7qe2sgJBRDmHajlTRz2wm40Tr3GY4mgfNeaSZdhRhyF9PlUQ8diX7zlgNToPTdu0yExeVDyka3PWxeeqyBYezD4dZKalfbOZTlHP7S12sIFQWJC9Wq2xT5K+/HPg2H8iC/lItrVdQTo1AUZr2bAi+7kKd3W7bH7lr7M0jR7AltoyaTSA0ixyBRdLxw0HXIL6+PDRy0T+llTs+DMQ1FNPCobvyXegKuw0JagU3tEzJa0bWJxQrmkefmhmSUzNIx52WrMFH7uxwSVxXYFcmKEAfIKgsvQPBACd2HW5JCZTUgSsR5ZTDvrCe11waI+/rhdnA9o3C8aTnX/D4XKLZAk848lOcmXLJ+NihKZtwBiQ2fcymVlABmW7TmyzEVJ6deSSlhSmyqqnLzyPYzt3EqKLl+okH35nKgxCC+aKk2Ni4uOxT/Xw2tzVmt/z/pfH9Dfsc3IVUV2tSusBLlKWxa2w6c5/V5T496jZiR4g+FLP9pwCsIWluJchvPn9nbco+Bz5m2quQLxV4rsv7oqamI3rO4G94NdjOsQ9Vb9ro0Ok0Jc17G0j7wM71HUFROlQHwodni6wwIhx58mCF/r6UdeH/Iv2qIRosPewIuCfhLdsCsgcxX2T+tWs2EJSNFBL5p4OoWTzDoLfAO2I0dncP+69IdlWEk6jXpLzHiXmexEyRtvnZMwZu+H+qz5jCr1vdjeH9aAWaJxIpMtWIkz75rnZbzaVF+Dep9q8SK70Oeub57fxkoynTC7QoH1wUPwp6g/zL55Y6CngUKl9akfzUFy+zWS2lgu21UT3w+Z1jeLmSqdHHqH1ZNyVUI70xxBDTUM1e1Y9nF5ute96CEvtOpSqCbvSSIR4/pxYV4s78nMEppfAem/GcUaxOzIDV3PTvOJ54iR9tjdnZA9O4XmmmllwHXAymlONzPvO4LKxsGDk9QC/9WZ93IxHmNx8b+taubn/P1hcND/ry4VrwmPjh9dGl/PTZExb80DsgjhS2Fvy8hPmVnw5/FWL/ipaL8kv40j3f7R5hAnoTPiYbMJxn58WdjAmKqbloIWmWJTUj5RQkcBIzXIzH8Yc4WRAln/7n3bdKP77EyxRSw1bZ+H8qhhB+kEi3yFm44kUJE7oTM9vXbw6yzT9s5MLCmu3Lg06Dl8NMjv/sQDfGQqpoyI9G+aM+X3TF4Mnq5Vf6Akz34+Y7tcWAl+W+UIJFMKCDcQeiY7Y4V5VWtz7Fs9hNSM+oaNmPkXH03uSeMCpqL9Qd4OezT8VLpJMloZMsuC3V5oK2VlUSUQ3k2zQDL94juj8lzp/RabH993VhESagRVCRbJUGBhE1Ik+MhlJ6nyjut9D8A55GLOi2kvMsr/pOkp3zVc0fTQ/5NY/bQz6Nrg3W1fZp2UjA+iQDx47PuOSZ+fvVd15hvrKfSHQGZ5urUEQb4fs41daBGnxFfTUWZwT8QORgF3eQ6qJv/uYPf0E1jsPCQ3SBBZ+WVaoSLNHSsVX2cZxWcyTAnu+E8UG/ozjt4fw1yYxdoXl7hv6q8atQqYxTHMDripMX1hfvM7T87s2O2MQuNCXpqX4zWCVsouxcWrDV1oTr9LmOHPZtZ/1KcVLKHyOguSB/LLjQRe/H4PtPSjm3MhK2alNJdD27V+1VPQ6G3tSsX60aVjL1P4bMc7YjRKlWh3eTL3Oh/MhfzS88tLwnDk8e9+GZqg0yAPkZl4oCt1X4F5VdcRTCKmrh7mF35Aahog6/jBU+waNtCbSHy20SlhspiygVYaPMB7bKF91Jpppg6/YR76HX7pj/VOrApbUhTzC6+bBKVRmAfVdfdH35dNoQBOkDpStHtCm5YRdeteilr8pZgdhYBJOG8XpKeS0EB31Yd8y83po7g2NooevGAVbmmMW69R29J8u6wgdv6QK0ZP86ljuwzGj2xT/wRhoRlC3OR5bVhLhfSRJZ+giUj1HOQ8zB7qUv7JsbrxXAsEl2/baxIKA3Kk/f+A6rVW3RYCmUjb0qj7+jy1LY5NnkaHPejoHclGW3oEwEELKyeL3yBntUKkgYdi5MsYXKrxrz1WRNbpvcOmu2+llM0qoIlp3kdNq2rzl9j4Ux9VhkKT5npcsYyQ+bJp8Ds5h03WRjmkmFjDk4vrpYY7QJH0T+CmSHvlrRDveB/UCcGdkZ5I55+OVOrOX7HqQ3ZzX5omZg/LtjDC5CXbYPv7ESYlb6QJ3k/ZSuMgLBUCaohrNKf2zE5Y250uFiOPE2602UMgSO4I68o/L66ATuqMP83xfk8YL0wd9KhHjnvgrN1OUkqppeMEH6BCJL9R+UvKtuKCn1ZroVCx1A2HPMu5gqFkwempAIOA0S6N8Q8wx4fQBRGclb43jVGzsrs8MOy4QsP1IorIM8Cmnz6m+BZX3rrCpwlnhoseyhlv8Cy2tadsEzMxUomGpdu7uOrSSjNCo2o6s6L8ZQNG2YF/Zo5AVv3WL2SUejCwPmlZPCyzyibwt1wGAeE+Z8pRBWdC7p7k8vfbomYEXTaIxJ26qPJBINZ+Op8Ik0+ZP8ylUJkGdsl8oro4pCNBb5gPZzybjzLAXF+oqA74bga47InBAEfNxNJnf19v5TXk3VNwk6dRRDZ3v32To50R2Z+JwgbfrXrz1E00Urkjbe5WoQY298UMOj/c82lGwqV+0mV6aPpbAbvFQ9jg9Smey27ouIA7BLNJTIlY9HmbLCwk53X9Q7vktFH0VVrpQqz5PqrJXyJadTDlZYX8IqxhYnhv23pzj0Ei0vrueZ42+4mjvbJdN4P2mxTpD4JNx3ENMJtb/NPFkyOJfoVqAcfENFT2YNHGK+VDuWyeGSfA2C5La4TAEVIq8jBGOq68Z/s03W5cZ2Og1o+Q7LA2oytHThkDivuMEeUITMMKCYqL4MobwJzof7Qk5nm0fI4DbCFbt7EpfN9cInXruyKiHY923n7cLkEUENlcYQiOyBRBHvgYirOy2si/ofQJ6sI9HEGtaJWa2LIBm97t3E/l2sTQQyBvK2MuNA2fkVqfSIpa1H9SLK6dXsSAwXin+vGAloUi0/2sUmnmWkGUMYkxli1iAdeTHXaxctAKwmCL6TTcgpu4DdQ+Iz4xEqPr5Y9QxQTKokKTKWQuRtb39oDQYGmb+/z+BMcxF3Y7w0Gh8Ci77ut7x92Ws6DA7/Bn1t5sSq1hD238rxqlNgA3s+uwDWmPEWYr5/HH4/fv6t7PmH1DGRPgleqRWyFjnDBQstKxYCYGsOooVBIYN0v+7RqAqWacMeLzcSTLkmtyXC0WCNkBsCyOe3MBLp7TVLLvZZ8lVz1Xev0bTnksMt3E1c/FjCVxjvsKSijE2jgtaFU0txRHoIZsu8nZiJtGVudxvfb3q+6xoCJVfKVX5QCtsi4dD/GE6IBTZL3CMLgn2Bns6j83/MldFDdZboFa+hGDdEn1ZNHWtDjrle0aZR1AiD4YliCuUBKornKJZb3SK1L6KZ/k/R//5QD918uYSp2fbVsMP9kQz09aTUJgEuLv2fdBcxIvqb0HeeRI5l5UNbmwL0HQiQXWRRWWz2mGUpaA/gPpaOkJDTM8rlTZrZ/R2JHIkOWSykD6k+1t8dYr3j9atH1c88R4vgs8/1aewQ+5YqvCQ7UnDmLfxaDgu/5dW1taHT8RSahXE9b00dy7gUYZmsG7nRa2khl3NFd3YPvGsKDOsc15K7b/xajewrh17vOZIRCqveo7IjYUt2n2yVRWkHs3/QVJMj9L5GEx9t2vEBogIsEdgSvbZO3cm6U2fz6v13/R/cwX5vGNqwu3ZNDi/sR/Bycm7n5XKu85EvGOUOQdBmuE2c9d8HBM8DkQMFhYRF99zqfl2LDSWK/RmjoAXnIaT5AZijjRuI+a46GGkUApB32bhbivhHcSAxPiTdxRKZOVuN4OuC5+Jgb7pq2eIRcMnfgIqpV38VWgN/Ryvhy5/a6Yz5cX+JScWmg2mtTY3Qo90uKoNDZIUOnWpIoMPtRlYBLaEPHn4eIf8zOGn3o0Rd/QHfj4AQ7S8vBi07OlP3VRDn/gO0QtLN/ryalyohTYDLlJj2TA7Ni47NPAECIHoH6PU8gcvMaMmZLrIekK9+PIol/7F8IHUyfXeHu6h7kjWfX8vKUXOtAFtRTW21rAvg0xBlgkyB/Qsc2aDklxVCGEmNgGO6GJdgMlJ1YKIUcTgV7r1PXhdPeVkAAAHWQZokbEn/B5n5vguA+mXIrbwpT6gDUT+6DvVSALT1O8Ybj1RNvH/Lc4VCPHvVj9znEezp0oqtNCwG0H+2dcPz1NLP7x0RHZQhPepU2osgoO2jd9q9YM1JP2mKINuT6WnjWylxSRiLC/sbrUTX3enGPkW3yt7CKf3yiBSqvUm/nTio3nZlbyTkloJdkLVPxVoBmrhigZerMQgUI9d2y0R8Di6lEr+BbRIkB2L91hMTDVL7JtTAM5EL33eFvRMe2NLKSHZ4pydEe9HXEz74W7qzqLzt9Pz5DbeZmfKsPwYzvK0JVSsnKwD81BSe3Q0Nx8hlvomGUzbAu4UPf324j+2kWUhv5cwpmOOarccR7EGfZyCs2NUDQyFzAYZGvyplXS0Hn899Y+utUKh/iZ0znRkKo/zLkKapikhJyzizR56hLw+AFoNx7ugPdLKtaUU7UnnfKijZNV82zpLu7HxCQ/prNpv/QqNWSG3JSYStR7jS+U/3Eqp5qqGV1Z7Da31Y1qRcpr0uxX0dQdlTLVjb8TsGSz5Wa/X7527PWK9cN8wBJ4Rh6EhsdRVDCY24RzR6F9ykkjPmTlkEAd8yXNQ+oOOAsgL2raWGpbNVYzxj/POBJva5zNQgNeAAAADZQZ5CeIQ/7RZjeSQCC8dg0hroMuODFrnbiVSHUvu+3Lkyqz6ZVEMHFE0KA/ONqt/4Y8yGoFcs19EvdshTL2tyFQRz/W6ZmapKaHFT2TX8KctC83Z1lWuSfwhZGTowf+elJvcy38XYyDXlZuw5JgIxBXN/RBY92CbmAxXHTy0WQitiKAUFabNMgUqNbpHgZ5UryLEQ/HKqHY123tCcTfXqbwa2BdmiWT4LRIqdpqd5RLD2CZP5YL5JQUcVitSYRw5SrPnTwG0KRqGgjGoDampBTtnU44kgkcIIuQAAAA0BnmF0Qt/v75NYxFNhAAAAKwGeY2pC3/hOB5o9VfJ8dBUbEWYaha/6TSxRflK4krDljsZEYTqLdzj4IqAAAAE6QZpoSahBaJlMCT/3RqXhRVVWpNTaPHFQq6JWw/Msin4jFkj/fvG3vFbLGk3NUgUpZApHgeMhqUCAWZFo7Q47hA3QYaVONObejtL43cZg5pWmzxKHyjSLRZunN1IqOJ0ZjubBsd4Lil49HgjhToj7+Qjwc4sDeJ7Y4NPsEWJi7BaT/SIajmEVng7D9F2uVaHErlhWZZBDCwBepz+EOKQLmYE35Yt/d5VD10rjG634Z+cAwXno3OllLHAzpbuEUaht8wa+8BBR6RHXFk9iE+E9skP6iW73GcbNONsQwFe82nwF8O1WWaln/6L8jjp5G4RvcsQras7y7/o2KKuXIevsXhOxTuKYiks5WeH8lNDNFJAP0+4yuTkDIHHVNP2tYUuNuMyfZkoPXRZpGv2obwO7N8r94xLft7uWgyAAAAAiQZ6GRREsKf/39QcJdyqmI/gavw18XQB657t6VfLIWWCDYwAAABMBnqV0Qt8TE6iY3Up97eJEE1mIAAAAEwGep2pC3/C9jtOBD3daiFfkO2EAAABKQZqsSahBbJlMCT8AO8uuPSdOrspuQgdibVZK7kufgUx3ceJgEv02Xx7nzYabTjw+VoGGkVcx+CxbbuhgDNTFgANE7H1aiwMiqCAAAABYQZ7KRRUsJf/7CdJ0pl14WlMV80jVqP8/XRGkIsD8ivhs2q8Aj4l7E5uhR+aZP//7kKlhWQzuCrD0zBzjBmHIm6vXhWh0GHgq5xmuZqFsjLvgv2NYsr1CewAAABMBnul0Qt/4uz+IEaQ2SI//q+dhAAAACwGe62pC3/hNioSdAAAAFUGa8EmoQWyZTAm/AAcIKeFYL9xUowAAADVBnw5FFSwl//sImslqFQ5gxZ8aAnU92ntDTOcr9QJNtPCOLxNo5CRF4MBVNkrZK5CxT3wdvAAAAAoBny10Qt/4t0ZgAAAACgGfL2pC3/hNeCEAAAG+QZszSahBbJlMCT/EFtzSQOiideEbFYwqQ7Eo0Zc+eUgMXa0GsOCNA3//HJTmNe/htzdf0jf9YGZYOxXaP57D93NddhwcUGyWGFFd6OnahHPfUO5Dkm4ATPEUNBWoAfv//HOV6YQ2oAouV87p2dAymUNXZJDZJm+8nnu1xwQoLzNlNR6rVf1u7TTphTuRGEHyD6A8lNFB3V6H+tRD/tCeebS9U3QTtntBhkeCQsbuqOs/16SgW2YxZ4Oowgj9pxR3ICN3v8n8f2UfTFPm8mV8ntWl094t9JgE2vKLHUGJo3KwnPEXwZ7w2KUtCUP7DLtSjK7vXhNgY3a5z8iBgz2+T6RXDmdTmrmdQElclGP18vd6lRzf/C+biWhkx8Osc8alQuGIv1AgaXW9p3qUWan9vj2K4rHsxJALgBBI7Ti8sBfngdq8Aj0GJpt1A7SO04US3Ru8K4cvMWDBmjIxZB75XGShH6vkl6A+PcdTMx10WID1MQeJL1C3jHGZ+uBG6fUYa+epgCHJTuoTeq8rMEAshJYYeUglB+HampRFWwGUlqLbam0JyW9RzUEdb/D3ZcatslagIth0Yy5voF25ljgAAAAMQZ9RRRUsJf/3o2AQAAAACgGfcmpC3/hNeCEAAACUQZt1SahBbJlMFEzfABQeZSqefJ6eKYeKypgqvRKU8tjt5fw4gnxPsvzMZ9EYFXboqIkG40mI7QVtErypBTDXxz7SYpTnqUIMMY4GoEyWRj+fVJnzHtjVvQA85ibfPkpNK9lCcTonmL1UJOjnw0KUj0WOD4E7RhH3MOWCPPPeTk3jCkVntvTJebZaxf4AAjGx0WewfwAAACkBn5RqQt8l37cbbVxGg3NfZ+6VUy4smUpBoyZAgmPpDLHdCHVHofN+mQAAAJpBm5hJ4QpSZTAk/8YydXRy+TE4vfBSJK2MRsYNykau18H/+BodkJ6GEi4EXXQ+WjG2rFsRQSWkVJVcnjFVD/MrqGmoswSdpQmEzEw/pPuIev8en3ZuYroTxsq2R6OlTwZBvmUf9sNruxx1gg3tVwgvcC0kShLAyBBl2DeoRPUkMthsFi9q9Y0V6gFPFgV9UvuXws4/AKWxXWdgAAAAQ0GftkU0TCn/8AnT6y8kDAhfuHONrnU4casY9oCXqelyJsUOR3gGNWSV4+fJz5z9vu7BP5R219Z+64GG/Eiza1xDmjwAAAAPAZ/XakLfJd8cl4+jUQ39AAAAakGb2kmoQWiZTBTyf8YydXRy+TE1p+8Rr2Zu6nLNLF1YVJh0Usw0E0aDCccQbd4NHtNoVxQi8JXdnK5a10ypl6v2w0x/GhUniEmGGsMkDUsf3zU6yGENMWXAmetqJOCzmDN7ytYaotbNcqAAAABLAZ/5akLf8LjhArPirsWdhGfCvZQVSNQki8qdypyBeASRS/zeEioJAMK3uuZj50Mtqpaj1afQP7d+NkW6vB87Z6p4KSMCoK6BooQ8AAAAhUGb/UnhClJlMCT/ABtQalCSti8pHztlNntfB//I0r7yvcH5JH5OyPmf4y/sSHuweEaxVrASf2LLXMmla9+DWgDqYrjQQkX99/Vl0mRmsC/xebFX3whrwr9n8o/9ByqEAiFFXTWvD8XJcu4NBxVCEbRSl34lNH3njuJY/mTURZ+9JNBVC6EAAABAQZ4bRTRMJf/7CNJDWQ5HqpxHu+tmkTkoZCB+4H7yIZp423Ww8Uh5rhtJ9JDXYqheCTHyE3KD3tZSixh9+QIW6AAAAAoBnjxqQt/4TXghAAAAN0GaIUmoQWiZTAk/xBbc0kD/Pbje8GV9f2yUa/nlW6DdtwPJY0+ZQ03x2pP21IJ0OvUR5ssU4xkAAAAPQZ5fRREsJf/3pB+WrG5AAAAANAGefnRC3yUgyGh+IKX+bwkVBIBhW91zMfOhlO1rZ39iVNx/pe6v2oY9NqN5jwUkYFQWTe0AAAAaAZ5gakLf+E65OBthf56rtAH69g+WzM190UgAAABvQZplSahBbJlMCT/EFtzSQOih6LVfr2ZGRKJAwqIDw644E17tf3R6q0ffqv7fFmdH7flqard4nK1AAycT+sOtaNogTHSJYCNy4K+X22F5xOM7qBiL+5iwvZ6G1yiYw1iQWGLCoszkYMjri0ZDt+CBAAAADEGeg0UVLCn/8AfPwQAAAAoBnqJ0Qt/4t0ZgAAAANQGepGpC3yW446CH4gpf5vCRUEgGFb3XMx86GU7Wtnf2JU3H+l7q/ahj3ohnqngpIwKgsm9gAAAAokGaqEmoQWyZTAm/ADIEwrZ9fSGRHztWHtr4E/ynGCKJ1R08W6LKf1TFcu1G8szFuO9QJT+fmHYU2Mwy48Q1yHULNXmdUvDsp5crd8FNR2svBS94UZ//WXvqXKkFGlfkvbxyZCTkkFo+nmRoTeg9iUyF67Mvv8HtAAvO1M0CWPLTwCKbwmn+jl3K0X5oQ1//BzjsG3acKkVWf1zG41hm6nBTaQAAADNBnsZFFSwl//vietDtAFQcjauNK9Ld+nLU6KE9fMo2A9kfbciBc+eRo6k46/Fx537BE5AAAAA7AZ7nakLf+E62F0M5eFyKM1Kf4zNNATvO0iH0xfInasu9FpZgPSNzal4Ige9BdjLSJCZgUwcIKVD7dtEAAAA7QZrqSahBbJlMFEzfABR106i9qxR1Sb6Wz3fi6MmJv8SIV4Uz/uAEP6arzbHwhgIgPot+1fB6UMApz8AAAAA0AZ8JakLfJSFq4fiCl/m8JFQSAYVvdczHzoZTta2d/YlTcf6Xur9qGPmCGeqeCkjAqCyb2QAAAHlBmw1J4QpSZTAm/wAyBMK2fX0iixg2LMXa+BP+Lx6jAO0dP9mCyl+MRXLtRxalvJf7UCU/xON8szDMf+PF+zEBRasC5WiXnfUD4O2lWNxS/AjQ702jmZ/+hnSTDHogyF1JAbRT5dFqPoWlT9wkNwWAi+Yvc31zuabRAAAAU0GfK0U0TCX/++J60O1/zmiLkyAYg3fuHVCb57ZQof1DT5U+Jk+j+HyLfpi1BMtYapC2OoeFvDsy17UhQOgm8dhw3GM2xJjf5cavq5YW4uNpyLyBAAAACgGfTGpC3/hNeCEAAABnQZtPSahBaJlMFPN/zZuYa6svtfouPcU7rYFuIuUu4RhWbxPignFslFO9//+GemsM5+u+zHaI/LyTCyvSdIMHpmFD9iAQo3OoAOpT7KkYoZs7/5HmoYxSgyK7+Py2REaLyriYcZ9zIAAAAFMBn25qQt/4TrlKa5Z4OtYNqiQXXdVRxaxErz6wX43LfQMfQ89JbxntnAAOS/zeHaEo+5W/sGes9j3+yLhffku1ziwc7s+WV1beY76g+5UFndjbQAAAADdBm3JJ4QpSZTAiPwAmDsDXvYtZLP8q2sB7jPJ1De948Ir+r0lNheVl1teuAtms24c0yCHZ8dU1AAAAL0GfkEU0TCn/JN+nvGpfccdB/Ot+hH3t6/bhSI7FYLpwcIxy823dDt8HLnakOCpgAAAADAGfsWpC3yW45La5gAAAAH9Bm7RJqEFomUwU8R+zlpD6P0NA5pDPOxWDZk7h6XleXNKG6impww1QBN/+/aEtxTM9YDgy2KLrAKuniREz+LJvPWhbrpshqm5pTmfcScGbn0ogcxFxCSWVH8mZHLxAyTERUgBcJNIo1IwSB5JMoiiY8gXScdj7DyS9MHgsi9VZAAAAOQGf02pC3/C4DLlPEFL/N4SKgkAwre65mPnQyna1s7+xKm4/0vdX7UMq6zqcN4KSMCoK7HFJ3zNexwAAAIFBm9dJ4QpSZTAiP89NNlr6e3iQpDsBFQDVpJluJ6u0j/ynu6x2vEnMGVs9QBXGzaO26UhzoYmn2QAHHJhb/EBbPxaX7YDbGPkkbRdXN+rbb3qYBBOj/7ZrkdJ1TMEZVtrWHX1zTypJh84bFLHP+C8GmB79MAuzaqkqmxD6MQI5ZIEAAAAOQZ/1RTRMKf/wCVWqLcAAAAAKAZ4WakLfHN+OIAAAADtBmhpJqEFomUwIrwC6n0ZGHV2niv8QQiLHpY7d8KFS/vxe+LzdNyriFQbr0TohWj4pfz3A52rPcpEegQAAAERBnjhFESwl//vieyeAh2uZIr5a1XpFSQHHObTQgVsbXF4e6X9n2lFNWnfhdDAizr3QCg3kxcFp9DN4dn47HBeqQepuwAAAACsBnllqQt/4TrlKalEB1I9KkRr2WI5o0aclBRvNqpvW+KVb15DE+UPPD1SAAAAA0UGaXEmoQWyZTBRMZwEBMiTQVhFxo6PSsF95vCp7Ws3rQy+fhW493Y/7if479YRA7Axb01/cpVv9Xne+6Jq3AiHJ541yrQaJlU4HVtEHGflpZdw9m5k9XdtAPE/x9DXRpQed89P5AWLZLvpL6w/9H36ODJN0AHv7cjAqNVe6d+7Yb0/yCLHI7n9vfqKr4z4ih36iwA4Un1sZr5NO8zygOT66fmfnq/WyGzZUVY/Gix+NKgJbjWo33ZJqYuyBOPPp6mX0YhLGByRga6qKL5lXNXUxAAAAYgGee2pC3z4vpf+DHN0ekbITwd58N3x62puHegAkhceqIeK4n7uOCvODLww2j5x6P2b2SnoMUt25n/R8ILDY6HeXnxb0DGnDS1JrFdU9u273//WbzvmGw5LxSaXGrhRcTodgAAAArEGafUnhClJlMCK/2kkv6mNv81UNio99AC5xRIWMdZyfEjrY5oAuQ9HVxqNDYFV23dc4ePUsSMtdmGJUoXYLTNasndn7bh2+FN7qktm4g9vrK67bAmrvkMtqXPKDDjKqfj+GT6x29l+wldolRMheruomOWGle/hF83pEvtUNk/mKY6CNwpFnxehMxZtMAIW8wyRv+7G6R1XXNfq1jg3zJZSVLeeHg9ODNloRFu0AAABqQZqfSeEOiZTBTRMZ/wDzjWB4i3572rGIlQ+Xf3nLfMBCGnuI3hM/pjsfDUM1fLaYR7kuisSyk2OuBzCuB1AnTPfOSck/hV7Seyro4UABMNjebKHUbGajNr+5aEqd2kO48RjmNLMLGfk7gQAAAGcBnr5qQt88zceiKwwrbj9UjEcvcv7YAbBPDkDyM9DKFm/mGiR1dg+mGv0NYY+VAaVBsyWwOQXYVQI3FmDHnI9qrkbexkEap+BNvd3SdUEs3/VmEbzR1a8kcPHp7//igNzImO6UY7lQAAAAgEGaoEnhDyZTAjP/3Mz4o7oys3bqV1qCAyBIg+OjmzO3WCeX6enmY0vR6Zllbgxvb/V++ADaz6RYa/UrP6FVyj3wiC+C3K4eGmtoER4/tYcilKWyboTprmCzxlT9DgS0qfKuOk79LlWTVZjAIRYhsABS2ejEbr6EiaUEf+li/SqBAAAAl0GawknhDyZTBRE8If8CED3Q1LGz7dVqkYdjkCV/2QrzqgJtvSrhb6pi5T3qK7XNFD2gVsIUHf/he4eiXTJDj4RzPvkKJ7BST2+O0QLAGOIx66MLhVWRc4SwdZWTx5Kd3Af2snzkx+OWbgwg6+/aSQ4gTxBSBaDn9Rri2WCjft7HhJJODeZTxX+jTT36BKncQkvGcMbR07wAAABbAZ7hakLfPNEtfduL+G2qnNuRXAK4JeDjFjJDu4zVYBHyZLk4gVs3ivw2X///YH5qO/119vMVLQ9XRwi03yKua9ZW6FlX8Mqfy5ZRe0L426cPftGmI8M0OVq9aQAAAKBBmuVJ4Q8mUwIW/+vdsQEKWICok9K/XBpusjjNh8K4Q/9Hrl/GmWYxJ9+3rGK3S+UUeSpKvkCphK3Ei9Pm1aYxAQ2I7mWoABvhFa9hl3dzMxNyPMaUH6ESzqJqpVKfXdsnRzUuQhbJ/7V9/4slze4jlhsKuvgvp8a2BeLSJBFNfrGJVbI8YMsm1+iMSI+yzQCxvAI0Nb3dHESqfUiWGnc5AAAAd0GfA0URPCn/8As+Wxscn2gw46J6Hg+MQKGRZZLRov0GsGRXUPjyj+o4Z+bgUQtfoT1Ig/TITH8xK/rsF7JObb/5OYyb3UBPk4vx/6RBgHRUnI7UYMaiaLeB4aHXwX39wmrveDIreWTL+i5lHc5IgmXql9jGKV/EAAAAggGfJGpC3zvCG0EP4+YNp9xXICWrSdcnbmgOlqDIsZ6Eax7mTQ/yhNx+Na5CfT/f8+O8H61h2nrTP7ZljSb94gFWKZ6jSJv1KxK8ZOZe+pJAvlmjFT5/5MfaPpnyCuj0nqfha62WOZGYdoLmx7ofWyQpEyR/DFVglUr/jfjLn+u1AiAAABEHbW9vdgAAAGxtdmhkAAAAAAAAAAAAAAAAAAAD6AAAKasAAQAAAQAAAAAAAAAAAAAAAAEAAAAAAAAAAAAAAAAAAAABAAAAAAAAAAAAAAAAAABAAAAAAAAAAAAAAAAAAAAAAAAAAAAAAAAAAAAAAAAAAgAAEDF0cmFrAAAAXHRraGQAAAADAAAAAAAAAAAAAAABAAAAAAAAKasAAAAAAAAAAAAAAAAAAAAAAAEAAAAAAAAAAAAAAAAAAAABAAAAAAAAAAAAAAAAAABAAAAAAKAAAADSAAAAAAAkZWR0cwAAABxlbHN0AAAAAAAAAAEAACmrAAAEAAABAAAAAA+pbWRpYQAAACBtZGhkAAAAAAAAAAAAAAAAAAA8AAACgABVxAAAAAAALWhkbHIAAAAAAAAAAHZpZGUAAAAAAAAAAAAAAABWaWRlb0hhbmRsZXIAAAAPVG1pbmYAAAAUdm1oZAAAAAEAAAAAAAAAAAAAACRkaW5mAAAAHGRyZWYAAAAAAAAAAQAAAAx1cmwgAAAAAQAADxRzdGJsAAAAmHN0c2QAAAAAAAAAAQAAAIhhdmMxAAAAAAAAAAEAAAAAAAAAAAAAAAAAAAAAAKAA0gBIAAAASAAAAAAAAAABAAAAAAAAAAAAAAAAAAAAAAAAAAAAAAAAAAAAAAAAAAAAGP//AAAAMmF2Y0MBZAAM/+EAGWdkAAys2UKHfiIQAAADABAAAAMDwPFCmWABAAZo6+PLIsAAAAAYc3R0cwAAAAAAAAABAAABQAAAAgAAAAAYc3RzcwAAAAAAAAACAAAAAQAAAPsAAAkAY3R0cwAAAAAAAAEeAAAAAQAABAAAAAABAAAIAAAAAAIAAAIAAAAAAQAACgAAAAABAAAEAAAAAAEAAAAAAAAAAQAAAgAAAAABAAAKAAAAAAEAAAQAAAAAAQAAAAAAAAABAAACAAAAAAEAAAgAAAAAAgAAAgAAAAABAAAIAAAAAAIAAAIAAAAAAQAABAAAAAABAAAGAAAAAAEAAAIAAAAAAQAACAAAAAACAAACAAAAAAEAAAoAAAAAAQAABAAAAAABAAAAAAAAAAEAAAIAAAAAAQAACAAAAAACAAACAAAAAAEAAAoAAAAAAQAABAAAAAABAAAAAAAAAAEAAAIAAAAAAQAACgAAAAABAAAEAAAAAAEAAAAAAAAAAQAAAgAAAAABAAAEAAAAAAEAAAYAAAAAAQAAAgAAAAABAAAIAAAAAAIAAAIAAAAAAQAACAAAAAACAAACAAAAAAEAAAgAAAAAAgAAAgAAAAABAAAIAAAAAAIAAAIAAAAAAQAACgAAAAABAAAEAAAAAAEAAAAAAAAAAQAAAgAAAAABAAAGAAAAAAEAAAIAAAAAAQAACgAAAAABAAAEAAAAAAEAAAAAAAAAAQAAAgAAAAABAAAKAAAAAAEAAAQAAAAAAQAAAAAAAAABAAACAAAAAAEAAAoAAAAAAQAABAAAAAABAAAAAAAAAAEAAAIAAAAAAQAACAAAAAACAAACAAAAAAEAAAYAAAAAAQAAAgAAAAABAAAIAAAAAAIAAAIAAAAAAQAABgAAAAABAAACAAAAAAEAAAYAAAAAAQAAAgAAAAABAAAKAAAAAAEAAAQAAAAAAQAAAAAAAAABAAACAAAAAAEAAAYAAAAAAQAAAgAAAAABAAAGAAAAAAEAAAIAAAAAAQAABAAAAAABAAAKAAAAAAEAAAQAAAAAAQAAAAAAAAABAAACAAAAAAEAAAoAAAAAAQAABAAAAAABAAAAAAAAAAEAAAIAAAAAAQAACgAAAAABAAAEAAAAAAEAAAAAAAAAAQAAAgAAAAABAAAKAAAAAAEAAAQAAAAAAQAAAAAAAAABAAACAAAAAAIAAAQAAAAAAQAABgAAAAABAAACAAAAAAEAAAgAAAAAAgAAAgAAAAABAAAIAAAAAAIAAAIAAAAAAQAACAAAAAACAAACAAAAAAEAAAoAAAAAAQAABAAAAAABAAAAAAAAAAEAAAIAAAAAAQAACAAAAAACAAACAAAAAAEAAAYAAAAAAQAAAgAAAAABAAAEAAAAAAEAAAoAAAAAAQAABAAAAAABAAAAAAAAAAEAAAIAAAAAAQAACgAAAAABAAAEAAAAAAEAAAAAAAAAAQAAAgAAAAADAAAEAAAAAAEAAAoAAAAAAQAABAAAAAABAAAAAAAAAAEAAAIAAAAAAQAACgAAAAABAAAEAAAAAAEAAAAAAAAAAQAAAgAAAAABAAAIAAAAAAIAAAIAAAAAAQAACgAAAAABAAAEAAAAAAEAAAAAAAAAAQAAAgAAAAABAAAKAAAAAAEAAAQAAAAAAQAAAAAAAAABAAACAAAAAAEAAAoAAAAAAQAABAAAAAABAAAAAAAAAAEAAAIAAAAAAgAABAAAAAABAAAGAAAAAAEAAAIAAAAAAQAACgAAAAABAAAEAAAAAAEAAAAAAAAAAQAAAgAAAAABAAAGAAAAAAEAAAIAAAAAAQAABgAAAAABAAACAAAAAAEAAAoAAAAAAQAABAAAAAABAAAAAAAAAAEAAAIAAAAAAQAABAAAAAABAAAKAAAAAAEAAAQAAAAAAQAAAAAAAAABAAACAAAAAAEAAAoAAAAAAQAABAAAAAABAAAAAAAAAAEAAAIAAAAAAQAABAAAAAABAAAKAAAAAAEAAAQAAAAAAQAAAAAAAAABAAACAAAAAAEAAAgAAAAAAgAAAgAAAAABAAAKAAAAAAEAAAQAAAAAAQAAAAAAAAABAAACAAAAAAMAAAQAAAAAAQAABgAAAAABAAACAAAAAAEAAAQAAAAAAQAACgAAAAABAAAEAAAAAAEAAAAAAAAAAQAAAgAAAAABAAAEAAAAAAEAAAoAAAAAAQAABAAAAAABAAAAAAAAAAEAAAIAAAAAAQAABAAAAAABAAAKAAAAAAEAAAQAAAAAAQAAAAAAAAABAAACAAAAAAEAAAoAAAAAAQAABAAAAAABAAAAAAAAAAEAAAIAAAAAAQAACAAAAAACAAACAAAAAAEAAAoAAAAAAQAABAAAAAABAAAAAAAAAAEAAAIAAAAAAQAABAAAAAABAAAKAAAAAAEAAAQAAAAAAQAAAAAAAAABAAACAAAAAAEAAAYAAAAAAQAAAgAAAAABAAAKAAAAAAEAAAQAAAAAAQAAAAAAAAABAAACAAAAAAEAAAoAAAAAAQAABAAAAAABAAAAAAAAAAEAAAIAAAAAAgAABAAAAAABAAAKAAAAAAEAAAQAAAAAAQAAAAAAAAABAAACAAAAAAEAAAoAAAAAAQAABAAAAAABAAAAAAAAAAEAAAIAAAAAAQAACgAAAAABAAAEAAAAAAEAAAAAAAAAAQAAAgAAAAABAAAKAAAAAAEAAAQAAAAAAQAAAAAAAAABAAACAAAAAAEAAAgAAAAAAgAAAgAAAAABAAAGAAAAAAEAAAIAAAAAAQAACAAAAAACAAACAAAAAAEAAAYAAAAAAQAAAgAAAAABAAAIAAAAAAIAAAIAAAAAAQAACgAAAAABAAAEAAAAAAEAAAAAAAAAAQAAAgAAAAABAAAKAAAAAAEAAAQAAAAAAQAAAAAAAAABAAACAAAAAAEAAAgAAAAAAgAAAgAAAAABAAAGAAAAAAEAAAIAAAAAAQAACAAAAAACAAACAAAAAAEAAAYAAAAAAQAAAgAAAAABAAAIAAAAAAIAAAIAAAAAAQAABgAAAAABAAACAAAAAAEAAAgAAAAAAgAAAgAAAAABAAAIAAAAAAIAAAIAAAAAAQAABgAAAAABAAACAAAAAAEAAAQAAAAAAQAABgAAAAABAAACAAAAAAEAAAQAAAAAAQAABgAAAAABAAACAAAAAAEAAAgAAAAAAgAAAgAAAAAcc3RzYwAAAAAAAAABAAAAAQAAAUAAAAABAAAFFHN0c3oAAAAAAAAAAAAAAUAAABleAAABngAAAEQAAAA6AAAA4AAAAD4AAAA8AAAAGAAAAHAAAAA5AAAAKQAAADsAAAB8AAAAEAAAAE4AAABDAAAAOAAAADkAAACSAAAAPwAAAEYAAAAZAAAAZAAAACEAAABWAAAAFgAAACUAAAARAAAAmQAAACsAAAA7AAAAGQAAADQAAAAaAAAANQAAACkAAABHAAAAMQAAADcAAABjAAAAogAAAE4AAAAcAAAALQAAAA8AAACWAAAAVwAAACUAAAAdAAAAEgAAADkAAACVAAAAKwAAACYAAAB3AAAAYgAAABAAAAAiAAAAlQAAAEQAAAAfAAAAGAAAADIAAAARAAAAgwAAACkAAAAqAAAAEQAAAIgAAAAQAAAAEQAAACQAAAAdAAAAEwAAACUAAACBAAAAOwAAAFsAAAATAAAADwAAAIIAAAAmAAAAVQAAAEwAAACPAAAATQAAAA4AAAAtAAAAtwAAACcAAAFfAAAAYgAAAJcAAACyAAAArAAAAGcAAACRAAABCwAAAKcAAAB+AAAAdQAAARcAAAC2AAAAjgAAAIYAAAEYAAAAjwAAAF0AAABVAAAAYwAAAaoAAADKAAAAQQAAAPQAAAB/AAAARwAAAXIAAAELAAAAkgAAAVgAAADGAAAAdQAAAWEAAADnAAAAhgAAAI8AAAFNAAAAlgAAADkAAAFaAAAAgQAAAM0AAAHqAAABCQAAAHoAAABhAAAB9AAAAQAAAACuAAAAVwAAAMQAAACaAAABrAAAAqEAAADKAAAAgwAAAPkAAAI0AAABGQAAAHEAAAB8AAABvAAAAKQAAACRAAABugAAAKkAAABfAAAAqAAAAfwAAAFmAAAAlQAAAH8AAAGwAAABNgAAAMcAAACTAAAAtgAAAQQAAAIjAAAAoQAAAWEAAAC5AAAAmgAAAHkAAAD9AAABAwAAASUAAADXAAACBgAAANkAAAChAAAAwwAAAQgAAAGpAAABIwAAAOAAAADUAAABQAAAASgAAADlAAAAsgAAAQ8AAAJAAAABDgAAAHsAAACqAAACGgAAASwAAACOAAACOgAAAP8AAACrAAAAkAAAANEAAADzAAABsgAAAmoAAAC4AAABUQAAAksAAAD3AAAAxwAAAIAAAAFEAAABrwAAAKAAAAB6AAAAtAAAAHIAAAGuAAAA7wAAAKUAAADCAAACUgAAASAAAAC0AAAAjwAAAY8AAAE2AAAA8QAAAZ0AAAD/AAAAtQAAAIsAAADFAAACNwAAAPwAAACMAAAAqQAAAZYAAAB9AAABlAAAAV0AAADbAAAAngAAAWsAAACEAAAAYwAAAB8AAAA5AAAZhAAAAdoAAADdAAAAEQAAAC8AAAE+AAAAJgAAABcAAAAXAAAATgAAAFwAAAAXAAAADwAAABkAAAA5AAAADgAAAA4AAAHCAAAAEAAAAA4AAACYAAAALQAAAJ4AAABHAAAAEwAAAG4AAABPAAAAiQAAAEQAAAAOAAAAOwAAABMAAAA4AAAAHgAAAHMAAAAQAAAADgAAADkAAACmAAAANwAAAD8AAAA/AAAAOAAAAH0AAABXAAAADgAAAGsAAABXAAAAOwAAADMAAAAQAAAAgwAAAD0AAACFAAAAEgAAAA4AAAA/AAAASAAAAC8AAADVAAAAZgAAALAAAABuAAAAawAAAIQAAACbAAAAXwAAAKQAAAB7AAAAhgAAABRzdGNvAAAAAAAAAAEAAAAwAAAAYnVkdGEAAABabWV0YQAAAAAAAAAhaGRscgAAAAAAAAAAbWRpcmFwcGwAAAAAAAAAAAAAAAAtaWxzdAAAACWpdG9vAAAAHWRhdGEAAAABAAAAAExhdmY1Ny44My4xMDA=\" type=\"video/mp4\" />\n",
              "             </video>"
            ],
            "text/plain": [
              "<IPython.core.display.HTML object>"
            ]
          },
          "metadata": {
            "tags": []
          }
        }
      ]
    }
  ]
}